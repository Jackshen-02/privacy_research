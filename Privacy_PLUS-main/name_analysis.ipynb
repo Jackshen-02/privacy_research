{
 "cells": [
  {
   "cell_type": "code",
   "execution_count": 1,
   "metadata": {},
   "outputs": [
    {
     "name": "stdout",
     "output_type": "stream",
     "text": [
      "Collecting names-dataset\n",
      "  Downloading names-dataset-3.1.0.tar.gz (58.4 MB)\n",
      "\u001b[2K     \u001b[90m━━━━━━━━━━━━━━━━━━━━━━━━━━━━━━━━━━━━━━━━\u001b[0m \u001b[32m58.4/58.4 MB\u001b[0m \u001b[31m7.3 MB/s\u001b[0m eta \u001b[36m0:00:00\u001b[0m00:01\u001b[0m00:01\u001b[0m\n",
      "\u001b[?25h  Preparing metadata (setup.py) ... \u001b[?25ldone\n",
      "\u001b[?25hCollecting pycountry (from names-dataset)\n",
      "  Downloading pycountry-24.6.1-py3-none-any.whl.metadata (12 kB)\n",
      "Downloading pycountry-24.6.1-py3-none-any.whl (6.3 MB)\n",
      "\u001b[2K   \u001b[90m━━━━━━━━━━━━━━━━━━━━━━━━━━━━━━━━━━━━━━━━\u001b[0m \u001b[32m6.3/6.3 MB\u001b[0m \u001b[31m10.4 MB/s\u001b[0m eta \u001b[36m0:00:00\u001b[0m00:01\u001b[0m00:01\u001b[0m\n",
      "\u001b[?25hBuilding wheels for collected packages: names-dataset\n",
      "  Building wheel for names-dataset (setup.py) ... \u001b[?25ldone\n",
      "\u001b[?25h  Created wheel for names-dataset: filename=names_dataset-3.1.0-py3-none-any.whl size=116832759 sha256=a763f5b3dcf12d58fd2d4116fc2babac9c23593d9f6efe49dee267c39df6dab3\n",
      "  Stored in directory: /Users/yuntianshen/Library/Caches/pip/wheels/c2/e9/aa/2306c390640835aea9ead91c2deddd1a87a739ab3ee41f5ac4\n",
      "Successfully built names-dataset\n",
      "Installing collected packages: pycountry, names-dataset\n",
      "Successfully installed names-dataset-3.1.0 pycountry-24.6.1\n"
     ]
    }
   ],
   "source": [
    "!pip install names-dataset"
   ]
  },
  {
   "cell_type": "code",
   "execution_count": null,
   "metadata": {},
   "outputs": [],
   "source": [
    "from names_dataset import NameDataset, NameWrapper\n"
   ]
  }
 ],
 "metadata": {
  "kernelspec": {
   "display_name": "Python 3",
   "language": "python",
   "name": "python3"
  },
  "language_info": {
   "codemirror_mode": {
    "name": "ipython",
    "version": 3
   },
   "file_extension": ".py",
   "mimetype": "text/x-python",
   "name": "python",
   "nbconvert_exporter": "python",
   "pygments_lexer": "ipython3",
   "version": "3.12.4"
  }
 },
 "nbformat": 4,
 "nbformat_minor": 2
}
