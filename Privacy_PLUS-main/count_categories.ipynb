{
 "cells": [
  {
   "cell_type": "code",
   "execution_count": 17,
   "metadata": {},
   "outputs": [
    {
     "name": "stdout",
     "output_type": "stream",
     "text": [
      "NAME_STUDENT: 4394\n",
      "URL_PERSONAL: 352\n",
      "EMAIL: 111\n",
      "ID_NUM: 218\n",
      "USERNAME: 19\n",
      "PHONE_NUM: 14\n",
      "STREET_ADDRESS: 9\n"
     ]
    }
   ],
   "source": [
    "import ast\n",
    "from collections import Counter\n",
    "\n",
    "name_set_true = set()\n",
    "url_set_true = set()\n",
    "email_set_true = set()\n",
    "\n",
    "# processing true categories\n",
    "true_categories = Counter()\n",
    "with open('pii_entities.txt', 'r') as file:\n",
    "    for line in file:\n",
    "        line = line.strip()\n",
    "        \n",
    "        # convert the string to a tuple\n",
    "        tup = ast.literal_eval(line)\n",
    "        \n",
    "        # increment this category's count in dictionary\n",
    "        category = tup[2]\n",
    "        true_categories[category] += 1\n",
    "        \n",
    "        new_tup = (tup[0],tup[1],tup[3])\n",
    "        if category == 'NAME_STUDENT':\n",
    "            name_set_true.add(new_tup)\n",
    "        elif category == 'URL_PERSONAL':\n",
    "            url_set_true.add(new_tup)\n",
    "        elif category == 'EMAIL':\n",
    "            email_set_true.add(new_tup)\n",
    "        \n",
    "# print categories\n",
    "for key, count in true_categories.items():\n",
    "    print(f\"{key}: {count}\")\n"
   ]
  },
  {
   "cell_type": "code",
   "execution_count": 18,
   "metadata": {},
   "outputs": [
    {
     "name": "stdout",
     "output_type": "stream",
     "text": [
      "PERSON: 310\n",
      "URL: 69\n",
      "LOCATION: 232\n",
      "EMAIL_ADDRESS: 1\n"
     ]
    }
   ],
   "source": [
    "name_set_detected = set()\n",
    "url_set_detected = set()\n",
    "email_set_detected = set()\n",
    "\n",
    "# processing detected categories\n",
    "detected_categories = Counter()\n",
    "with open('pii_entities_detected.txt', 'r') as file:\n",
    "    for line in file:\n",
    "        line = line.strip()\n",
    "        \n",
    "        # convert the string to a tuple\n",
    "        tup = ast.literal_eval(line)\n",
    "        \n",
    "        # increment this category's count in dictionary\n",
    "        category = tup[2]\n",
    "        detected_categories[category] += 1\n",
    "        \n",
    "        new_tup = (tup[0],tup[1],tup[3])\n",
    "        if category == 'PERSON':\n",
    "            name_set_detected.add(new_tup)\n",
    "        elif category == 'URL':\n",
    "            url_set_detected.add(new_tup)\n",
    "        elif category == 'EMAIL_ADDRESS':\n",
    "            email_set_detected.add(new_tup)\n",
    "    \n",
    "    \n",
    "# print categories\n",
    "for key, count in detected_categories.items():\n",
    "    print(f\"{key}: {count}\")"
   ]
  },
  {
   "cell_type": "code",
   "execution_count": null,
   "metadata": {},
   "outputs": [],
   "source": [
    "# true categories: ID_NUM, USERNAME, PHONE_NUM, STREET_ADDRESS have no mapping\n",
    "# detected categories: LOCATION has no mapping\n",
    "\n",
    "# only calculating metrics for NAME_STUDENT/PERSON, URL_PERSONAL/URL, EMAIL/EMAIL_ADDRESS mappings\n"
   ]
  },
  {
   "cell_type": "code",
   "execution_count": 24,
   "metadata": {},
   "outputs": [],
   "source": [
    "def calculate_metrics(synthetic_set, analyzed_set):\n",
    "    tp = 0\n",
    "    fp = 0\n",
    "    fn = 0\n",
    "    \n",
    "    for analyzed in analyzed_set:\n",
    "        if analyzed in synthetic_set:\n",
    "            tp += 1 # true PII, detected by presidio\n",
    "            # print(f\"TP: {analyzed}\")\n",
    "        else: # false PII, detected by presidio\n",
    "            fp += 1\n",
    "            # print(f\"FP: {analyzed}\")\n",
    "    \n",
    "    for synthetic in synthetic_set:\n",
    "        if synthetic not in analyzed_set:\n",
    "            fn += 1\n",
    "            # print(f\"FN: {synthetic}\")\n",
    "\n",
    "    return tp, fp, fn\n",
    "\n",
    "def compute_precision_recall_f1(tp, fp, fn):\n",
    "    precision = tp / (tp + fp) if tp + fp > 0 else 0\n",
    "    recall = tp / (tp + fn) if tp + fn > 0 else 0\n",
    "    f1 = 2 * (precision * recall) / (precision + recall) if precision + recall > 0 else 0\n",
    "    return precision, recall, f1"
   ]
  },
  {
   "cell_type": "code",
   "execution_count": 25,
   "metadata": {},
   "outputs": [
    {
     "name": "stdout",
     "output_type": "stream",
     "text": [
      "Name -- Precision: 0.15806451612903225, Recall: 0.011151570323167955, F1 Score: 0.020833333333333332\n",
      "URL -- Precision: 0.043478260869565216, Recall: 0.008522727272727272, F1 Score: 0.014251781472684084\n",
      "Email -- Precision: 1.0, Recall: 0.009009009009009009, F1 Score: 0.01785714285714286\n"
     ]
    }
   ],
   "source": [
    "# Calculate TP, FP, FN, TN\n",
    "tp_n, fp_n, fn_n = calculate_metrics(name_set_true, name_set_detected)\n",
    "tp_u, fp_u, fn_u = calculate_metrics(url_set_true, url_set_detected)\n",
    "tp_e, fp_e, fn_e = calculate_metrics(email_set_true, email_set_detected)\n",
    "\n",
    "# Compute Precision, Recall, and F1 Score\n",
    "precision_n, recall_n, f1_n = compute_precision_recall_f1(tp_n, fp_n, fn_n)\n",
    "precision_u, recall_u, f1_u = compute_precision_recall_f1(tp_u, fp_u, fn_u)\n",
    "precision_e, recall_e, f1_e = compute_precision_recall_f1(tp_e, fp_e, fn_e)\n",
    "\n",
    "print(f\"Name -- Precision: {precision_n}, Recall: {recall_n}, F1 Score: {f1_n}\")\n",
    "print(f\"URL -- Precision: {precision_u}, Recall: {recall_u}, F1 Score: {f1_u}\")\n",
    "print(f\"Email -- Precision: {precision_e}, Recall: {recall_e}, F1 Score: {f1_e}\")"
   ]
  }
 ],
 "metadata": {
  "kernelspec": {
   "display_name": "Python 3",
   "language": "python",
   "name": "python3"
  },
  "language_info": {
   "codemirror_mode": {
    "name": "ipython",
    "version": 3
   },
   "file_extension": ".py",
   "mimetype": "text/x-python",
   "name": "python",
   "nbconvert_exporter": "python",
   "pygments_lexer": "ipython3",
   "version": "3.9.6"
  }
 },
 "nbformat": 4,
 "nbformat_minor": 2
}
