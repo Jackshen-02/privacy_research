{
 "cells": [
  {
   "cell_type": "code",
   "execution_count": 1,
   "metadata": {},
   "outputs": [
    {
     "name": "stdout",
     "output_type": "stream",
     "text": [
      "Requirement already satisfied: presidio_analyzer[transformers] in /Users/yuntianshen/Desktop/College/Research/privacy_research/.conda/lib/python3.12/site-packages (2.2.354)\n",
      "Requirement already satisfied: spacy<4.0.0,>=3.4.4 in /Users/yuntianshen/Desktop/College/Research/privacy_research/.conda/lib/python3.12/site-packages (from presidio_analyzer[transformers]) (3.7.5)\n",
      "Requirement already satisfied: regex in /Users/yuntianshen/Desktop/College/Research/privacy_research/.conda/lib/python3.12/site-packages (from presidio_analyzer[transformers]) (2024.5.15)\n",
      "Requirement already satisfied: tldextract in /Users/yuntianshen/Desktop/College/Research/privacy_research/.conda/lib/python3.12/site-packages (from presidio_analyzer[transformers]) (5.1.2)\n",
      "Requirement already satisfied: pyyaml in /Users/yuntianshen/Desktop/College/Research/privacy_research/.conda/lib/python3.12/site-packages (from presidio_analyzer[transformers]) (6.0.1)\n",
      "Requirement already satisfied: phonenumbers<9.0.0,>=8.12 in /Users/yuntianshen/Desktop/College/Research/privacy_research/.conda/lib/python3.12/site-packages (from presidio_analyzer[transformers]) (8.13.38)\n",
      "Requirement already satisfied: spacy-huggingface-pipelines in /Users/yuntianshen/Desktop/College/Research/privacy_research/.conda/lib/python3.12/site-packages (from presidio_analyzer[transformers]) (0.0.4)\n",
      "Requirement already satisfied: spacy-legacy<3.1.0,>=3.0.11 in /Users/yuntianshen/Desktop/College/Research/privacy_research/.conda/lib/python3.12/site-packages (from spacy<4.0.0,>=3.4.4->presidio_analyzer[transformers]) (3.0.12)\n",
      "Requirement already satisfied: spacy-loggers<2.0.0,>=1.0.0 in /Users/yuntianshen/Desktop/College/Research/privacy_research/.conda/lib/python3.12/site-packages (from spacy<4.0.0,>=3.4.4->presidio_analyzer[transformers]) (1.0.5)\n",
      "Requirement already satisfied: murmurhash<1.1.0,>=0.28.0 in /Users/yuntianshen/Desktop/College/Research/privacy_research/.conda/lib/python3.12/site-packages (from spacy<4.0.0,>=3.4.4->presidio_analyzer[transformers]) (1.0.10)\n",
      "Requirement already satisfied: cymem<2.1.0,>=2.0.2 in /Users/yuntianshen/Desktop/College/Research/privacy_research/.conda/lib/python3.12/site-packages (from spacy<4.0.0,>=3.4.4->presidio_analyzer[transformers]) (2.0.8)\n",
      "Requirement already satisfied: preshed<3.1.0,>=3.0.2 in /Users/yuntianshen/Desktop/College/Research/privacy_research/.conda/lib/python3.12/site-packages (from spacy<4.0.0,>=3.4.4->presidio_analyzer[transformers]) (3.0.9)\n",
      "Requirement already satisfied: thinc<8.3.0,>=8.2.2 in /Users/yuntianshen/Desktop/College/Research/privacy_research/.conda/lib/python3.12/site-packages (from spacy<4.0.0,>=3.4.4->presidio_analyzer[transformers]) (8.2.4)\n",
      "Requirement already satisfied: wasabi<1.2.0,>=0.9.1 in /Users/yuntianshen/Desktop/College/Research/privacy_research/.conda/lib/python3.12/site-packages (from spacy<4.0.0,>=3.4.4->presidio_analyzer[transformers]) (1.1.3)\n",
      "Requirement already satisfied: srsly<3.0.0,>=2.4.3 in /Users/yuntianshen/Desktop/College/Research/privacy_research/.conda/lib/python3.12/site-packages (from spacy<4.0.0,>=3.4.4->presidio_analyzer[transformers]) (2.4.8)\n",
      "Requirement already satisfied: catalogue<2.1.0,>=2.0.6 in /Users/yuntianshen/Desktop/College/Research/privacy_research/.conda/lib/python3.12/site-packages (from spacy<4.0.0,>=3.4.4->presidio_analyzer[transformers]) (2.0.10)\n",
      "Requirement already satisfied: weasel<0.5.0,>=0.1.0 in /Users/yuntianshen/Desktop/College/Research/privacy_research/.conda/lib/python3.12/site-packages (from spacy<4.0.0,>=3.4.4->presidio_analyzer[transformers]) (0.4.1)\n",
      "Requirement already satisfied: typer<1.0.0,>=0.3.0 in /Users/yuntianshen/Desktop/College/Research/privacy_research/.conda/lib/python3.12/site-packages (from spacy<4.0.0,>=3.4.4->presidio_analyzer[transformers]) (0.12.3)\n",
      "Requirement already satisfied: tqdm<5.0.0,>=4.38.0 in /Users/yuntianshen/Desktop/College/Research/privacy_research/.conda/lib/python3.12/site-packages (from spacy<4.0.0,>=3.4.4->presidio_analyzer[transformers]) (4.66.4)\n",
      "Requirement already satisfied: requests<3.0.0,>=2.13.0 in /Users/yuntianshen/Desktop/College/Research/privacy_research/.conda/lib/python3.12/site-packages (from spacy<4.0.0,>=3.4.4->presidio_analyzer[transformers]) (2.32.3)\n",
      "Requirement already satisfied: pydantic!=1.8,!=1.8.1,<3.0.0,>=1.7.4 in /Users/yuntianshen/Desktop/College/Research/privacy_research/.conda/lib/python3.12/site-packages (from spacy<4.0.0,>=3.4.4->presidio_analyzer[transformers]) (2.7.4)\n",
      "Requirement already satisfied: jinja2 in /Users/yuntianshen/Desktop/College/Research/privacy_research/.conda/lib/python3.12/site-packages (from spacy<4.0.0,>=3.4.4->presidio_analyzer[transformers]) (3.1.4)\n",
      "Requirement already satisfied: setuptools in /Users/yuntianshen/Desktop/College/Research/privacy_research/.conda/lib/python3.12/site-packages (from spacy<4.0.0,>=3.4.4->presidio_analyzer[transformers]) (69.5.1)\n",
      "Requirement already satisfied: packaging>=20.0 in /Users/yuntianshen/Desktop/College/Research/privacy_research/.conda/lib/python3.12/site-packages (from spacy<4.0.0,>=3.4.4->presidio_analyzer[transformers]) (24.1)\n",
      "Requirement already satisfied: langcodes<4.0.0,>=3.2.0 in /Users/yuntianshen/Desktop/College/Research/privacy_research/.conda/lib/python3.12/site-packages (from spacy<4.0.0,>=3.4.4->presidio_analyzer[transformers]) (3.4.0)\n",
      "Requirement already satisfied: numpy>=1.19.0 in /Users/yuntianshen/Desktop/College/Research/privacy_research/.conda/lib/python3.12/site-packages (from spacy<4.0.0,>=3.4.4->presidio_analyzer[transformers]) (1.26.4)\n",
      "Requirement already satisfied: transformers<5.0.0,>=4.28.0 in /Users/yuntianshen/Desktop/College/Research/privacy_research/.conda/lib/python3.12/site-packages (from spacy-huggingface-pipelines->presidio_analyzer[transformers]) (4.41.2)\n",
      "Requirement already satisfied: torch>=1.8.0 in /Users/yuntianshen/Desktop/College/Research/privacy_research/.conda/lib/python3.12/site-packages (from spacy-huggingface-pipelines->presidio_analyzer[transformers]) (2.3.1)\n",
      "Requirement already satisfied: idna in /Users/yuntianshen/Desktop/College/Research/privacy_research/.conda/lib/python3.12/site-packages (from tldextract->presidio_analyzer[transformers]) (3.7)\n",
      "Requirement already satisfied: requests-file>=1.4 in /Users/yuntianshen/Desktop/College/Research/privacy_research/.conda/lib/python3.12/site-packages (from tldextract->presidio_analyzer[transformers]) (2.1.0)\n",
      "Requirement already satisfied: filelock>=3.0.8 in /Users/yuntianshen/Desktop/College/Research/privacy_research/.conda/lib/python3.12/site-packages (from tldextract->presidio_analyzer[transformers]) (3.15.1)\n",
      "Requirement already satisfied: language-data>=1.2 in /Users/yuntianshen/Desktop/College/Research/privacy_research/.conda/lib/python3.12/site-packages (from langcodes<4.0.0,>=3.2.0->spacy<4.0.0,>=3.4.4->presidio_analyzer[transformers]) (1.2.0)\n",
      "Requirement already satisfied: annotated-types>=0.4.0 in /Users/yuntianshen/Desktop/College/Research/privacy_research/.conda/lib/python3.12/site-packages (from pydantic!=1.8,!=1.8.1,<3.0.0,>=1.7.4->spacy<4.0.0,>=3.4.4->presidio_analyzer[transformers]) (0.7.0)\n",
      "Requirement already satisfied: pydantic-core==2.18.4 in /Users/yuntianshen/Desktop/College/Research/privacy_research/.conda/lib/python3.12/site-packages (from pydantic!=1.8,!=1.8.1,<3.0.0,>=1.7.4->spacy<4.0.0,>=3.4.4->presidio_analyzer[transformers]) (2.18.4)\n",
      "Requirement already satisfied: typing-extensions>=4.6.1 in /Users/yuntianshen/Desktop/College/Research/privacy_research/.conda/lib/python3.12/site-packages (from pydantic!=1.8,!=1.8.1,<3.0.0,>=1.7.4->spacy<4.0.0,>=3.4.4->presidio_analyzer[transformers]) (4.12.2)\n",
      "Requirement already satisfied: charset-normalizer<4,>=2 in /Users/yuntianshen/Desktop/College/Research/privacy_research/.conda/lib/python3.12/site-packages (from requests<3.0.0,>=2.13.0->spacy<4.0.0,>=3.4.4->presidio_analyzer[transformers]) (3.3.2)\n",
      "Requirement already satisfied: urllib3<3,>=1.21.1 in /Users/yuntianshen/Desktop/College/Research/privacy_research/.conda/lib/python3.12/site-packages (from requests<3.0.0,>=2.13.0->spacy<4.0.0,>=3.4.4->presidio_analyzer[transformers]) (2.2.1)\n",
      "Requirement already satisfied: certifi>=2017.4.17 in /Users/yuntianshen/Desktop/College/Research/privacy_research/.conda/lib/python3.12/site-packages (from requests<3.0.0,>=2.13.0->spacy<4.0.0,>=3.4.4->presidio_analyzer[transformers]) (2024.6.2)\n",
      "Requirement already satisfied: blis<0.8.0,>=0.7.8 in /Users/yuntianshen/Desktop/College/Research/privacy_research/.conda/lib/python3.12/site-packages (from thinc<8.3.0,>=8.2.2->spacy<4.0.0,>=3.4.4->presidio_analyzer[transformers]) (0.7.11)\n",
      "Requirement already satisfied: confection<1.0.0,>=0.0.1 in /Users/yuntianshen/Desktop/College/Research/privacy_research/.conda/lib/python3.12/site-packages (from thinc<8.3.0,>=8.2.2->spacy<4.0.0,>=3.4.4->presidio_analyzer[transformers]) (0.1.5)\n",
      "Requirement already satisfied: sympy in /Users/yuntianshen/Desktop/College/Research/privacy_research/.conda/lib/python3.12/site-packages (from torch>=1.8.0->spacy-huggingface-pipelines->presidio_analyzer[transformers]) (1.12.1)\n",
      "Requirement already satisfied: networkx in /Users/yuntianshen/Desktop/College/Research/privacy_research/.conda/lib/python3.12/site-packages (from torch>=1.8.0->spacy-huggingface-pipelines->presidio_analyzer[transformers]) (3.3)\n",
      "Requirement already satisfied: fsspec in /Users/yuntianshen/Desktop/College/Research/privacy_research/.conda/lib/python3.12/site-packages (from torch>=1.8.0->spacy-huggingface-pipelines->presidio_analyzer[transformers]) (2024.6.0)\n",
      "Requirement already satisfied: huggingface-hub<1.0,>=0.23.0 in /Users/yuntianshen/Desktop/College/Research/privacy_research/.conda/lib/python3.12/site-packages (from transformers<5.0.0,>=4.28.0->spacy-huggingface-pipelines->presidio_analyzer[transformers]) (0.23.3)\n",
      "Requirement already satisfied: tokenizers<0.20,>=0.19 in /Users/yuntianshen/Desktop/College/Research/privacy_research/.conda/lib/python3.12/site-packages (from transformers<5.0.0,>=4.28.0->spacy-huggingface-pipelines->presidio_analyzer[transformers]) (0.19.1)\n",
      "Requirement already satisfied: safetensors>=0.4.1 in /Users/yuntianshen/Desktop/College/Research/privacy_research/.conda/lib/python3.12/site-packages (from transformers<5.0.0,>=4.28.0->spacy-huggingface-pipelines->presidio_analyzer[transformers]) (0.4.3)\n",
      "Requirement already satisfied: click>=8.0.0 in /Users/yuntianshen/Desktop/College/Research/privacy_research/.conda/lib/python3.12/site-packages (from typer<1.0.0,>=0.3.0->spacy<4.0.0,>=3.4.4->presidio_analyzer[transformers]) (8.1.7)\n",
      "Requirement already satisfied: shellingham>=1.3.0 in /Users/yuntianshen/Desktop/College/Research/privacy_research/.conda/lib/python3.12/site-packages (from typer<1.0.0,>=0.3.0->spacy<4.0.0,>=3.4.4->presidio_analyzer[transformers]) (1.5.4)\n",
      "Requirement already satisfied: rich>=10.11.0 in /Users/yuntianshen/Desktop/College/Research/privacy_research/.conda/lib/python3.12/site-packages (from typer<1.0.0,>=0.3.0->spacy<4.0.0,>=3.4.4->presidio_analyzer[transformers]) (13.7.1)\n",
      "Requirement already satisfied: cloudpathlib<1.0.0,>=0.7.0 in /Users/yuntianshen/Desktop/College/Research/privacy_research/.conda/lib/python3.12/site-packages (from weasel<0.5.0,>=0.1.0->spacy<4.0.0,>=3.4.4->presidio_analyzer[transformers]) (0.18.1)\n",
      "Requirement already satisfied: smart-open<8.0.0,>=5.2.1 in /Users/yuntianshen/Desktop/College/Research/privacy_research/.conda/lib/python3.12/site-packages (from weasel<0.5.0,>=0.1.0->spacy<4.0.0,>=3.4.4->presidio_analyzer[transformers]) (7.0.4)\n",
      "Requirement already satisfied: MarkupSafe>=2.0 in /Users/yuntianshen/Desktop/College/Research/privacy_research/.conda/lib/python3.12/site-packages (from jinja2->spacy<4.0.0,>=3.4.4->presidio_analyzer[transformers]) (2.1.5)\n",
      "Requirement already satisfied: marisa-trie>=0.7.7 in /Users/yuntianshen/Desktop/College/Research/privacy_research/.conda/lib/python3.12/site-packages (from language-data>=1.2->langcodes<4.0.0,>=3.2.0->spacy<4.0.0,>=3.4.4->presidio_analyzer[transformers]) (1.2.0)\n",
      "Requirement already satisfied: markdown-it-py>=2.2.0 in /Users/yuntianshen/Desktop/College/Research/privacy_research/.conda/lib/python3.12/site-packages (from rich>=10.11.0->typer<1.0.0,>=0.3.0->spacy<4.0.0,>=3.4.4->presidio_analyzer[transformers]) (3.0.0)\n",
      "Requirement already satisfied: pygments<3.0.0,>=2.13.0 in /Users/yuntianshen/Desktop/College/Research/privacy_research/.conda/lib/python3.12/site-packages (from rich>=10.11.0->typer<1.0.0,>=0.3.0->spacy<4.0.0,>=3.4.4->presidio_analyzer[transformers]) (2.18.0)\n",
      "Requirement already satisfied: wrapt in /Users/yuntianshen/Desktop/College/Research/privacy_research/.conda/lib/python3.12/site-packages (from smart-open<8.0.0,>=5.2.1->weasel<0.5.0,>=0.1.0->spacy<4.0.0,>=3.4.4->presidio_analyzer[transformers]) (1.16.0)\n",
      "Requirement already satisfied: mpmath<1.4.0,>=1.1.0 in /Users/yuntianshen/Desktop/College/Research/privacy_research/.conda/lib/python3.12/site-packages (from sympy->torch>=1.8.0->spacy-huggingface-pipelines->presidio_analyzer[transformers]) (1.3.0)\n",
      "Requirement already satisfied: mdurl~=0.1 in /Users/yuntianshen/Desktop/College/Research/privacy_research/.conda/lib/python3.12/site-packages (from markdown-it-py>=2.2.0->rich>=10.11.0->typer<1.0.0,>=0.3.0->spacy<4.0.0,>=3.4.4->presidio_analyzer[transformers]) (0.1.2)\n",
      "Note: you may need to restart the kernel to use updated packages.\n"
     ]
    },
    {
     "name": "stderr",
     "output_type": "stream",
     "text": [
      "/Users/yuntianshen/Desktop/College/Research/privacy_research/.conda/lib/python3.12/site-packages/tqdm/auto.py:21: TqdmWarning: IProgress not found. Please update jupyter and ipywidgets. See https://ipywidgets.readthedocs.io/en/stable/user_install.html\n",
      "  from .autonotebook import tqdm as notebook_tqdm\n",
      "Fetching 9 files: 100%|██████████| 9/9 [00:00<00:00, 98560.67it/s]\n"
     ]
    },
    {
     "name": "stdout",
     "output_type": "stream",
     "text": [
      "Entity: DATE_TIME, Text: January 3rd,, Start: 33, End: 45\n",
      "Entity: DATE_TIME, Text: 2020, Start: 46, End: 50\n",
      "Entity: PERSON, Text: Doe, Start: 5, End: 8\n",
      "Entity: PERSON, Text: John, Start: 0, End: 4\n"
     ]
    }
   ],
   "source": [
    "# %pip install \"presidio_analyzer[transformers]\"\n",
    "from presidio_analyzer import AnalyzerEngine, RecognizerRegistry\n",
    "from presidio_analyzer.nlp_engine import NlpEngineProvider\n",
    "from presidio_anonymizer import AnonymizerEngine\n",
    "from transformers import AutoTokenizer, AutoModelForTokenClassification\n",
    "from huggingface_hub import snapshot_download\n",
    "\n",
    "# Download and load transformer model\n",
    "transformer_model = \"obi/deid_roberta_i2b2\"\n",
    "snapshot_download(repo_id=transformer_model)\n",
    "AutoTokenizer.from_pretrained(transformer_model)\n",
    "AutoModelForTokenClassification.from_pretrained(transformer_model)\n",
    "\n",
    "# Configuration file path\n",
    "conf_file_path = \"Config/sample.yaml\"\n",
    "\n",
    "# Create NLP engine based on configuration\n",
    "provider = NlpEngineProvider(conf_file=conf_file_path)\n",
    "nlp_engine = provider.create_engine()\n",
    "\n",
    "# Initialize AnalyzerEngine with the created NLP engine\n",
    "analyzer = AnalyzerEngine(\n",
    "    nlp_engine=nlp_engine,\n",
    "    supported_languages=[\"en\", \"es\"]\n",
    ")\n",
    "\n",
    "# Example usage\n",
    "text = \"John Doe visited the hospital on January 3rd, 2020.\"\n",
    "results = analyzer.analyze(text=text, language=\"en\")\n",
    "\n",
    "for result in results:\n",
    "    print(f\"Entity: {result.entity_type}, Text: {text[result.start:result.end]}, Start: {result.start}, End: {result.end}\")\n"
   ]
  }
 ],
 "metadata": {
  "kernelspec": {
   "display_name": "Python 3",
   "language": "python",
   "name": "python3"
  },
  "language_info": {
   "codemirror_mode": {
    "name": "ipython",
    "version": 3
   },
   "file_extension": ".py",
   "mimetype": "text/x-python",
   "name": "python",
   "nbconvert_exporter": "python",
   "pygments_lexer": "ipython3",
   "version": "3.1.-1"
  }
 },
 "nbformat": 4,
 "nbformat_minor": 2
}
