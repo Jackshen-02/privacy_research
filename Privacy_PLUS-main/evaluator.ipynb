{
 "cells": [
  {
   "cell_type": "code",
   "execution_count": 6,
   "metadata": {},
   "outputs": [],
   "source": [
    "# Original\n",
    "# Only consider the first 500 (FP: 1454, Precision: 0.0352)\n",
    "# DATE_TIME already excluded\n",
    "# Reason that DATE_TIME is not necessary:\n",
    "# 1. DATE_TIME cannot associate to people names (don't know who said the date_time)\n",
    "# 2. DATE_TIME can be relevant to math problem descriptions if finally applied to PLUS tutoring team.\n",
    "# 3. ...?\n",
    "# Check Recall\n",
    "import ast\n",
    "from typing import List, Tuple\n",
    "\n",
    "# Define the type alias for PII entity\n",
    "pii_entity = Tuple[int, str, str, Tuple[int, int]]\n",
    "\n",
    "def load_entities(file_path: str) -> List[pii_entity]:\n",
    "    entities = []\n",
    "    with open(file_path, 'r') as file:\n",
    "        for line in file:\n",
    "            entity = ast.literal_eval(line.strip())\n",
    "            entities.append(entity)\n",
    "    return entities\n",
    "\n",
    "# Load true entities\n",
    "true_entities = load_entities('data/pii_entities.txt')\n",
    "\n",
    "def calculate_metrics(input_detected_entities):\n",
    "    detected_entities = load_entities(input_detected_entities)\n",
    "    # Exclude the entity type from the comparison\n",
    "    true_set = set((i, start, end) for i, _, _, (start, end) in true_entities)\n",
    "    detected_set = set((i, start, end) for i, _, _, (start, end) in detected_entities)\n",
    "\n",
    "    tp = true_set & detected_set\n",
    "    fp = detected_set - true_set\n",
    "    fn = true_set - detected_set\n",
    "\n",
    "    tp_count = len(tp)\n",
    "    fp_count = len(fp)\n",
    "    fn_count = len(fn)\n",
    "\n",
    "    precision = tp_count / (tp_count + fp_count) if (tp_count + fp_count) > 0 else 0\n",
    "    recall = tp_count / (tp_count + fn_count) if (tp_count + fn_count) > 0 else 0\n",
    "    f1_score = (2 * precision * recall) / (precision + recall) if (precision + recall) > 0 else 0\n",
    "    f5_score = (1 + 5**2) * (precision * recall) / ((5**2 * precision) + recall) if (precision + recall) > 0 else 0\n",
    "\n",
    "    print(f\"True Positives (TP): {tp_count}\")\n",
    "    print(f\"False Positives (FP): {fp_count}\")\n",
    "    print(f\"False Negatives (FN): {fn_count}\")\n",
    "    print(f\"Precision: {precision:.4f}\")\n",
    "    print(f\"Recall: {recall:.4f}\")\n",
    "    print(f\"F1-Score: {f1_score:.4f}\")\n",
    "    print(f\"F5-Score: {f5_score:.4f}\")\n"
   ]
  },
  {
   "cell_type": "code",
   "execution_count": 11,
   "metadata": {},
   "outputs": [
    {
     "name": "stdout",
     "output_type": "stream",
     "text": [
      "True Positives (TP): 3442\n",
      "False Positives (FP): 19606\n",
      "False Negatives (FN): 1429\n",
      "Precision: 0.1493\n",
      "Recall: 0.7066\n",
      "F1-Score: 0.2466\n",
      "F5-Score: 0.6179\n"
     ]
    }
   ],
   "source": [
    "calculate_metrics('output/pii_detected_lg.txt')"
   ]
  },
  {
   "cell_type": "code",
   "execution_count": 10,
   "metadata": {},
   "outputs": [
    {
     "name": "stdout",
     "output_type": "stream",
     "text": [
      "True Positives (TP): 4044\n",
      "False Positives (FP): 15757\n",
      "False Negatives (FN): 827\n",
      "Precision: 0.2042\n",
      "Recall: 0.8302\n",
      "F1-Score: 0.3278\n",
      "F5-Score: 0.7427\n"
     ]
    }
   ],
   "source": [
    "calculate_metrics('output/pii_detected_trf.txt')"
   ]
  },
  {
   "cell_type": "code",
   "execution_count": 14,
   "metadata": {},
   "outputs": [
    {
     "name": "stdout",
     "output_type": "stream",
     "text": [
      "True Positives (TP): 4034\n",
      "False Positives (FP): 12559\n",
      "False Negatives (FN): 837\n",
      "Precision: 0.2431\n",
      "Recall: 0.8282\n",
      "F1-Score: 0.3759\n",
      "F5-Score: 0.7580\n"
     ]
    }
   ],
   "source": [
    "calculate_metrics('others/pii_detected_trf_threshold.txt')"
   ]
  },
  {
   "cell_type": "code",
   "execution_count": 13,
   "metadata": {},
   "outputs": [
    {
     "name": "stdout",
     "output_type": "stream",
     "text": [
      "True Positives (TP): 4044\n",
      "False Positives (FP): 12629\n",
      "False Negatives (FN): 827\n",
      "Precision: 0.2425\n",
      "Recall: 0.8302\n",
      "F1-Score: 0.3754\n",
      "F5-Score: 0.7594\n"
     ]
    }
   ],
   "source": [
    "calculate_metrics('output/pii_detected_trf_filtered.txt')"
   ]
  },
  {
   "cell_type": "code",
   "execution_count": null,
   "metadata": {},
   "outputs": [],
   "source": [
    "# TODO: Run previous and this code chunk. No need to run following code chunks.\n",
    "calculate_metrics('output/pii_detected_gpt.txt')"
   ]
  },
  {
   "cell_type": "code",
   "execution_count": 3,
   "metadata": {},
   "outputs": [
    {
     "name": "stdout",
     "output_type": "stream",
     "text": [
      "True Positives (TP): 4359\n",
      "False Positives (FP): 18683\n",
      "False Negatives (FN): 512\n",
      "Precision: 0.1892\n",
      "Recall: 0.8949\n",
      "F1-Score: 0.3123\n",
      "F5-Score: 0.7826\n"
     ]
    }
   ],
   "source": [
    "# calculate_metrics('others/pii_entities_detected_updated.txt')"
   ]
  },
  {
   "cell_type": "code",
   "execution_count": 4,
   "metadata": {},
   "outputs": [
    {
     "name": "stdout",
     "output_type": "stream",
     "text": [
      "True Positives (TP): 4359\n",
      "False Positives (FP): 15528\n",
      "False Negatives (FN): 512\n",
      "Precision: 0.2192\n",
      "Recall: 0.8949\n",
      "F1-Score: 0.3521\n",
      "F5-Score: 0.8000\n"
     ]
    }
   ],
   "source": [
    "# calculate_metrics('others/pii_entities_detected_updated2.txt')"
   ]
  },
  {
   "cell_type": "code",
   "execution_count": 5,
   "metadata": {},
   "outputs": [
    {
     "name": "stdout",
     "output_type": "stream",
     "text": [
      "Found 149 overlapping entities:\n",
      "Overlap between: (5, 'https://www.greatplacetowork.com/resources/blog/why-is-diversity-inclusion-in-the-workplace-important', 'PERSON', (4150, 4251)) and (5, 'https://www.greatplacetowork.com/resources/blog/why-is-diversity-inclusion-in-the-workplace-important', 'URL', (4150, 4251))\n",
      "Overlap between: (123, 'https://cyberleninka.ru/article/n/stremlenie-k-spravedlivomu-sotrudnichestvu-kak- motiv-ekonomicheskogo-povedeniya', 'PERSON', (7742, 7856)) and (123, 'https://cyberleninka.ru/article/n/stremlenie-k-spravedlivomu-sotrudnichestvu-kak-', 'URL', (7742, 7823))\n",
      "Overlap between: (1199, 'Joseph  with', 'PERSON', (1680, 1692)) and (1199, 'Joseph  with Jesus', 'PERSON', (1680, 1698))\n",
      "Overlap between: (1631, 'Natalia', 'PERSON', (13, 20)) and (1631, 'Natalia Andrea Ibarra Villarreal', 'PERSON', (13, 45))\n",
      "Overlap between: (1799, 'https://www.aljazeera.com/news/2020/05/forty-percent-nigerians-live-poverty-line-report-', 'URL', (385, 473)) and (1799, 'https://www.aljazeera.com/news/2020/05/forty-percent-nigerians-live-poverty-line-report- 200504141558636.ht', 'URL', (385, 492))\n",
      "Overlap between: (1871, 'Carlos Angelo D. Aguilar  cdaguilar@ust.edu.ph\\n\\nStorytelling\\n\\nChallenge', 'PERSON', (0, 71)) and (1871, 'cdaguilar@ust.edu.ph', 'EMAIL_ADDRESS', (26, 46))\n",
      "Overlap between: (1912, 'https://warren2lynch.medium.com/mind-map-a-practical-tutorial-with-30-examples- b248d543ca8a\\n\\nProject', 'PERSON', (3, 104)) and (1912, 'https://warren2lynch.medium.com/mind-map-a-practical-tutorial-with-30-examples-', 'URL', (3, 82))\n",
      "Overlap between: (2077, 'Analysts.https://cdn2.hubspot.net/hubfs/1880938/BP_for_Global_Analyst_Relations_Sept_2016.pdf?t=', 'URL', (7641, 7737)) and (2077, 'https://cdn2.hubspot.net/hubfs/1880938/BP_for_Global_Analyst_Relations_Sept_2016.pdf?t=', 'URL', (7650, 7737))\n",
      "Overlap between: (2189, 'Sherril Moana', 'PERSON', (12, 25)) and (2189, 'Sherril Moana Mari Pabuna', 'PERSON', (12, 37))\n",
      "Overlap between: (2400, 'https://www.coursera.org/learn/design-thinking-', 'PERSON', (1373, 1420)) and (2400, 'https://www.coursera.org/learn/design-thinking-', 'URL', (1373, 1420))\n",
      "Overlap between: (2486, 'https://www.youtube.com/watch?v=zVN_Pc-Ytuw&list=LEM5QA7cLd0s_bEsza5Ikl3xwpfAEK0&index=4', 'URL', (1984, 2072)) and (2486, 'https://www.youtube.com/watch?v=zVN_Pc-Ytuw&list=LEM5QA7cLd0s_bEsza5Ikl3xwpfAEK0&index=4    https://www.youtube.com/watch?vJv6maQ_3p5k&list=LEM5QA7cLd0s_bEsza5Ikl3xwpfAEK0&index=3', 'URL', (1984, 2163))\n",
      "Overlap between: (2486, 'https://www.youtube.com/watch?v=zVN_Pc-Ytuw&list=LEM5QA7cLd0s_bEsza5Ikl3xwpfAEK0&index=4    https://www.youtube.com/watch?vJv6maQ_3p5k&list=LEM5QA7cLd0s_bEsza5Ikl3xwpfAEK0&index=3', 'URL', (1984, 2163)) and (2486, 'https://www.youtube.com/watch?v=zVN_Pc-Ytuw&list=LEM5QA7cLd0s_bEsza5Ikl3xwpfAEK0&index=4    https://www.youtube.com/watch?vJv6maQ_3p5k&list=LEM5QA7cLd0s_bEsza5Ikl3xwpfAEK0&index=3    https://www.youtube.com/watch?v=EnhOC05bacA&list=LEM5QA7cLd0s_bEsza5Ikl3xwpfAEK0&index=6', 'URL', (1984, 2255))\n",
      "Overlap between: (2486, 'https://www.youtube.com/watch?v=CUSxzNv3w&list=LEM5QA7cLd0H_bEsza5Ikl3xwpfAEK0&index=5', 'URL', (4050, 4136)) and (2486, 'https://www.youtube.com/watch?v=CUSxzNv3w&list=LEM5QA7cLd0H_bEsza5Ikl3xwpfAEK0&index=5    https://www.youtube.com/watch?v=xpjhsOneeQ&list=LEM5QA7cLd0s_bEsza5Ikl3xwpfAEK0&index=2', 'URL', (4050, 4227))\n",
      "Overlap between: (2591, 'ANDREA ROMANO', 'PERSON', (76, 89)) and (2591, 'ANDREA ROMANO VELANDIA', 'PERSON', (76, 98))\n",
      "Overlap between: (3288, 'https://www.researchgate.net/publication/329216987_The_recycling_of_E- Waste_ABS_plastics_by_melt_extrusion_and_3D_printing_using_solar_powered_devices_as_a_transfor', 'PERSON', (1314, 1479)) and (3288, 'https://www.researchgate.net/publication/329216987_The_recycling_of_E-', 'URL', (1314, 1384))\n",
      "Overlap between: (3449, 'nlemek  emiteed  efeutve', 'PERSON', (263, 287)) and (3449, 'nlemek  emiteed  efeutve nd  eAi úent\\n\\n', 'PERSON', (263, 302))\n",
      "Overlap between: (3604, 'Carmen Sharma &', 'PERSON', (1766, 1781)) and (3604, 'Carmen Sharma & Paul Harris', 'PERSON', (1766, 1793))\n",
      "Overlap between: (3709, 'Eko Mulyanto', 'PERSON', (11655, 11667)) and (3709, 'Eko Mulyanto Yuniarno', 'PERSON', (11655, 11676))\n",
      "Overlap between: (3718, 'George  and', 'PERSON', (2258, 2269)) and (3718, 'George  and Geoff', 'PERSON', (2258, 2275))\n",
      "Overlap between: (3753, 'http://www.oculistascuderi.it/bambini/occhiali-senza- drammi', 'PERSON', (1498, 1558)) and (3753, 'http://www.oculistascuderi.it/bambini/occhiali-senza-', 'URL', (1498, 1551))\n",
      "Overlap between: (3896, 'Soft Tissue', 'PERSON', (1656, 1667)) and (3896, 'Soft Tissue Radionecrosis', 'PERSON', (1656, 1681))\n",
      "Overlap between: (3911, 'https://www.kdnuggets.com/2020/03/covid-19-', 'URL', (5154, 5197)) and (3911, 'https://www.kdnuggets.com/2020/03/covid-19- visualized.ht', 'URL', (5154, 5211))\n",
      "Overlap between: (3958, 'https://www.who.int/health-topics/air-pollution#tab=tab_1', 'PERSON', (2824, 2881)) and (3958, 'https://www.who.int/health-topics/air-pollution#tab=tab_1', 'URL', (2824, 2881))\n",
      "Overlap between: (4090, 'Aakash Kumar', 'PERSON', (3833, 3845)) and (4090, 'Aakash Kumar Aakash Kumar', 'PERSON', (3833, 3858))\n",
      "Overlap between: (4230, 'https://www.justinmind.com/blog/guide-to-visual-storytelling-for-ux/', 'PERSON', (4581, 4649)) and (4230, 'https://www.justinmind.com/blog/guide-to-visual-storytelling-for-ux/', 'URL', (4581, 4649))\n",
      "Overlap between: (4381, 'http://www.udel.edu/chem/white/C342/CMap.ppt', 'URL', (5727, 5771)) and (4381, 'http://www.udel.edu/chem/white/C342/CMap.ppt  http://tutorials.istudy.psu.edu/conceptmaps/', 'URL', (5727, 5817))\n",
      "Overlap between: (4381, 'http://www.udel.edu/chem/white/C342/CMap.ppt  http://tutorials.istudy.psu.edu/conceptmaps/', 'URL', (5727, 5817)) and (4381, 'http://www.udel.edu/chem/white/C342/CMap.ppt  http://tutorials.istudy.psu.edu/conceptmaps/  http://www.mind-mapping.co.uk/mind-maps-examples/education.htm', 'URL', (5727, 5881))\n",
      "Overlap between: (4381, 'http://www.udel.edu/chem/white/C342/CMap.ppt  http://tutorials.istudy.psu.edu/conceptmaps/  http://www.mind-mapping.co.uk/mind-maps-examples/education.htm', 'URL', (5727, 5881)) and (4381, 'http://www.udel.edu/chem/white/C342/CMap.ppt  http://tutorials.istudy.psu.edu/conceptmaps/  http://www.mind-mapping.co.uk/mind-maps-examples/education.htm  http://www.mindmapart.com/', 'URL', (5727, 5909))\n",
      "Overlap between: (4381, 'http://www.udel.edu/chem/white/C342/CMap.ppt  http://tutorials.istudy.psu.edu/conceptmaps/  http://www.mind-mapping.co.uk/mind-maps-examples/education.htm  http://www.mindmapart.com/', 'URL', (5727, 5909)) and (4381, 'http://www.udel.edu/chem/white/C342/CMap.ppt  http://tutorials.istudy.psu.edu/conceptmaps/  http://www.mind-mapping.co.uk/mind-maps-examples/education.htm  http://www.mindmapart.com/  http://www.informationtamers.com/WikIT/index.php?title=Information_map', 'URL', (5727, 5981))\n",
      "Overlap between: (4432, 'https://www.mindomo.com/fi/mindmap/urban- design-1971-', 'PERSON', (1844, 1898)) and (4432, 'https://www.mindomo.com/fi/mindmap/urban-', 'URL', (1844, 1885))\n",
      "Overlap between: (4478, 'arie ty  ehoftes', 'PERSON', (482, 498)) and (4478, 'arie ty  ehoftes FoY tustomars', 'PERSON', (482, 512))\n",
      "Overlap between: (4566, 'George  and', 'PERSON', (9032, 9043)) and (4566, 'George  and Geoff', 'PERSON', (9032, 9049))\n",
      "Overlap between: (4568, 'http://rer.Aera.Net', 'URL', (1668, 1687)) and (4568, 'Aera', 'PERSON', (1679, 1683))\n",
      "Overlap between: (5673, 'http://www.designthinkingformobility.org/wp-content/uploads/2013/10/ Learning_Launch_principles.pdf\\n\\nApplication', 'PERSON', (2425, 2537)) and (5673, 'http://www.designthinkingformobility.org/wp-content/uploads/2013/10/', 'URL', (2425, 2493))\n",
      "Overlap between: (6092, 'Bill Burnett  &', 'PERSON', (666, 681)) and (6092, 'Bill Burnett  & Dave Evans', 'PERSON', (666, 692))\n",
      "Overlap between: (6096, 'http://citizendialogkit.org/index.php/methodology/\\n\\nII', 'PERSON', (920, 974)) and (6096, 'http://citizendialogkit.org/index.php/methodology/', 'URL', (920, 970))\n",
      "Overlap between: (6191, 'Obtenido de https://www.coursera.org/learn/uva-', 'PERSON', (4473, 4520)) and (6191, 'https://www.coursera.org/learn/uva-', 'URL', (4485, 4520))\n",
      "Overlap between: (6214, 'Letty Rahman &', 'PERSON', (830, 844)) and (6214, 'Letty Rahman & Santos Desai', 'PERSON', (830, 857))\n",
      "Overlap between: (6303, 'https://www.little.com/searchfaq.htm', 'PERSON', (1052, 1088)) and (6303, 'https://www.little.com/searchfaq.htm', 'URL', (1052, 1088))\n",
      "Overlap between: (6426, 'https://www.youtube.com/watch?v=e2D2mFcZzeW  https://www.youtube.com/watch?v=EnVUhYZvCFr', 'PERSON', (1602, 1690)) and (6426, 'https://www.youtube.com/watch?v=e2D2mFcZzeW', 'URL', (1602, 1645))\n",
      "Overlap between: (6458, 'https://www.centerforhealthsecurity.org/our-work/pubs_archive/pubs-pdfs/2020/200709-The-Publics-Role-in-COVID-19- Vaccination.pdf', 'PERSON', (7169, 7298)) and (6458, 'https://www.centerforhealthsecurity.org/our-work/pubs_archive/pubs-pdfs/2020/200709-The-Publics-Role-in-COVID-19-', 'URL', (7169, 7282))\n",
      "Overlap between: (6458, 'https://www.centerforhealthsecurity.org/our-work/pubs_archive/pubs-pdfs/2020/200709-The-Publics-Role-in-COVID-19-', 'URL', (7169, 7282)) and (6458, '2020/200709', 'PHONE_NUMBER', (7241, 7252))\n",
      "Overlap between: (6505, 'https://www.youtube.com/watch?v=MWUBssHusfU', 'URL', (1707, 1750)) and (6505, 'https://www.youtube.com/watch?v=MWUBssHusfU   https://www.youtube.com/watch?v=91OpOfb6HJ4', 'URL', (1707, 1796))\n",
      "Overlap between: (6507, 'Yuval Noah', 'PERSON', (945, 955)) and (6507, 'Yuval Noah Harari', 'PERSON', (945, 962))\n",
      "Overlap between: (6694, 'i.  https://www.youtube.com/watch?v=5Zuq92PUr5E\\n\\nii', 'PERSON', (3236, 3287)) and (6694, 'https://www.youtube.com/watch?v=5Zuq92PUr5E', 'URL', (3240, 3283))\n",
      "Overlap between: (6816, 'b.                i. Name:', 'PERSON', (808, 834)) and (6816, 'b.                i. Name: Raghavendra .A\\n\\nii', 'PERSON', (808, 853))\n",
      "Overlap between: (6849, 'Madison Tate 034626995785', 'PERSON', (69, 94)) and (6849, '034626995785', 'PHONE_NUMBER', (82, 94))\n",
      "Overlap between: (7055, 'https://share.upmc.com/2017/07/reasons-breakfast-is-important/', 'PERSON', (2947, 3009)) and (7055, 'https://share.upmc.com/2017/07/reasons-breakfast-is-important/', 'URL', (2947, 3009))\n",
      "Overlap between: (7231, 'http://www.facultyfocus.com/articles/teachingand-', 'PERSON', (7405, 7454)) and (7231, 'http://www.facultyfocus.com/articles/teachingand-', 'URL', (7405, 7454))\n",
      "Overlap between: (7277, 'https://www.quora.com/What-are-the-advantages-and-disadvantages-of-having-an-Apple-laptop', 'PERSON', (3749, 3838)) and (7277, 'https://www.quora.com/What-are-the-advantages-and-disadvantages-of-having-an-Apple-laptop', 'URL', (3749, 3838))\n",
      "Overlap between: (7426, 'https://www.awwwards.com/talk-storytelling-design-thinking-with-achtung-creative-director-kika-douglas-', 'URL', (1605, 1708)) and (7426, 'https://www.awwwards.com/talk-storytelling-design-thinking-with-achtung-creative-director-kika-douglas- at-awwwards-conference-amsterdam.ht', 'URL', (1605, 1744))\n",
      "Overlap between: (7428, 'Tiziana Dodi', 'PERSON', (67, 79)) and (7428, 'Tiziana Dodi    Sudent', 'PERSON', (67, 89))\n",
      "Overlap between: (7858, 'https://coggle.it/,', 'URL', (2460, 2479)) and (7858, 'https://coggle.it/,  http://wisemapping.com/', 'URL', (2460, 2504))\n",
      "Overlap between: (8416, 'http://martin.com/app/tags/searchregister.php', 'PERSON', (1867, 1912)) and (8416, 'http://martin.com/app/tags/searchregister.php', 'URL', (1867, 1912))\n",
      "Overlap between: (8858, 'Pin Gm.:036820493249', 'PERSON', (144, 164)) and (8858, '036820493249', 'PHONE_NUMBER', (152, 164))\n",
      "Overlap between: (9297, 'https://www.youtube.com/watch?v=y1ZQmZmkaDD', 'URL', (5286, 5329)) and (9297, 'https://www.youtube.com/watch?v=y1ZQmZmkaDD', 'URL', (5286, 5329))\n",
      "Overlap between: (9297, 'https://www.unfpa.org/sites/default/files/resource- pdf/SWOP%202014%20fact%20sheet%20-%20Youth%20in%20ASIA.pdf\\n\\nWong', 'PERSON', (10467, 10583)) and (9297, 'https://www.unfpa.org/sites/default/files/resource-', 'URL', (10467, 10518))\n",
      "Overlap between: (9421, 'http://www.moore.com/\\n\\nLibby\\xa0Bingham', 'PERSON', (365, 401)) and (9421, 'http://www.moore.com/', 'URL', (365, 386))\n",
      "Overlap between: (9792, 'Beatriz Tsotetsi &', 'PERSON', (1635, 1653)) and (9792, 'Beatriz Tsotetsi & Tommy Hall', 'PERSON', (1635, 1664))\n",
      "Overlap between: (9982, 'http://www.jones.info/category/posts/categoryprivacy.html', 'URL', (3033, 3090)) and (9982, 'http://www.jones.info/category/posts/categoryprivacy.html', 'URL', (3033, 3090))\n",
      "Overlap between: (10008, 'https://www.designorate.com/the-role-of-storytelling-in-the-design-process/', 'PERSON', (3647, 3722)) and (10008, 'https://www.designorate.com/the-role-of-storytelling-in-the-design-process/', 'URL', (3647, 3722))\n",
      "Overlap between: (10147, 'https://www.mindmapping.com/  ➢', 'PERSON', (1255, 1286)) and (10147, 'https://www.mindmapping.com/', 'URL', (1255, 1283))\n",
      "Overlap between: (10617, 'Persona Canvas - http://www.barry.com/main/list/postshomepage.html', 'PERSON', (5898, 5964)) and (10617, 'http://www.barry.com/main/list/postshomepage.html', 'URL', (5915, 5964))\n",
      "Overlap between: (10621, 'Matthias Walther - https://www.coursera.org/learn/design-thinking-', 'PERSON', (1705, 1771)) and (10621, 'https://www.coursera.org/learn/design-thinking-', 'URL', (1724, 1771))\n",
      "Overlap between: (10802, 'https://www.youtube.com/watch?v=sh1-9xMZIfQ\\n\\nAsad West', 'PERSON', (5630, 5684)) and (10802, 'https://www.youtube.com/watch?v=sh1-9xMZIfQ', 'URL', (5630, 5673))\n",
      "Overlap between: (10905, 'https://www.careinnovations.org/resources/12-tips-for-data-visualization/', 'URL', (772, 845)) and (10905, 'https://www.careinnovations.org/resources/12-tips-for-data-visualization/  https://datascientistinsights.com/2012/12/05/design-thinking-for-effective-', 'URL', (772, 922))\n",
      "Overlap between: (10932, 'https://www.youtube.com/watch?v=77FUr6ZsWjY  https://hbr.org/2014/07/how-to-tell-a-great-story  https://businessofstory.com/story-cycle/\\n\\nApplication', 'PERSON', (953, 1102)) and (10932, 'https://www.youtube.com/watch?v=77FUr6ZsWjY', 'URL', (953, 996))\n",
      "Overlap between: (11119, '\\u200bDean,\\u200b', 'PERSON', (4173, 4180)) and (11119, '\\u200bDean,\\u200b \\u200bMadonna,\\u200b \\u200bHarley-', 'PERSON', (4173, 4200))\n",
      "Overlap between: (11301, 'jarviscindy@hotmail.com', 'EMAIL_ADDRESS', (0, 23)) and (11301, 'jarviscindy@hotmail.com', 'PERSON', (0, 23))\n",
      "Overlap between: (11987, 'https://boyer.com/app/categories/categorieshomepage.htm', 'PERSON', (1509, 1564)) and (11987, 'https://boyer.com/app/categories/categorieshomepage.htm', 'URL', (1509, 1564))\n",
      "Overlap between: (12483, 'Lamiaa Achraf Weyhacy_7000693584', 'PERSON', (22, 54)) and (12483, '7000693584', 'PHONE_NUMBER', (44, 54))\n",
      "Overlap between: (12640, 'https://youtu.be/uDRN9IA2T5g', 'PERSON', (2467, 2495)) and (12640, 'https://youtu.be/uDRN9IA2T5', 'URL', (2467, 2494))\n",
      "Overlap between: (12731, 'Kiran De Lange Kiran De Lange', 'PERSON', (735, 764)) and (12731, 'Kiran De Lange Kiran De Lange Niki Monticone', 'PERSON', (735, 779))\n",
      "Overlap between: (12856, 'Pin Zp:065536578271', 'PERSON', (198, 217)) and (12856, '065536578271', 'PHONE_NUMBER', (205, 217))\n",
      "Overlap between: (12978, 'https://www.wsj.com/articles/the-power-of-the-doodle-improve-your-focus-and-memory-1406675744', 'URL', (4475, 4568)) and (12978, '1406675744 2', 'PHONE_NUMBER', (4558, 4570))\n",
      "Overlap between: (13075, 'https://www.coursera.org/learn/uva- darden-design', 'PERSON', (462, 511)) and (13075, 'https://www.coursera.org/learn/uva-', 'URL', (462, 497))\n",
      "Overlap between: (13103, 'https://hernandez.com/exploremain.html', 'URL', (3335, 3373)) and (13103, 'https://hernandez.com/exploremain.html', 'URL', (3335, 3373))\n",
      "Overlap between: (13207, 'Fatima Hardy &', 'PERSON', (1845, 1859)) and (13207, 'Fatima Hardy & Mark Turvey', 'PERSON', (1845, 1871))\n",
      "Overlap between: (13239, 'https://www.statista.com/statistics/1201071/climate-emergency-public-support-globally-by-', 'PERSON', (3, 92)) and (13239, 'https://www.statista.com/statistics/1201071/climate-emergency-public-support-globally-by-', 'URL', (3, 92))\n",
      "Overlap between: (13239, 'https://www.statista.com/statistics/186807/worldwide-investment-in-sustainable-energy-since-', 'PERSON', (107, 199)) and (13239, 'https://www.statista.com/statistics/186807/worldwide-investment-in-sustainable-energy-since-', 'URL', (107, 199))\n",
      "Overlap between: (13239, 'https://www.statista.com/statistics/377025/global-futures-and-options-volume/', 'URL', (310, 387)) and (13239, '377025', 'PHONE_NUMBER', (346, 352))\n",
      "Overlap between: (13239, 'https://www.statista.com/statistics/1201071/climate-emergency-public-support-globally-by-', 'PERSON', (2780, 2869)) and (13239, 'https://www.statista.com/statistics/1201071/climate-emergency-public-support-globally-by-', 'URL', (2780, 2869))\n",
      "Overlap between: (13239, 'https://www.statista.com/statistics/186807/worldwide-investment-in-sustainable-energy-since-', 'PERSON', (2884, 2976)) and (13239, 'https://www.statista.com/statistics/186807/worldwide-investment-in-sustainable-energy-since-', 'URL', (2884, 2976))\n",
      "Overlap between: (13239, 'https://www.statista.com/statistics/377025/global-futures-and-options-volume/', 'URL', (3087, 3164)) and (13239, '377025', 'PHONE_NUMBER', (3123, 3129))\n",
      "Overlap between: (13354, 'http://designresearchtechniques.com/casestudies/storytelling/', 'PERSON', (837, 898)) and (13354, 'http://designresearchtechniques.com/casestudies/storytelling/', 'URL', (837, 898))\n",
      "Overlap between: (13569, 'http://demonstrations.wolfram.com/RadioactiveDecayOrDrugDegradation/', 'PERSON', (2351, 2419)) and (13569, 'http://demonstrations.wolfram.com/RadioactiveDecayOrDrugDegradation/', 'URL', (2351, 2419))\n",
      "Overlap between: (13674, 'http://garcia.com/', 'PERSON', (2082, 2100)) and (13674, 'http://garcia.com/', 'URL', (2082, 2100))\n",
      "Overlap between: (13774, 'Yasmina Fra', 'PERSON', (0, 11)) and (13774, 'Yasmina Fra', 'PERSON', (0, 11))\n",
      "Overlap between: (13786, 'https://www.youtube.com/watch?v=tAUsZ9eiorY', 'PERSON', (949, 992)) and (13786, 'https://www.youtube.com/watch?v=tAUsZ9eiorY', 'URL', (949, 992))\n",
      "Overlap between: (14054, '1.https://www.coursera.org/learn/uva-darden-design-thinking-innovation/lecture/F04r6/', 'URL', (3191, 3276)) and (14054, 'https://www.coursera.org/learn/uva-darden-design-thinking-innovation/lecture/F04r6/', 'URL', (3193, 3276))\n",
      "Overlap between: (14054, '2.https://www.coursera.org/learn/uva-darden-design-thinking-innovation/lecture/iq0kE/the-', 'URL', (3299, 3388)) and (14054, 'https://www.coursera.org/learn/uva-darden-design-thinking-innovation/lecture/iq0kE/the-', 'URL', (3301, 3388))\n",
      "Overlap between: (14194, 'https://www.coursera.org/learn/design-thinking-', 'PERSON', (1604, 1651)) and (14194, 'https://www.coursera.org/learn/design-thinking-', 'URL', (1604, 1651))\n",
      "Overlap between: (14446, 'https://www.youtube.com/watch?v=wouXuqJiCro\\n\\n-  ', 'PERSON', (1114, 1162)) and (14446, 'https://www.youtube.com/watch?v=wouXuqJiCro', 'URL', (1114, 1157))\n",
      "Overlap between: (14594, 'https://www.coursera.org/learn/uva-darden-design-thinking-innovation/lecture/m0J6Q/the-idea-', 'PERSON', (6296, 6388)) and (14594, 'https://www.coursera.org/learn/uva-darden-design-thinking-innovation/lecture/m0J6Q/the-idea-', 'URL', (6296, 6388))\n",
      "Overlap between: (14594, 'Jasper Liu\\n\\nhttps://www.gov.uk/government/news/hepatitis-cases-responsible-for-93-of-prison-disease-reports', 'PERSON', (6600, 6707)) and (14594, 'https://www.gov.uk/government/news/hepatitis-cases-responsible-for-93-of-prison-disease-reports', 'URL', (6612, 6707))\n",
      "Overlap between: (14621, 'Nazaqati boti', 'PERSON', (7724, 7737)) and (14621, 'Nazaqati boti kebab - Succulent', 'PERSON', (7724, 7755))\n",
      "Overlap between: (14763, 'Leydy', 'PERSON', (78, 83)) and (14763, 'Leydy Sue', 'PERSON', (78, 87))\n",
      "Overlap between: (14998, 'https://miro.com/', 'PERSON', (1768, 1785)) and (14998, 'https://miro.com/', 'URL', (1768, 1785))\n",
      "Overlap between: (15005, 'http://www.myers-white.info/blog/main/mainhome.htm', 'PERSON', (4223, 4273)) and (15005, 'http://www.myers-white.info/blog/main/mainhome.htm', 'URL', (4223, 4273))\n",
      "Overlap between: (15140, 'Hazel Wagner', 'PERSON', (515, 527)) and (15140, 'Hazel Wagner  Tedx', 'PERSON', (515, 533))\n",
      "Overlap between: (15321, 'Lindsay Melendez - https://www.jones.com/wp-content/listregister.php', 'PERSON', (927, 995)) and (15321, 'https://www.jones.com/wp-content/listregister.php', 'URL', (946, 995))\n",
      "Overlap between: (15325, 'http://www.doyle.info/app/appabout.html', 'PERSON', (0, 39)) and (15325, 'http://www.doyle.info/app/appabout.html', 'URL', (0, 39))\n",
      "Overlap between: (15484, 's. f. https://communicatingeu.com/articles/tips-for- running', 'PERSON', (2572, 2632)) and (15484, 'https://communicatingeu.com/articles/tips-for-', 'URL', (2578, 2624))\n",
      "Overlap between: (15484, 's. f. https://businessofstory.com/story-cycle/.', 'PERSON', (2837, 2884)) and (15484, 'https://businessofstory.com/story-cycle/.', 'URL', (2843, 2884))\n",
      "Overlap between: (15765, 'https://www.sanders.com/wp-contentindex.html', 'URL', (5374, 5418)) and (15765, 'https://www.sanders.com/wp-contentindex.html', 'URL', (5374, 5418))\n",
      "Overlap between: (15904, 'https://www.interaction-design.org/literature/article/how-to-conduct-user-interviews', 'URL', (5273, 5357)) and (15904, 'https://www.interaction-design.org/literature/article/how-to-conduct-user-interviews http://www.designkit.org/methods/66', 'URL', (5273, 5393))\n",
      "Overlap between: (15904, 'https://www.interaction-design.org/literature/article/how-to-conduct-user-interviews http://www.designkit.org/methods/66', 'URL', (5273, 5393)) and (15904, 'https://www.interaction-design.org/literature/article/how-to-conduct-user-interviews http://www.designkit.org/methods/66 http://www.innovationmanagement.se/2011/05/30/asking-the-important-questions-a-guide-to-design-thinking-', 'URL', (5273, 5498))\n",
      "Overlap between: (15957, 'http://www.ruanyifeng.com/home.html', 'URL', (3121, 3156)) and (15957, 'http://www.ruanyifeng.com/home.html  https://blog.jimmylv.info/', 'URL', (3121, 3184))\n",
      "Overlap between: (15957, 'https://patdash.planetchili.net/  https://alistapart.com/  https://www.dailyblogtips.com/', 'PERSON', (3186, 3275)) and (15957, 'https://patdash.planetchili.net/', 'URL', (3186, 3218))\n",
      "Overlap between: (15998, 'https://www.youtube.com/watch?v=7bZl0G77g6g', 'URL', (1631, 1674)) and (15998, 'https://www.youtube.com/watch?v=7bZl0G77g6g', 'PERSON', (1631, 1674))\n",
      "Overlap between: (16387, 'https://rivera.com/category/blog/blogcategory.html', 'PERSON', (2451, 2501)) and (16387, 'https://rivera.com/category/blog/blogcategory.html', 'URL', (2451, 2501))\n",
      "Overlap between: (16412, 'https://www.designorate.com/the-role-of-storytelling-in-the-design-process/\\n\\nEllen', 'PERSON', (3860, 3942)) and (16412, 'https://www.designorate.com/the-role-of-storytelling-in-the-design-process/', 'URL', (3860, 3935))\n",
      "Overlap between: (16427, 'George\\n\\nand', 'PERSON', (687, 698)) and (16427, 'George\\n\\nand Geoff', 'PERSON', (687, 704))\n",
      "Overlap between: (16542, '1.https://www.coursera.org/learn/uva-darden-design-thinking-', 'URL', (1819, 1879)) and (16542, 'https://www.coursera.org/learn/uva-darden-design-thinking-', 'URL', (1821, 1879))\n",
      "Overlap between: (16666, 'https://www.youtube.com/watch?v=y20E3qBmHpg  https://www.youtube.com/watch?v=JMjozqJS44M&list=PL9KVIdeJ2K8NDpsiyYpcbB_qifd3y5CYZ\\n\\nApplication', 'PERSON', (1519, 1660)) and (16666, 'https://www.youtube.com/watch?v=y20E3qBmHpg', 'URL', (1519, 1562))\n",
      "Overlap between: (16722, 'http://www.dennis-mendoza.net/explore/blog/listhomepage.htm', 'PERSON', (6305, 6364)) and (16722, 'http://www.dennis-mendoza.net/explore/blog/listhomepage.htm', 'URL', (6305, 6364))\n",
      "Overlap between: (16734, 'George than', 'PERSON', (777, 788)) and (16734, 'George than Geoff', 'PERSON', (777, 794))\n",
      "Overlap between: (17258, 'https://youtu.be/xCyjFipytRE', 'URL', (523, 551)) and (17258, 'https://youtu.be/xCyjFipytRE', 'PERSON', (523, 551))\n",
      "Overlap between: (17527, 'https://www.healthcaresuccess.com/blog/medical-marketing-advertising/facebook-', 'URL', (1221, 1299)) and (17527, 'https://www.healthcaresuccess.com/blog/medical-marketing-advertising/facebook- fundamentals.ht', 'URL', (1221, 1315))\n",
      "Overlap between: (17534, 'Yin  and', 'PERSON', (1390, 1398)) and (17534, 'Yin  and Yang', 'PERSON', (1390, 1403))\n",
      "Overlap between: (17765, 'Nancy Baba &', 'PERSON', (101, 113)) and (17765, 'Nancy Baba & Nyonya Chicken Rice', 'PERSON', (101, 133))\n",
      "Overlap between: (17859, 'https://github.com/HarshilShrivastava', 'PERSON', (2900, 2937)) and (17859, 'https://github.com/HarshilShrivastava', 'URL', (2900, 2937))\n",
      "Overlap between: (18077, 'https://www.coursera.org/learn/uva-darden-design-thin', 'PERSON', (1231, 1284)) and (18077, 'https://www.coursera.org/learn/uva-darden-design-thin..', 'URL', (1231, 1286))\n",
      "Overlap between: (18099, 'https://ideas.darden.virginia.edu/the-learning-launch-how-to-grow-your-business-with-the-scientific-', 'PERSON', (2533, 2633)) and (18099, 'https://ideas.darden.virginia.edu/the-learning-launch-how-to-grow-your-business-with-the-scientific-', 'URL', (2533, 2633))\n",
      "Overlap between: (18417, 'Helen Wilson', 'PERSON', (0, 12)) and (18417, 'Helen Wilson', 'PERSON', (0, 12))\n",
      "Overlap between: (18571, 'Yehan Sab Milega', 'PERSON', (9612, 9628)) and (18571, 'Yehan Sab Milega Sab Milenge', 'PERSON', (9612, 9640))\n",
      "Overlap between: (18840, 'George  and', 'PERSON', (4787, 4798)) and (18840, 'George  and Jeffe', 'PERSON', (4787, 4804))\n",
      "Overlap between: (19044, 'https://www.youtube.com/watch?v=J4KvanRdONe', 'PERSON', (445, 488)) and (19044, 'https://www.youtube.com/watch?v=J4KvanRdONe', 'URL', (445, 488))\n",
      "Overlap between: (19272, 'Aristotle andl', 'PERSON', (596, 610)) and (19272, 'Aristotle andl Ramon Llil', 'PERSON', (596, 621))\n",
      "Overlap between: (19272, 'thls aotion', 'PERSON', (729, 740)) and (19272, 'thls aotion Tony Buzan', 'PERSON', (729, 751))\n",
      "Overlap between: (19543, 'https://medium.com/swlh/how-to-create-a-vision-board-that-really-works-7ef2f578a746', 'PERSON', (1675, 1758)) and (19543, 'https://medium.com/swlh/how-to-create-a-vision-board-that-really-works-7ef2f578a746', 'URL', (1675, 1758))\n",
      "Overlap between: (19609, 'https://jackson-manning.info/blog/appsearch.html', 'URL', (2018, 2066)) and (19609, 'https://jackson-manning.info/blog/appsearch.html', 'PERSON', (2018, 2066))\n",
      "Overlap between: (20089, 'https://www.youtube.com/watch?v=ZyGjvW0Ta73', 'PERSON', (6037, 6080)) and (20089, 'https://www.youtube.com/watch?v=ZyGjvW0Ta73', 'URL', (6037, 6080))\n",
      "Overlap between: (20126, 'Nancy Baba &', 'PERSON', (1880, 1892)) and (20126, 'Nancy Baba & Nyonya Chicken Rice', 'PERSON', (1880, 1912))\n",
      "Overlap between: (20174, 'Rajendra M 9036863378', 'PERSON', (3831, 3852)) and (20174, '9036863378', 'PHONE_NUMBER', (3842, 3852))\n",
      "Overlap between: (20477, 'https://miro.com/', 'PERSON', (1073, 1090)) and (20477, 'https://miro.com/', 'URL', (1073, 1090))\n",
      "Overlap between: (20665, 'Mónica I. Feliu´-Mójer,', 'PERSON', (3618, 3641)) and (20665, 'Mónica I. Feliu´-Mójer, Uri Hasson', 'PERSON', (3618, 3652))\n",
      "Overlap between: (20899, 'https://ideaboardz.com/', 'PERSON', (2278, 2301)) and (20899, 'https://ideaboardz.com/', 'URL', (2278, 2301))\n",
      "Overlap between: (21071, 'https://www.axelos.com/CMSPages/GetFile.aspx?guid=cbf5524d-2d6b-4ac9-ad5c- c0e1bd6e2899\\n\\n', 'PERSON', (1883, 1972)) and (21071, 'https://www.axelos.com/CMSPages/GetFile.aspx?guid=cbf5524d-2d6b-4ac9-ad5c-', 'URL', (1883, 1957))\n",
      "Overlap between: (21105, 'https://www.amazon.com/gp/product/0231158386/ref=as_li_tf_tl?ie=UTF8.', 'URL', (2475, 2544)) and (21105, '0231158386', 'PHONE_NUMBER', (2509, 2519))\n",
      "Overlap between: (21348, 'https://www.coursera.org/learn/design-thinking-', 'PERSON', (1476, 1523)) and (21348, 'https://www.coursera.org/learn/design-thinking-', 'URL', (1476, 1523))\n",
      "Overlap between: (21732, 'https://economictimes.indiatimes.com/news/politics-and-nation/less-than-one-third-of-indias-aspirational-districts-hit-', 'PERSON', (3848, 3967)) and (21732, 'https://economictimes.indiatimes.com/news/politics-and-nation/less-than-one-third-of-indias-aspirational-districts-hit-', 'URL', (3848, 3967))\n",
      "Overlap between: (22166, 'Turkey Auwal', 'PERSON', (31, 43)) and (22166, 'Auwal De Maio', 'PERSON', (38, 51))\n",
      "Overlap between: (22181, 'Natalie', 'PERSON', (2786, 2793)) and (22181, 'Natalie   Portman', 'PERSON', (2786, 2803))\n",
      "Overlap between: (22226, 'Arvind Vikash', 'PERSON', (3320, 3333)) and (22226, 'Arvind Vikash Kumar', 'PERSON', (3320, 3339))\n",
      "Overlap between: (22425, 'https://www.coursera.org/learn/design-thinking-', 'PERSON', (1749, 1796)) and (22425, 'https://www.coursera.org/learn/design-thinking-', 'URL', (1749, 1796))\n",
      "Overlap between: (22440, 'https://trello.com/', 'PERSON', (2013, 2032)) and (22440, 'https://trello.com/', 'URL', (2013, 2032))\n",
      "Overlap between: (22492, 'Omprakash', 'PERSON', (0, 9)) and (22492, 'Omprakash Maurya', 'PERSON', (0, 16))\n",
      "Overlap between: (22492, 'Omprakash', 'PERSON', (963, 972)) and (22492, 'Omprakash Maurya', 'PERSON', (963, 979))\n"
     ]
    }
   ],
   "source": [
    "# Note for Jack: Deal with overlapping entities.\n",
    "def check_overlapping_entities(input_detected_entities):\n",
    "    entities = load_entities(input_detected_entities)\n",
    "    # Sort entities by index and start position\n",
    "    entities_sorted = sorted(entities, key=lambda x: (x[0], x[3][0]))\n",
    "    overlaps = []\n",
    "    \n",
    "    for i in range(len(entities_sorted) - 1):\n",
    "        current_entity = entities_sorted[i]\n",
    "        next_entity = entities_sorted[i + 1]\n",
    "        \n",
    "        # Check if the current entity overlaps with the next one\n",
    "        if current_entity[0] == next_entity[0] and current_entity[3][1] > next_entity[3][0]:\n",
    "            overlaps.append((current_entity, next_entity))\n",
    "    \n",
    "    # Print the overlapping entities\n",
    "    if overlaps:\n",
    "        print(f\"Found {len(overlaps)} overlapping entities:\")\n",
    "        for overlap in overlaps:\n",
    "            print(f\"Overlap between: {overlap[0]} and {overlap[1]}\")\n",
    "    else:\n",
    "        print(\"No overlapping entities found.\")\n",
    "\n",
    "check_overlapping_entities('output/pii_entities_detected_updated2.txt')"
   ]
  }
 ],
 "metadata": {
  "kernelspec": {
   "display_name": "Python 3",
   "language": "python",
   "name": "python3"
  },
  "language_info": {
   "codemirror_mode": {
    "name": "ipython",
    "version": 3
   },
   "file_extension": ".py",
   "mimetype": "text/x-python",
   "name": "python",
   "nbconvert_exporter": "python",
   "pygments_lexer": "ipython3",
   "version": "3.12.4"
  }
 },
 "nbformat": 4,
 "nbformat_minor": 2
}
