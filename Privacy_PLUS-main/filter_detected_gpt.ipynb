{
 "cells": [
  {
   "cell_type": "code",
   "execution_count": 2,
   "metadata": {},
   "outputs": [],
   "source": [
    "# Main file that need help with.\n",
    "# Input -> Presidio -> Detected Entities -> GPT-4o -> Metric calculations\n",
    "# Only do WITHIN context filteration (need to extract the sentence where the detected entity belongs to and feed to GPT).\n",
    "# No need to do out-of-context filteration\n",
    "import ast\n",
    "import json\n",
    "from openai import OpenAI\n",
    "# Load the API key from input/secret.json\n",
    "# secret_json = read_json_file('input/secret.json')\n",
    "with open('input/secret.json', 'r', encoding='UTF-8') as file:\n",
    "    secret_json = json.load(file)\n",
    "api_key = secret_json['OPENAI_API_KEY']\n",
    "client = OpenAI(api_key=api_key)"
   ]
  },
  {
   "cell_type": "code",
   "execution_count": 6,
   "metadata": {},
   "outputs": [
    {
     "name": "stdout",
     "output_type": "stream",
     "text": [
      "Filtered entities: []\n"
     ]
    }
   ],
   "source": [
    "# TODO: Incomplete function mainly written by ChatGPT, haven't debugged yet.\n",
    "# Be aware of the generated cost.\n",
    "\n",
    "def check_pii_entities_gpt4o(detected_entities):\n",
    "    # Separate entities by category\n",
    "    person_entities = [entity for entity in detected_entities if entity[2] == 'PERSON']\n",
    "    email_entities = [entity for entity in detected_entities if entity[2] == 'EMAIL_ADDRESS']\n",
    "    url_entities = [entity for entity in detected_entities if entity[2] == 'URL']\n",
    "    phone_entities = [entity for entity in detected_entities if entity[2] == 'PHONE_NUMBER']\n",
    "\n",
    "    # Function to call GPT-4o and check for PII\n",
    "    def check_entities_with_gpt(entities, category, prompt_template):\n",
    "        # Prepare input text for GPT by batching entities\n",
    "        prompt = prompt_template + \"\\n\\n\"\n",
    "        for entity in entities:\n",
    "            idx, entity_text, _, positions = entity\n",
    "            prompt += f\"{entity_text}\\n\"\n",
    "\n",
    "        response = client.chat.completions.create(\n",
    "            model=\"gpt-4o\",\n",
    "            messages=[\n",
    "                {\"role\": \"system\", \"content\": \"You are a helpful assistant.\"},\n",
    "                {\"role\": \"user\", \"content\": prompt}\n",
    "            ]\n",
    "        )\n",
    "        # TODO: Possibly buggy lines below.\n",
    "        # gpt_results = response.choices[0].message.content\n",
    "        gpt_results = response.choices[0].message.content.strip().split('\\n')\n",
    "\n",
    "        # Process the response and keep entities marked as True (PII detected)\n",
    "        filtered_entities = [\n",
    "            entity for entity, result in zip(entities, gpt_results) if result.strip().upper() == 'T'\n",
    "        ]\n",
    "        return filtered_entities\n",
    "\n",
    "    # Define prompt templates for each category\n",
    "    # TODO: Feel free to change the prompt if necessary.\n",
    "    person_prompt = \"For each of the following texts, please decide if it is a student's name (return 'T' for True or 'F' for False):\"\n",
    "    email_prompt = \"For each of the following texts, please decide if it is a personal email address (return 'T' for True or 'F' for False):\"\n",
    "    url_prompt = \"For each of the following texts, please decide if it is a personal URL (return 'T' for True or 'F' for False):\"\n",
    "    phone_prompt = \"For each of the following texts, please decide if it is a personal phone number (return 'T' for True or 'F' for False):\"\n",
    "\n",
    "    # Process each category with GPT-4o\n",
    "    valid_person_entities = check_entities_with_gpt(person_entities, 'PERSON', person_prompt)\n",
    "    valid_email_entities = check_entities_with_gpt(email_entities, 'EMAIL_ADDRESS', email_prompt)\n",
    "    valid_url_entities = check_entities_with_gpt(url_entities, 'URL', url_prompt)\n",
    "    valid_phone_entities = check_entities_with_gpt(phone_entities, 'PHONE_NUMBER', phone_prompt)\n",
    "\n",
    "    # Combine all valid entities into a single list\n",
    "    valid_entities = valid_person_entities + valid_email_entities + valid_url_entities + valid_phone_entities\n",
    "\n",
    "    # TODO: Might need to sort based on file_idx (first item in tuple) before return.\n",
    "    return valid_entities\n",
    "\n",
    "\n",
    "detected_entities = []\n",
    "# with open('output/pii_detected_trf_filtered.txt', 'r') as file:\n",
    "#     for line in file:\n",
    "#         entity = ast.literal_eval(line.strip())\n",
    "#         detected_entities.append(entity)\n",
    "\n",
    "with open('output/pii_detected_trf_filtered.txt', 'r') as file:\n",
    "        for line in file:\n",
    "            entity = ast.literal_eval(line.strip())\n",
    "            idx, _, _, _ = entity\n",
    "            if idx < 100: # Start from a few examples to try\n",
    "                detected_entities.append(entity)\n",
    "\n",
    "# Call the function to filter valid entities\n",
    "filtered_entities = check_pii_entities_gpt4o(detected_entities)\n",
    "print(f\"Filtered entities: {filtered_entities}\")\n",
    "\n",
    "# TODO: Possibly save the filtered out entities in 'output/pii_detected_gpt.txt' or any suitable file name.\n",
    "# with open('output/pii_detected_gpt.txt', 'w') as f:\n",
    "#      ...\n"
   ]
  },
  {
   "cell_type": "code",
   "execution_count": null,
   "metadata": {},
   "outputs": [],
   "source": [
    "# When you finish, please go to evaluator.ipynb and run  calculate_metrics('output/pii_detected_gpt.txt')\n",
    "# and go to evaluator_categories.ipynb and run  evaluate_detected_entities('output/pii_detected_gpt.txt')\n",
    "# The two lines of code are marked with TODO."
   ]
  }
 ],
 "metadata": {
  "kernelspec": {
   "display_name": "Python 3",
   "language": "python",
   "name": "python3"
  },
  "language_info": {
   "codemirror_mode": {
    "name": "ipython",
    "version": 3
   },
   "file_extension": ".py",
   "mimetype": "text/x-python",
   "name": "python",
   "nbconvert_exporter": "python",
   "pygments_lexer": "ipython3",
   "version": "3.12.4"
  }
 },
 "nbformat": 4,
 "nbformat_minor": 2
}
