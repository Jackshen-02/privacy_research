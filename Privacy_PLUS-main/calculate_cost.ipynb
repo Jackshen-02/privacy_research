{
 "cells": [
  {
   "cell_type": "code",
   "execution_count": 1,
   "metadata": {},
   "outputs": [],
   "source": [
    "import pandas as pd\n",
    "\n",
    "def read_file(filepath: str):\n",
    "    return pd.read_json(filepath, orient=\"records\")\n",
    "\n",
    "df = read_file(\"obfuscated_data_06.json\")"
   ]
  },
  {
   "cell_type": "code",
   "execution_count": 2,
   "metadata": {},
   "outputs": [
    {
     "name": "stdout",
     "output_type": "stream",
     "text": [
      "Total number of tokens: 16746176\n"
     ]
    }
   ],
   "source": [
    "# import json\n",
    "\n",
    "# Assuming df is your DataFrame that contains the 'tokens' column\n",
    "total_tokens = sum(len(df.iloc[i].tokens) for i in range(len(df)))\n",
    "\n",
    "print(f\"Total number of tokens: {total_tokens}\")"
   ]
  },
  {
   "cell_type": "code",
   "execution_count": 7,
   "metadata": {},
   "outputs": [
    {
     "name": "stdout",
     "output_type": "stream",
     "text": [
      "Estimated total cost (GPT-4o): $334.92\n",
      "Estimated total cost (GPT-4o-mini): $12.56\n"
     ]
    }
   ],
   "source": [
    "# Cost per token in dollars (GPT-4o)\n",
    "input_cost_per_token_gpt4o = 5 / 1000000  # Cost per input token\n",
    "output_cost_per_token_gpt4o = 15 / 1000000  # Cost per output token\n",
    "\n",
    "# Cost per token in dollars (GPT-4o-mini)\n",
    "input_cost_per_token_gpt4omini = 0.15 / 1000000  # Cost per input token\n",
    "output_cost_per_token_gpt4omini = 0.6 / 1000000  # Cost per output token\n",
    "\n",
    "# Calculate the total cost\n",
    "total_cost_gpt4o = total_tokens * (input_cost_per_token_gpt4o + output_cost_per_token_gpt4o)\n",
    "total_cost_gpt4omini = total_tokens * (input_cost_per_token_gpt4omini + output_cost_per_token_gpt4omini)\n",
    "\n",
    "print(f\"Estimated total cost (GPT-4o): ${total_cost_gpt4o:.2f}\")\n",
    "print(f\"Estimated total cost (GPT-4o-mini): ${total_cost_gpt4omini:.2f}\")"
   ]
  },
  {
   "cell_type": "markdown",
   "metadata": {},
   "source": [
    "**Consider Azure AI as baseline**\n",
    "Model performance first\n",
    "Efficiency (average time to process one transcript and show the length of each transcript),\n",
    "cost ()"
   ]
  },
  {
   "cell_type": "code",
   "execution_count": null,
   "metadata": {},
   "outputs": [],
   "source": []
  }
 ],
 "metadata": {
  "kernelspec": {
   "display_name": "Python 3",
   "language": "python",
   "name": "python3"
  },
  "language_info": {
   "codemirror_mode": {
    "name": "ipython",
    "version": 3
   },
   "file_extension": ".py",
   "mimetype": "text/x-python",
   "name": "python",
   "nbconvert_exporter": "python",
   "pygments_lexer": "ipython3",
   "version": "3.12.4"
  }
 },
 "nbformat": 4,
 "nbformat_minor": 2
}
