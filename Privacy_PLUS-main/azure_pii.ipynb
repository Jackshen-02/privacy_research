{
 "cells": [
  {
   "cell_type": "code",
   "execution_count": 10,
   "metadata": {},
   "outputs": [],
   "source": [
    "import pandas as pd\n",
    "\n",
    "def read_json(path = 'data/obfuscated_data_06.json'):\n",
    "    df = pd.read_json(path, orient=\"records\",encoding='utf-8')\n",
    "    return df\n",
    "\n",
    "df = read_json()"
   ]
  },
  {
   "cell_type": "code",
   "execution_count": 5,
   "metadata": {},
   "outputs": [
    {
     "name": "stdout",
     "output_type": "stream",
     "text": [
      "Collecting azure-ai-textanalytics\n",
      "  Using cached azure_ai_textanalytics-5.3.0-py3-none-any.whl.metadata (82 kB)\n",
      "Collecting azure-core<2.0.0,>=1.24.0 (from azure-ai-textanalytics)\n",
      "  Downloading azure_core-1.31.0-py3-none-any.whl.metadata (39 kB)\n",
      "Collecting azure-common~=1.1 (from azure-ai-textanalytics)\n",
      "  Using cached azure_common-1.1.28-py2.py3-none-any.whl.metadata (5.0 kB)\n",
      "Collecting isodate<1.0.0,>=0.6.1 (from azure-ai-textanalytics)\n",
      "  Downloading isodate-0.7.2-py3-none-any.whl.metadata (11 kB)\n",
      "Requirement already satisfied: typing-extensions>=4.0.1 in /Users/yuntianshen/miniconda3/lib/python3.11/site-packages (from azure-ai-textanalytics) (4.9.0)\n",
      "Requirement already satisfied: requests>=2.21.0 in /Users/yuntianshen/miniconda3/lib/python3.11/site-packages (from azure-core<2.0.0,>=1.24.0->azure-ai-textanalytics) (2.31.0)\n",
      "Requirement already satisfied: six>=1.11.0 in /Users/yuntianshen/miniconda3/lib/python3.11/site-packages (from azure-core<2.0.0,>=1.24.0->azure-ai-textanalytics) (1.16.0)\n",
      "Requirement already satisfied: charset-normalizer<4,>=2 in /Users/yuntianshen/miniconda3/lib/python3.11/site-packages (from requests>=2.21.0->azure-core<2.0.0,>=1.24.0->azure-ai-textanalytics) (2.0.4)\n",
      "Requirement already satisfied: idna<4,>=2.5 in /Users/yuntianshen/miniconda3/lib/python3.11/site-packages (from requests>=2.21.0->azure-core<2.0.0,>=1.24.0->azure-ai-textanalytics) (3.4)\n",
      "Requirement already satisfied: urllib3<3,>=1.21.1 in /Users/yuntianshen/miniconda3/lib/python3.11/site-packages (from requests>=2.21.0->azure-core<2.0.0,>=1.24.0->azure-ai-textanalytics) (1.26.18)\n",
      "Requirement already satisfied: certifi>=2017.4.17 in /Users/yuntianshen/miniconda3/lib/python3.11/site-packages (from requests>=2.21.0->azure-core<2.0.0,>=1.24.0->azure-ai-textanalytics) (2024.2.2)\n",
      "Using cached azure_ai_textanalytics-5.3.0-py3-none-any.whl (298 kB)\n",
      "Using cached azure_common-1.1.28-py2.py3-none-any.whl (14 kB)\n",
      "Downloading azure_core-1.31.0-py3-none-any.whl (197 kB)\n",
      "\u001b[2K   \u001b[90m━━━━━━━━━━━━━━━━━━━━━━━━━━━━━━━━━━━━━━━━\u001b[0m \u001b[32m197.4/197.4 kB\u001b[0m \u001b[31m1.8 MB/s\u001b[0m eta \u001b[36m0:00:00\u001b[0ma \u001b[36m0:00:01\u001b[0m\n",
      "\u001b[?25hDownloading isodate-0.7.2-py3-none-any.whl (22 kB)\n",
      "Installing collected packages: azure-common, isodate, azure-core, azure-ai-textanalytics\n",
      "Successfully installed azure-ai-textanalytics-5.3.0 azure-common-1.1.28 azure-core-1.31.0 isodate-0.7.2\n"
     ]
    }
   ],
   "source": [
    "# !pip install azure-ai-textanalytics"
   ]
  },
  {
   "cell_type": "code",
   "execution_count": 1,
   "metadata": {},
   "outputs": [],
   "source": [
    "import json\n",
    "\n",
    "with open('input/secret.json', 'r', encoding='UTF-8') as file:\n",
    "    secret_json = json.load(file)\n",
    "language_key = secret_json['LANGUAGE_KEY']\n",
    "language_endpoint = secret_json['LANGUAGE_ENDPOINT']"
   ]
  },
  {
   "cell_type": "markdown",
   "metadata": {},
   "source": [
    "### Tried Python first (Synchronous requests, doesn't work)\n",
    "#### Please jump to Section \"Switched to using REST API (Asynchronous requests)\""
   ]
  },
  {
   "cell_type": "code",
   "execution_count": 3,
   "metadata": {},
   "outputs": [],
   "source": [
    "from azure.ai.textanalytics import TextAnalyticsClient\n",
    "from azure.core.credentials import AzureKeyCredential\n",
    "\n",
    "def authenticate_client():\n",
    "    ta_credential = AzureKeyCredential(language_key)\n",
    "    text_analytics_client = TextAnalyticsClient(endpoint=language_endpoint, credential=ta_credential)\n",
    "    return text_analytics_client\n",
    "\n",
    "client = authenticate_client()\n"
   ]
  },
  {
   "cell_type": "code",
   "execution_count": 48,
   "metadata": {},
   "outputs": [
    {
     "name": "stdout",
     "output_type": "stream",
     "text": [
      "[18, 56, 67, 89, 91, 94, 113, 156, 176, 185, 186, 192, 194, 199, 213, 241, 250, 264, 270, 278, 289, 295, 320, 330, 331, 334, 342, 360, 362, 363, 364, 394, 411, 422, 433, 454, 464, 472, 481, 505, 542, 547, 572, 576, 586, 589, 616, 642, 650, 653, 682, 716, 720, 726, 729, 751, 756, 760, 769, 776, 778, 783, 801, 823, 838, 844, 850, 858, 859, 894, 911, 921, 930, 931, 944, 955, 965, 971, 976, 980, 993, 994, 1010, 1014, 1030, 1042, 1043, 1050, 1053, 1082, 1084, 1121, 1125, 1136, 1151, 1154, 1161, 1168, 1170, 1175, 1181, 1185, 1200, 1213, 1214, 1240, 1242, 1262, 1281, 1284, 1285, 1324, 1358, 1359, 1363, 1364, 1366, 1385, 1393, 1394, 1422, 1425, 1438, 1456, 1518, 1519, 1521, 1527, 1532, 1541, 1546, 1582, 1606, 1649, 1663, 1701, 1707, 1751, 1761, 1765, 1766, 1782, 1795, 1799, 1802, 1816, 1832, 1846, 1863, 1930, 1960, 1961, 1962, 1983, 1992, 1999, 2005, 2006, 2018, 2028, 2031, 2035, 2040, 2050, 2052, 2058, 2089, 2113, 2142, 2143, 2145, 2150, 2162, 2180, 2186, 2199, 2203, 2220, 2222, 2226, 2227, 2256, 2258, 2268, 2269, 2289, 2292, 2293, 2296, 2305, 2334, 2341, 2353, 2356, 2363, 2397, 2404, 2472, 2475, 2498, 2521, 2526, 2542, 2543, 2545, 2557, 2562, 2569, 2572, 2598, 2603, 2605, 2621, 2623, 2626, 2628, 2638, 2641, 2642, 2664, 2670, 2696, 2697, 2724, 2743, 2746, 2791, 2793, 2799, 2803, 2824, 2830, 2832, 2841, 2845, 2848, 2863, 2866, 2878, 2891, 2894, 2898, 2929, 2930, 2958, 2968, 2982, 3004, 3025, 3031, 3041, 3049, 3062, 3066, 3073, 3084, 3110, 3122, 3129, 3133, 3135, 3137, 3138, 3147, 3149, 3165, 3167, 3168, 3176, 3177, 3192, 3203, 3209, 3238, 3240, 3261, 3277, 3293, 3330, 3362, 3376, 3382, 3384, 3389, 3394, 3399, 3402, 3413, 3416, 3435, 3440, 3452, 3507, 3515, 3519, 3521, 3523, 3539, 3563, 3586, 3601, 3602, 3603, 3617, 3620, 3621, 3626, 3641, 3666, 3685, 3686, 3688, 3713, 3717, 3727, 3739, 3745, 3751, 3760, 3764, 3770, 3784, 3786, 3789, 3792, 3800, 3822, 3839, 3873, 3892, 3909, 3912, 3915, 3964, 3991, 4001, 4003, 4017, 4027, 4029, 4061, 4063, 4079, 4082, 4085, 4091, 4094, 4099, 4102, 4104, 4126, 4127, 4141, 4158, 4163, 4168, 4174, 4195, 4198, 4222, 4234, 4263, 4265, 4279, 4282, 4293, 4294, 4296, 4303, 4328, 4333, 4334, 4339, 4355, 4357, 4368, 4381, 4387, 4395, 4403, 4413, 4414, 4421, 4426, 4431, 4443, 4462, 4466, 4468, 4474, 4517, 4526, 4531, 4534, 4539, 4546, 4548, 4550, 4551, 4553, 4561, 4563, 4566, 4571, 4593, 4606, 4609, 4610, 4614, 4618, 4634, 4640, 4667, 4671, 4677, 4679, 4686, 4687, 4697, 4714, 4723, 4726, 4734, 4744, 4779, 4783, 4786, 4791, 4806, 4810, 4840, 4857, 4863, 4870, 4917, 4918, 4938, 4948, 4950, 4954, 4958, 4963, 4980, 4999, 5001, 5013, 5037, 5063, 5071, 5083, 5099, 5108, 5117, 5126, 5164, 5168, 5171, 5175, 5177, 5189, 5192, 5197, 5208, 5217, 5222, 5224, 5225, 5234, 5242, 5249, 5257, 5259, 5275, 5282, 5283, 5285, 5306, 5309, 5317, 5319, 5321, 5322, 5323, 5331, 5333, 5336, 5337, 5350, 5355, 5356, 5361, 5364, 5384, 5389, 5392, 5401, 5416, 5437, 5454, 5468, 5470, 5475, 5495, 5515, 5518, 5522, 5547, 5549, 5554, 5565, 5580, 5583, 5587, 5604, 5606, 5607, 5611, 5618, 5632, 5635, 5649, 5654, 5660, 5666, 5671, 5680, 5683, 5702, 5707, 5713, 5717, 5724, 5726, 5734, 5747, 5774, 5791, 5804, 5820, 5821, 5825, 5828, 5830, 5834, 5845, 5846, 5857, 5859, 5866, 5873, 5889, 5903, 5905, 5912, 5924, 5928, 5953, 5964, 5975, 5978, 5993, 6001, 6017, 6021, 6023, 6029, 6032, 6081, 6085, 6087, 6092, 6094, 6098, 6105, 6132, 6143, 6150, 6151, 6163, 6172, 6180, 6189, 6194, 6196, 6198, 6205, 6216, 6218, 6240, 6253, 6287, 6296, 6299, 6302, 6322, 6323, 6348, 6349, 6350, 6351, 6356, 6368, 6371, 6378, 6396, 6405, 6407, 6411, 6413, 6416, 6422, 6427, 6444, 6459, 6461, 6498, 6509, 6511, 6516, 6517, 6527, 6531, 6532, 6547, 6564, 6587, 6595, 6601, 6609, 6616, 6619, 6622, 6636, 6639, 6654, 6656, 6665, 6666, 6677, 6678, 6683, 6694, 6711, 6722, 6725, 6726, 6750, 6777, 6785, 6788, 6799, 6801, 6809, 6816, 6827, 6836, 6857, 6858, 6866, 6868, 6875, 6877, 6893, 6915, 6918, 6922, 6928, 6947, 6948, 6968, 6973, 6987, 6988, 6991, 6995, 7001, 7002, 7004, 7008, 7015, 7028, 7032, 7055, 7059, 7065, 7078, 7081, 7086, 7092, 7094, 7110, 7114, 7115, 7145, 7150, 7158, 7162, 7183, 7204, 7216, 7226, 7229, 7231, 7247, 7265, 7268, 7285, 7288, 7291, 7314, 7316, 7319, 7333, 7353, 7362, 7363, 7393, 7402, 7405, 7412, 7414, 7419, 7421, 7426, 7435, 7457, 7482, 7483, 7489, 7497, 7500, 7545, 7550, 7571, 7573, 7590, 7591, 7600, 7603, 7625, 7627, 7630, 7641, 7643, 7651, 7665, 7677, 7689, 7708, 7710, 7721, 7733, 7736, 7744, 7745, 7765, 7767, 7776, 7778, 7794, 7804, 7820, 7822, 7823, 7858, 7873, 7875, 7899, 7911, 7913, 7929, 7939, 7943, 7948, 7949, 7952, 7976, 7986, 7993, 7996, 8013, 8032, 8036, 8043, 8050, 8057, 8092, 8094, 8113, 8115, 8120, 8138, 8143, 8155, 8163, 8164, 8190, 8194, 8209, 8211, 8217, 8234, 8240, 8264, 8270, 8273, 8275, 8290, 8295, 8297, 8300, 8310, 8312, 8327, 8337, 8345, 8361, 8366, 8367, 8383, 8384, 8387, 8398, 8415, 8416, 8425, 8433, 8474, 8482, 8497, 8500, 8504, 8516, 8528, 8550, 8554, 8568, 8590, 8593, 8594, 8604, 8618, 8620, 8626, 8631, 8632, 8639, 8646, 8649, 8674, 8687, 8694, 8699, 8706, 8719, 8732, 8752, 8753, 8757, 8761, 8764, 8771, 8775, 8777, 8792, 8796, 8804, 8808, 8825, 8826, 8831, 8832, 8853, 8857, 8860, 8865, 8888, 8890, 8894, 8916, 8919, 8925, 8927, 8937, 8958, 8962, 8971, 8999, 9005, 9016, 9034, 9053, 9058, 9069, 9092, 9096, 9104, 9109, 9112, 9122, 9123, 9126, 9136, 9144, 9148, 9164, 9174, 9177, 9178, 9188, 9199, 9220, 9231, 9252, 9255, 9258, 9272, 9278, 9289, 9293, 9297, 9305, 9309, 9317, 9323, 9336, 9350, 9360, 9390, 9411, 9438, 9441, 9450, 9451, 9488, 9497, 9504, 9511, 9520, 9527, 9568, 9575, 9585, 9588, 9590, 9604, 9612, 9624, 9632, 9647, 9657, 9663, 9665, 9667, 9669, 9674, 9682, 9694, 9708, 9748, 9755, 9770, 9775, 9786, 9797, 9807, 9837, 9850, 9853, 9863, 9871, 9879, 9903, 9905, 9909, 9920, 9947, 9949, 9963, 9964, 9974, 9977, 9984, 10017, 10026, 10031, 10033, 10035, 10058, 10070, 10078, 10079, 10086, 10094, 10102, 10107, 10121, 10124, 10125, 10138, 10144, 10151, 10152, 10160, 10166, 10168, 10180, 10182, 10184, 10197, 10208, 10216, 10220, 10225, 10252, 10253, 10256, 10272, 10280, 10292, 10300, 10306, 10307, 10312, 10315, 10341, 10354, 10381, 10398, 10421, 10429, 10432, 10443, 10447, 10452, 10461, 10481, 10494, 10520, 10527, 10535, 10551, 10574, 10577, 10578, 10594, 10595, 10621, 10625, 10635, 10647, 10657, 10678, 10679, 10730, 10735, 10749, 10772, 10774, 10782, 10788, 10804, 10809, 10811, 10843, 10844, 10856, 10858, 10887, 10915, 10931, 10952, 10958, 10962, 10974, 10981, 10988, 11001, 11016, 11031, 11036, 11043, 11054, 11057, 11058, 11066, 11073, 11079, 11087, 11088, 11108, 11119, 11123, 11127, 11131, 11163, 11166, 11174, 11181, 11198, 11200, 11204, 11211, 11218, 11222, 11225, 11243, 11255, 11289, 11296, 11305, 11318, 11328, 11346, 11349, 11351, 11379, 11385, 11387, 11389, 11398, 11408, 11414, 11417, 11428, 11435, 11436, 11442, 11450, 11466, 11468, 11474, 11476, 11483, 11498, 11500, 11538, 11543, 11551, 11571, 11573, 11585, 11600, 11601, 11604, 11608, 11614, 11638, 11644, 11654, 11665, 11666, 11682, 11689, 11699, 11704, 11710, 11714, 11719, 11723, 11739, 11741, 11756, 11761, 11773, 11775, 11788, 11789, 11798, 11805, 11818, 11821, 11822, 11830, 11834, 11842, 11844, 11849, 11860, 11878, 11880, 11882, 11884, 11886, 11905, 11911, 11924, 11935, 11963, 11996, 12002, 12055, 12067, 12077, 12078, 12084, 12089, 12091, 12093, 12094, 12100, 12111, 12118, 12119, 12137, 12139, 12154, 12158, 12163, 12165, 12170, 12175, 12177, 12180, 12181, 12185, 12189, 12196, 12216, 12227, 12233, 12234, 12235, 12237, 12239, 12241, 12242, 12243, 12245, 12254, 12257, 12259, 12262, 12267, 12290, 12300, 12304, 12311, 12323, 12328, 12334, 12346, 12347, 12351, 12353, 12366, 12373, 12386, 12403, 12422, 12424, 12434, 12436, 12439, 12441, 12457, 12469, 12471, 12497, 12501, 12502, 12504, 12507, 12512, 12517, 12523, 12528, 12545, 12559, 12603, 12612, 12614, 12626, 12638, 12639, 12651, 12654, 12655, 12656, 12678, 12686, 12703, 12705, 12715, 12732, 12762, 12771, 12772, 12781, 12797, 12798, 12803, 12812, 12826, 12836, 12838, 12853, 12858, 12876, 12885, 12888, 12889, 12915, 12918, 12932, 12939, 12953, 12954, 12956, 12965, 12970, 12971, 12977, 12985, 13000, 13006, 13036, 13043, 13047, 13073, 13077, 13087, 13093, 13101, 13102, 13109, 13116, 13124, 13128, 13131, 13139, 13143, 13150, 13155, 13165, 13168, 13169, 13184, 13186, 13192, 13194, 13206, 13227, 13231, 13240, 13241, 13273, 13276, 13289, 13293, 13309, 13310, 13318, 13328, 13329, 13336, 13343, 13357, 13369, 13377, 13402, 13407, 13411, 13438, 13446, 13457, 13464, 13493, 13507, 13516, 13534, 13540, 13546, 13548, 13579, 13592, 13600, 13601, 13605, 13606, 13607, 13611, 13637, 13640, 13649, 13650, 13656, 13671, 13679, 13697, 13707, 13711, 13733, 13741, 13744, 13759, 13785, 13809, 13811, 13825, 13832, 13868, 13870, 13892, 13909, 13911, 13912, 13935, 13940, 13965, 13972, 13975, 13976, 13991, 13993, 14003, 14013, 14017, 14021, 14022, 14034, 14057, 14062, 14069, 14076, 14108, 14109, 14113, 14116, 14120, 14121, 14123, 14126, 14154, 14160, 14184, 14189, 14194, 14195, 14207, 14209, 14216, 14235, 14240, 14246, 14251, 14254, 14256, 14267, 14290, 14295, 14300, 14305, 14307, 14315, 14320, 14332, 14337, 14339, 14341, 14350, 14358, 14362, 14367, 14378, 14389, 14398, 14403, 14408, 14409, 14412, 14422, 14429, 14441, 14445, 14446, 14457, 14497, 14499, 14501, 14511, 14513, 14545, 14558, 14565, 14575, 14593, 14594, 14601, 14610, 14611, 14616, 14626, 14641, 14646, 14656, 14664, 14669, 14671, 14679, 14687, 14688, 14710, 14714, 14720, 14723, 14732, 14750, 14801, 14802, 14816, 14819, 14820, 14825, 14826, 14835, 14837, 14846, 14847, 14850, 14860, 14867, 14873, 14877, 14892, 14902, 14912, 14914, 14919, 14939, 14944, 14961, 14967, 14969, 14980, 15002, 15005, 15028, 15040, 15041, 15042, 15047, 15057, 15065, 15067, 15077, 15106, 15120, 15134, 15135, 15138, 15164, 15169, 15204, 15210, 15226, 15237, 15239, 15240, 15244, 15248, 15249, 15278, 15281, 15283, 15293, 15301, 15316, 15331, 15338, 15372, 15398, 15400, 15409, 15410, 15427, 15428, 15434, 15439, 15444, 15447, 15451, 15458, 15467, 15472, 15473, 15488, 15499, 15519, 15546, 15547, 15564, 15581, 15585, 15601, 15623, 15630, 15631, 15668, 15712, 15720, 15725, 15728, 15731, 15733, 15737, 15749, 15760, 15767, 15773, 15774, 15795, 15802, 15810, 15811, 15817, 15823, 15830, 15864, 15868, 15887, 15888, 15903, 15904, 15910, 15912, 15920, 15928, 15955, 15958, 15967, 15979, 15980, 15993, 15994, 15995, 16022, 16032, 16036, 16039, 16057, 16069, 16078, 16079, 16080, 16087, 16090, 16093, 16098, 16127, 16128, 16137, 16139, 16151, 16157, 16162, 16197, 16201, 16207, 16211, 16234, 16239, 16247, 16249, 16258, 16281, 16292, 16297, 16303, 16304, 16305, 16312, 16314, 16341, 16349, 16362, 16376, 16378, 16387, 16388, 16392, 16397, 16404, 16409, 16410, 16430, 16455, 16478, 16479, 16488, 16492, 16495, 16497, 16499, 16509, 16511, 16513, 16516, 16524, 16533, 16535, 16538, 16541, 16543, 16555, 16557, 16558, 16566, 16574, 16585, 16590, 16595, 16600, 16614, 16616, 16632, 16642, 16646, 16652, 16662, 16674, 16684, 16691, 16697, 16699, 16708, 16722, 16726, 16737, 16744, 16751, 16752, 16778, 16797, 16807, 16822, 16832, 16863, 16866, 16886, 16890, 16904, 16918, 16922, 16936, 16937, 16948, 16953, 16954, 16955, 16965, 16967, 17013, 17062, 17104, 17117, 17138, 17182, 17183, 17188, 17195, 17198, 17199, 17221, 17223, 17226, 17228, 17245, 17254, 17256, 17263, 17274, 17277, 17288, 17314, 17319, 17341, 17400, 17408, 17418, 17421, 17436, 17450, 17454, 17469, 17474, 17476, 17491, 17493, 17510, 17511, 17512, 17517, 17526, 17527, 17529, 17536, 17557, 17562, 17563, 17579, 17581, 17589, 17598, 17612, 17620, 17624, 17631, 17632, 17637, 17649, 17659, 17675, 17676, 17684, 17691, 17695, 17696, 17697, 17699, 17704, 17715, 17719, 17721, 17724, 17727, 17733, 17741, 17750, 17754, 17756, 17760, 17761, 17764, 17772, 17778, 17791, 17811, 17812, 17815, 17819, 17836, 17843, 17857, 17861, 17868, 17873, 17883, 17905, 17908, 17926, 17938, 17959, 17966, 17969, 17975, 17980, 17991, 18021, 18024, 18041, 18052, 18054, 18061, 18063, 18087, 18102, 18112, 18123, 18166, 18172, 18177, 18183, 18186, 18197, 18198, 18200, 18202, 18212, 18234, 18236, 18248, 18250, 18257, 18261, 18267, 18270, 18273, 18283, 18295, 18312, 18327, 18335, 18357, 18369, 18373, 18375, 18379, 18408, 18409, 18414, 18417, 18420, 18427, 18428, 18450, 18457, 18478, 18483, 18495, 18497, 18526, 18530, 18537, 18541, 18542, 18546, 18555, 18563, 18571, 18572, 18584, 18585, 18593, 18606, 18628, 18641, 18650, 18659, 18662, 18669, 18683, 18701, 18707, 18708, 18711, 18715, 18723, 18731, 18743, 18762, 18770, 18781, 18798, 18817, 18830, 18836, 18840, 18842, 18849, 18857, 18870, 18877, 18878, 18883, 18912, 18940, 18942, 18956, 18999, 19002, 19010, 19012, 19023, 19024, 19042, 19061, 19070, 19072, 19084, 19094, 19103, 19104, 19110, 19139, 19145, 19148, 19168, 19179, 19207, 19229, 19230, 19251, 19261, 19262, 19267, 19273, 19290, 19296, 19363, 19391, 19392, 19397, 19424, 19425, 19435, 19470, 19480, 19486, 19498, 19513, 19519, 19521, 19551, 19552, 19553, 19554, 19570, 19581, 19582, 19590, 19593, 19594, 19602, 19608, 19619, 19621, 19642, 19657, 19664, 19679, 19684, 19716, 19735, 19739, 19748, 19749, 19773, 19777, 19781, 19787, 19802, 19819, 19842, 19867, 19878, 19894, 19899, 19904, 19915, 19926, 19937, 19967, 19968, 19969, 19976, 19981, 19985, 19989, 20003, 20036, 20050, 20063, 20069, 20073, 20084, 20089, 20094, 20110, 20111, 20125, 20132, 20140, 20142, 20143, 20147, 20149, 20159, 20162, 20181, 20187, 20192, 20202, 20209, 20210, 20212, 20229, 20249, 20257, 20276, 20284, 20288, 20296, 20297, 20301, 20303, 20319, 20320, 20322, 20333, 20369, 20387, 20389, 20392, 20395, 20416, 20420, 20421, 20430, 20434, 20442, 20446, 20447, 20462, 20464, 20469, 20477, 20495, 20502, 20507, 20523, 20524, 20527, 20560, 20565, 20569, 20574, 20589, 20622, 20636, 20642, 20648, 20670, 20702, 20727, 20730, 20742, 20766, 20768, 20779, 20832, 20864, 20869, 20872, 20873, 20910, 20912, 20932, 20933, 20934, 20935, 20937, 20945, 20952, 21006, 21022, 21065, 21092, 21100, 21106, 21107, 21110, 21128, 21145, 21179, 21189, 21195, 21212, 21215, 21224, 21232, 21240, 21245, 21252, 21256, 21260, 21275, 21278, 21282, 21302, 21309, 21310, 21322, 21344, 21368, 21376, 21378, 21400, 21407, 21426, 21449, 21454, 21465, 21476, 21477, 21490, 21497, 21524, 21532, 21539, 21550, 21560, 21574, 21580, 21594, 21598, 21634, 21636, 21656, 21658, 21667, 21684, 21689, 21700, 21703, 21710, 21711, 21730, 21734, 21754, 21757, 21799, 21808, 21822, 21844, 21867, 21916, 21918, 21919, 21930, 21943, 21944, 21945, 21967, 21982, 22001, 22016, 22027, 22058, 22068, 22081, 22088, 22095, 22107, 22114, 22120, 22125, 22139, 22149, 22184, 22208, 22219, 22223, 22224, 22233, 22250, 22260, 22269, 22281, 22288, 22295, 22305, 22310, 22313, 22320, 22321, 22328, 22339, 22340, 22343, 22345, 22348, 22386, 22388, 22391, 22405, 22409, 22422, 22460, 22463, 22478, 22479, 22512, 22552, 22590, 22594, 22600, 22620, 22633, 22639, 22653, 22657, 22659]\n",
      "2283 out of 13613 test files have char length larger than 5120 characters\n",
      "Maximum char length: 17405 of document #20301\n"
     ]
    }
   ],
   "source": [
    "import ast\n",
    "with open('data/test_indices_2.txt', 'r') as file:\n",
    "    test_indices_2 = text_indices_2 = ast.literal_eval(file.read().strip())\n",
    "\n",
    "exceed_5120 = []\n",
    "max_len = 0\n",
    "max_idx = 0\n",
    "for i in range (len(df)):\n",
    "    curr_document = df.iloc[i].document\n",
    "    if curr_document in test_indices_2:\n",
    "        curr_len = len(df.iloc[i].full_text)\n",
    "        if curr_len > 5120:\n",
    "            if curr_len > max_len:\n",
    "                max_len = curr_len\n",
    "                max_idx = curr_document\n",
    "            exceed_5120.append(curr_document)\n",
    "\n",
    "print(exceed_5120)\n",
    "print(f\"{len(exceed_5120)} out of {len(test_indices_2)} test files have char length larger than 5120 characters\")\n",
    "print(f\"Maximum char length: {max_len} of document #{max_idx}\")"
   ]
  },
  {
   "cell_type": "code",
   "execution_count": 33,
   "metadata": {},
   "outputs": [
    {
     "name": "stdout",
     "output_type": "stream",
     "text": [
      "{'id': '0', 'error': TextAnalyticsError(code=InvalidDocument, message=A document within the request was too large to be processed. Limit document size to: 5120 text elements. For additional details on the data limitations see https://aka.ms/text-analytics-data-limits, target=None), 'is_error': True, 'kind': 'DocumentError'}\n"
     ]
    }
   ],
   "source": [
    "# Example method for detecting sensitive information (PII) from text \n",
    "def pii_recognition_example(client):\n",
    "    # documents = [\n",
    "    #     \"The employee's SSN is 859-98-0987.\",\n",
    "    #     \"The employee's phone number is 555-555-5555.\"\n",
    "    # ]\n",
    "    # documents = [df.iloc[2672].full_text, df.iloc[5257].full_text]\n",
    "    documents = [df.iloc[5257].full_text]\n",
    "    response = client.recognize_pii_entities(documents, language=\"en\")\n",
    "    for doc in response:\n",
    "        print(doc)\n",
    "    # result = [doc for doc in response if not doc.is_error]\n",
    "    \n",
    "    # i = 0\n",
    "    # for doc in result:\n",
    "    #     # print(\"Redacted Text: {}\".format(doc.redacted_text))\n",
    "    #     print(f\"Iteration {i} ----------------\")\n",
    "    #     i += 1\n",
    "    #     for entity in doc.entities:\n",
    "    #         print(\"Entity: {}\".format(entity.text))\n",
    "    #         print(\"\\tCategory: {}\".format(entity.category))\n",
    "    #         print(\"\\tConfidence Score: {}\".format(entity.confidence_score))\n",
    "    #         print(\"\\tOffset: {}\".format(entity.offset))\n",
    "    #         print(\"\\tLength: {}\".format(entity.length))\n",
    "pii_recognition_example(client)"
   ]
  },
  {
   "cell_type": "code",
   "execution_count": 16,
   "metadata": {},
   "outputs": [],
   "source": [
    "def detect_pii(texts):\n",
    "    response = client.recognize_pii_entities(texts)\n",
    "    results = [result for result in response if not result.is_error]\n",
    "    return results\n",
    "\n",
    "input_texts = [df.iloc[2672].full_text, df.iloc[5257].full_text]\n",
    "# input_texts = [\"Hi, my name is Joe Doe. My phone number is 555-124-5263. Please email me at joedoe@hotmail.com.\"]  # List of all 22,688 text inputs\n",
    "pii_results = detect_pii(input_texts)\n"
   ]
  },
  {
   "cell_type": "code",
   "execution_count": 17,
   "metadata": {},
   "outputs": [
    {
     "name": "stdout",
     "output_type": "stream",
     "text": [
      "1\n"
     ]
    }
   ],
   "source": [
    "print(len(pii_results))"
   ]
  },
  {
   "cell_type": "code",
   "execution_count": 21,
   "metadata": {},
   "outputs": [
    {
     "name": "stdout",
     "output_type": "stream",
     "text": [
      "Entity: Asif Khan\n",
      "\tCategory: Person\n",
      "\tConfidence Score: 1.0\n",
      "\tOffset: 50\n",
      "\tLength: 9\n",
      "Entity: January 16, 2021\n",
      "\tCategory: DateTime\n",
      "\tConfidence Score: 1.0\n",
      "\tOffset: 93\n",
      "\tLength: 16\n",
      "Entity: users\n",
      "\tCategory: PersonType\n",
      "\tConfidence Score: 0.97\n",
      "\tOffset: 625\n",
      "\tLength: 5\n",
      "Entity: people\n",
      "\tCategory: PersonType\n",
      "\tConfidence Score: 0.69\n",
      "\tOffset: 917\n",
      "\tLength: 6\n",
      "Entity: Food\n",
      "\tCategory: PersonType\n",
      "\tConfidence Score: 0.71\n",
      "\tOffset: 925\n",
      "\tLength: 4\n",
      "Entity: makers\n",
      "\tCategory: PersonType\n",
      "\tConfidence Score: 0.42\n",
      "\tOffset: 930\n",
      "\tLength: 6\n",
      "Entity: delivery persons\n",
      "\tCategory: PersonType\n",
      "\tConfidence Score: 0.85\n",
      "\tOffset: 938\n",
      "\tLength: 16\n",
      "Entity: users\n",
      "\tCategory: PersonType\n",
      "\tConfidence Score: 0.98\n",
      "\tOffset: 960\n",
      "\tLength: 5\n",
      "Entity: http://jacobs-fisher.com/listpost.html)\n",
      "\tCategory: URL\n",
      "\tConfidence Score: 0.8\n",
      "\tOffset: 1312\n",
      "\tLength: 39\n",
      "Entity: users\n",
      "\tCategory: PersonType\n",
      "\tConfidence Score: 0.95\n",
      "\tOffset: 1474\n",
      "\tLength: 5\n",
      "Entity: stakeholders\n",
      "\tCategory: PersonType\n",
      "\tConfidence Score: 0.98\n",
      "\tOffset: 1488\n",
      "\tLength: 12\n",
      "Entity: now\n",
      "\tCategory: DateTime\n",
      "\tConfidence Score: 1.0\n",
      "\tOffset: 1628\n",
      "\tLength: 3\n",
      "Entity: stakeholders\n",
      "\tCategory: PersonType\n",
      "\tConfidence Score: 0.9\n",
      "\tOffset: 1857\n",
      "\tLength: 12\n",
      "Entity: participants\n",
      "\tCategory: PersonType\n",
      "\tConfidence Score: 0.9\n",
      "\tOffset: 1895\n",
      "\tLength: 12\n",
      "Entity: characters\n",
      "\tCategory: PersonType\n",
      "\tConfidence Score: 0.87\n",
      "\tOffset: 2219\n",
      "\tLength: 10\n",
      "Entity: participants\n",
      "\tCategory: PersonType\n",
      "\tConfidence Score: 0.98\n",
      "\tOffset: 2242\n",
      "\tLength: 12\n",
      "Entity: Insight\n",
      "\tCategory: Organization\n",
      "\tConfidence Score: 0.51\n",
      "\tOffset: 2397\n",
      "\tLength: 7\n",
      "Entity: stakeholders\n",
      "\tCategory: PersonType\n",
      "\tConfidence Score: 0.92\n",
      "\tOffset: 2757\n",
      "\tLength: 12\n"
     ]
    }
   ],
   "source": [
    "for doc in pii_results:\n",
    "    for entity in doc.entities:\n",
    "            print(\"Entity: {}\".format(entity.text))\n",
    "            print(\"\\tCategory: {}\".format(entity.category))\n",
    "            print(\"\\tConfidence Score: {}\".format(entity.confidence_score))\n",
    "            print(\"\\tOffset: {}\".format(entity.offset))\n",
    "            print(\"\\tLength: {}\".format(entity.length))\n",
    "    # print(doc.entities)"
   ]
  },
  {
   "cell_type": "markdown",
   "metadata": {},
   "source": [
    "### Switched to using REST API (Asynchronous requests)"
   ]
  },
  {
   "cell_type": "code",
   "execution_count": 111,
   "metadata": {},
   "outputs": [],
   "source": [
    "import json\n",
    "import requests\n",
    "\n",
    "with open('input/secret.json', 'r', encoding='UTF-8') as file:\n",
    "    secret_json = json.load(file)\n",
    "language_key = secret_json['LANGUAGE_KEY']\n",
    "language_endpoint = secret_json['LANGUAGE_ENDPOINT']\n",
    "# endpoint = language_endpoint + 'language/:analyze-text?api-version=2023-04-01'\n",
    "endpoint = language_endpoint + 'language/:analyze-text?api-version=2023-04-15-preview'"
   ]
  },
  {
   "cell_type": "code",
   "execution_count": 107,
   "metadata": {},
   "outputs": [],
   "source": [
    "headers = {\n",
    "    'Ocp-Apim-Subscription-Key': language_key,\n",
    "    'Content-Type': 'application/json',\n",
    "    'Accept': 'application/json'\n",
    "}"
   ]
  },
  {
   "cell_type": "code",
   "execution_count": 115,
   "metadata": {},
   "outputs": [],
   "source": [
    "# Create the Asynchronous Request\n",
    "def create_pii_detection_job(text):\n",
    "    data = {\n",
    "                \"kind\": \"PiiEntityRecognition\",\n",
    "                \"parameters\": {\n",
    "                    \"modelVersion\": \"latest\",\n",
    "                    \"piiCategories\": [\"Person\", \"URL\", \"Email\", \"PhoneNumber\"]\n",
    "                },\n",
    "                \"analysisInput\":{\n",
    "                    \"documents\":[\n",
    "                        {\n",
    "                            \"id\":\"1\",\n",
    "                            \"language\": \"en\",\n",
    "                            \"text\": text\n",
    "                        }\n",
    "                    ]\n",
    "                }\n",
    "            }\n",
    "\n",
    "    response = requests.post(endpoint, headers=headers, json=data)\n",
    "    return response.json()\n",
    "    # if response.status_code == 202:\n",
    "    #     print(\"Job created successfully. Job ID:\", response.headers[\"operation-location\"])\n",
    "    #     return response.headers[\"operation-location\"]\n",
    "    # else:\n",
    "    #     print(\"Error:\", response.json())\n",
    "    #     return None\n"
   ]
  },
  {
   "cell_type": "code",
   "execution_count": 63,
   "metadata": {},
   "outputs": [],
   "source": [
    "# # Poll for the Job’s Status\n",
    "# import time\n",
    "\n",
    "# def get_job_status(operation_location):\n",
    "#     while True:\n",
    "#         response = requests.get(operation_location, headers=headers)\n",
    "#         result = response.json()\n",
    "\n",
    "#         if response.status_code == 200:\n",
    "#             if result['status'] == 'succeeded':\n",
    "#                 print(\"Job completed successfully!\")\n",
    "#                 return result['tasks']['items']\n",
    "#             elif result['status'] in ['failed', 'cancelled']:\n",
    "#                 print(\"Job failed or was cancelled.\")\n",
    "#                 return None\n",
    "#             else:\n",
    "#                 print(\"Job in progress... checking again in 10 seconds.\")\n",
    "#         else:\n",
    "#             print(\"Error:\", result)\n",
    "#             return None\n",
    "        \n",
    "#         time.sleep(10)\n"
   ]
  },
  {
   "cell_type": "code",
   "execution_count": 116,
   "metadata": {},
   "outputs": [
    {
     "name": "stdout",
     "output_type": "stream",
     "text": [
      "Redacted Text: Visualization\n",
      "\n",
      "Peer-graded Assignment: Refection\n",
      "\n",
      "*********\n",
      "\n",
      "Design Thinking for Innovation\n",
      "\n",
      "January 16, 2021\n",
      "\n",
      "Challenge\n",
      "\n",
      "We all love to eat good food. Cooking good food at home is not always feasible.  Sometimes we want to taste diferent good food from diferent sources. We visit our  nearest restaurants, food shops, travel to diferent regions, and taste diferent cuisine.  We also love to have good food delivered to their homes.\n",
      "\n",
      "In the COVID-19 pandemic, the situation is changed. The demand for food delivery  services is geting higher. we use the tool of Visualization, or Visual Thinking, to  understand and know the users' pain points, come up with user-friendly and  functional solutions.\n",
      "\n",
      "Selection\n",
      "\n",
      "Visualization is one of the very important tools. It is a core component of the way to  communicate. It allows us to think in a nonverbal way. Designing a food delivery service  involves diferent groups of people. Food makers, delivery persons, and users of the  service are the indispensable parts of the service.\n",
      "\n",
      "We will focus on trying to uncover what they think, speak and do. And also use  technology to ensure seamless food delivery service and experience. We take  inspiration from diferent resources. \"The Good Kitchen\" story mentioned at the very  beginning of the course is one of them.   (***************************************\n",
      "\n",
      "Application\n",
      "\n",
      "Before diving down to the core we tried to understand the current scenario frst. We  identifed the targeted users and the stakeholders to fnd answers to some very  important questions.\n",
      "\n",
      "Who they are? Where they live? What are the problems and how they face them now?  How they address and communicate? What solutions they currently have and how  they use them? What are the pain points and experiences? What are their  expectations?\n",
      "\n",
      "Peer-graded Assignment: Refection Page 2\n",
      "\n",
      "We divided the stakeholders into small groups of 5-6 participants each representing a  diferent organization or area of interest. We asked them diferent set questions. Learn  about their interests. We approached them with our diferent ideas to collect their  feedback. We used visualization tools to describe the ideas. We sketch plots, used  images, design dialog between the characters. We let the participants make  comments on it. We also conducted some interactive sessions individually and  collectively. Those helped us to get important insights.\n",
      "\n",
      "Insight\n",
      "\n",
      "By applying the visualization tool, we identifed our assumptions and designed stories  to test these assumptions. Additionally, we thought through anticipated results,  expecting to fnd that a more agile approach would improve our workfow. We've  documented the learnings and insights from the sessions. The visualization tool helps  us to understand stakeholders' perspectives and develop insights into potential root  causes of their problems. Moving forward, we will review this insight and incorporate it  into future sessions.\n",
      "\n",
      "Approach\n",
      "\n",
      "We have learned from conducting this exercise with several groups, incorporates  feedback, understanding of the problem, shared insights, and shared learning. Since  we have discovered that the most valuable aspect is the shared insights and learning,  next time we would use the visualization activity as a starting point for a series of  design thinking activities.\n",
      "\n",
      "Peer-graded Assignment: Refection Page 3\n",
      "\n",
      "\n",
      "Detected PII Entity: Asif Khan\n",
      "Category: Person, Confidence: 1.0\n",
      "\n",
      "Detected PII Entity: http://jacobs-fisher.com/listpost.html)\n",
      "Category: URL, Confidence: 0.8\n",
      "\n"
     ]
    }
   ],
   "source": [
    "# Process the Results\n",
    "def process_results(items):\n",
    "    for item in items:\n",
    "        pii_entities = item.get(\"results\", {}).get(\"documents\", [])[0].get(\"entities\", [])\n",
    "        for entity in pii_entities:\n",
    "            print(f\"Detected PII entity: {entity['text']}, Category: {entity['category']}, Confidence: {entity['confidenceScore']}\")\n",
    "\n",
    "def process_results(response):\n",
    "    # Extracting detected entities from the response\n",
    "    for document in response['results']['documents']:\n",
    "        redacted_text = document['redactedText']\n",
    "        print(f\"Redacted Text: {redacted_text}\")\n",
    "        \n",
    "        for entity in document['entities']:\n",
    "            print(f\"Detected PII Entity: {entity['text']}\")\n",
    "            print(f\"Category: {entity['category']}, Confidence: {entity['confidenceScore']}\\n\")\n",
    "\n",
    "# Example usage:\n",
    "input_file = df.iloc[2672].full_text\n",
    "# input_file = df.iloc[5257].full_text\n",
    "json_response = create_pii_detection_job(input_file)\n",
    "process_results(json_response)\n",
    "# if job_id:\n",
    "#     job_results = get_job_status(job_id)\n",
    "#     if job_results:\n",
    "#         process_results(job_results)\n"
   ]
  },
  {
   "cell_type": "code",
   "execution_count": 117,
   "metadata": {},
   "outputs": [
    {
     "data": {
      "text/plain": [
       "{'kind': 'PiiEntityRecognitionResults',\n",
       " 'results': {'documents': [{'redactedText': 'Visualization\\n\\nPeer-graded Assignment: Refection\\n\\n*********\\n\\nDesign Thinking for Innovation\\n\\nJanuary 16, 2021\\n\\nChallenge\\n\\nWe all love to eat good food. Cooking good food at home is not always feasible.  Sometimes we want to taste diferent good food from diferent sources. We visit our  nearest restaurants, food shops, travel to diferent regions, and taste diferent cuisine.  We also love to have good food delivered to their homes.\\n\\nIn the COVID-19 pandemic, the situation is changed. The demand for food delivery  services is geting higher. we use the tool of Visualization, or Visual Thinking, to  understand and know the users\\' pain points, come up with user-friendly and  functional solutions.\\n\\nSelection\\n\\nVisualization is one of the very important tools. It is a core component of the way to  communicate. It allows us to think in a nonverbal way. Designing a food delivery service  involves diferent groups of people. Food makers, delivery persons, and users of the  service are the indispensable parts of the service.\\n\\nWe will focus on trying to uncover what they think, speak and do. And also use  technology to ensure seamless food delivery service and experience. We take  inspiration from diferent resources. \"The Good Kitchen\" story mentioned at the very  beginning of the course is one of them.   (***************************************\\n\\nApplication\\n\\nBefore diving down to the core we tried to understand the current scenario frst. We  identifed the targeted users and the stakeholders to fnd answers to some very  important questions.\\n\\nWho they are? Where they live? What are the problems and how they face them now?  How they address and communicate? What solutions they currently have and how  they use them? What are the pain points and experiences? What are their  expectations?\\n\\nPeer-graded Assignment: Refection Page 2\\n\\nWe divided the stakeholders into small groups of 5-6 participants each representing a  diferent organization or area of interest. We asked them diferent set questions. Learn  about their interests. We approached them with our diferent ideas to collect their  feedback. We used visualization tools to describe the ideas. We sketch plots, used  images, design dialog between the characters. We let the participants make  comments on it. We also conducted some interactive sessions individually and  collectively. Those helped us to get important insights.\\n\\nInsight\\n\\nBy applying the visualization tool, we identifed our assumptions and designed stories  to test these assumptions. Additionally, we thought through anticipated results,  expecting to fnd that a more agile approach would improve our workfow. We\\'ve  documented the learnings and insights from the sessions. The visualization tool helps  us to understand stakeholders\\' perspectives and develop insights into potential root  causes of their problems. Moving forward, we will review this insight and incorporate it  into future sessions.\\n\\nApproach\\n\\nWe have learned from conducting this exercise with several groups, incorporates  feedback, understanding of the problem, shared insights, and shared learning. Since  we have discovered that the most valuable aspect is the shared insights and learning,  next time we would use the visualization activity as a starting point for a series of  design thinking activities.\\n\\nPeer-graded Assignment: Refection Page 3\\n\\n',\n",
       "    'id': '1',\n",
       "    'entities': [{'text': 'Asif Khan',\n",
       "      'category': 'Person',\n",
       "      'offset': 50,\n",
       "      'length': 9,\n",
       "      'confidenceScore': 1.0},\n",
       "     {'text': 'http://jacobs-fisher.com/listpost.html)',\n",
       "      'category': 'URL',\n",
       "      'offset': 1312,\n",
       "      'length': 39,\n",
       "      'confidenceScore': 0.8}],\n",
       "    'warnings': []}],\n",
       "  'errors': [],\n",
       "  'modelVersion': '2023-09-01'}}"
      ]
     },
     "execution_count": 117,
     "metadata": {},
     "output_type": "execute_result"
    }
   ],
   "source": [
    "json_response"
   ]
  },
  {
   "cell_type": "code",
   "execution_count": 122,
   "metadata": {},
   "outputs": [
    {
     "data": {
      "text/plain": [
       "'Design Thinking for Innovation - Assignment\\n\\nSherif Mackie (India)           Mobile Number:    764.356.3313x9314\\n\\nLinkedIn:       Email:  http://www.linkedin.com/in/catherinemoore    peter93@hotmail.com\\n\\nChallenge – Develop An Organizational Health Card\\n\\nDr. Angie’s Foundation (angiesfoundation.org/) is a 20 year old organization in the Social\\n\\nDevelopment space that operates various programmes in around 20 states across India. Over the past  couple of years, the organization has undertaken a transformational journey and is currently looking to set  itself up as an impactful force driving innovative solutions to adaptive social problems.\\n\\nThe challenge was to create a score card which could be used to measure the entire organization\\n\\nnot only by the activities and deliverables but also in terms of its inherent robustness and preparedness to  move to the next level. This is the first time the organization is attempting a monitoring and evaluation  mechanism at this scale.\\n\\nThis would be a comprehensive mechanism that would help the organization understand it’s\\n\\nstrengths and weaknesses while at the same time assigning focus and ownership on all critical aspects of  the various departments and programmes.\\n\\nTools - Selection & Application – Mind Mapping and then Learning Launch\\n\\nMind Mapping: (Module 3)\\n\\nThere was a large amount of data collected by the various department heads and programme heads\\n\\nregarding the current processes, systems, strengths, weaknesses, opportunities and threats faced by Dr.  Reddy’s Foundation. This massive amount of data was collated in a central location and then the entire  team of department heads and programme heads went about trying to draw out patterns and insights from  the data. The team wanted to have a set of criteria which could be finalized from this and then get into the  idea generation phase.\\n\\nSo all the information was represented visually wherever possible and a set of team members were\\n\\nasked to look through the details and try to highlight the most important and impactful details out of the  entire mass of information. Whatever details the team picked up was clustered into groups under a high  level heading. Once all the information was classified into clusters, the team then tried to work out  connections and linkages between the various clusters of data. When clear and strong linkages were  identified and noted, specific insights were drawn from them. After that, the insights were ranked on an  importance scale and the design criteria for the Organizational Health Card were finalized.     Learning Launch: (Module 4)\\n\\nBased on the design criteria, there were multiple ideas generated for the Organizational Health\\n\\nCard and most of them were workable options. But we needed one format that would be future ready and  also able to give the most comprehensive picture of the organization. So we decided to experiment with the  various options available with us and adopted the Learning Launch tool to go ahead. This helped us to test  multiple formats and arrive at the optimal option.\\n\\nThe various formats were given to the team and each of the versions was completed and then\\n\\nevaluated for the end result of comprehensive and accurate representation of the Organization’s Health.  The Learning Launch that we adopted threw up many interesting experiences while also helping us to refine  the formats to test out various weightages and measurements. We finally arrived at a format for the  organizational health card that is currently being used. It is still being iterated since we look at it as a  continuous process.\\n\\nInsights – On the Challenge and on Design Thinking\\n\\n\\uf0d8 On the Challenge:\\n\\no The Organizational Score Card brought together our brightest and best minds to work on a cross-\\n\\nfunctional collaborative project\\n\\no We ensured engagement and participation from all verticals of the organization  o We did not jump to conclusions but evaluated numerous options while searching for higher ground.  o We spent a lot of time understanding the nuances of the challenge in terms of long term impact\\n\\n\\uf0d8 On Design Thinking:\\n\\no We realized that mind-mapping throws up a lot more inputs from diverse sources  o There were so many interesting and innovative ways in which each point of data and each titbit of\\n\\ninformation can be clustered together to throw up entirely new ways of looking at them\\n\\no Getting all department heads and programme heads to participate in the design process helped to\\n\\nget a very crowdsourced and high quality end result\\n\\no Everyone was able to contribute from their unique positions of skill and knowledge that resulted in\\n\\nimmense value add to the end result\\n\\no We understood the extreme value of learning launches in helping to refine and iterate while\\n\\nreducing the cost of failure\\n\\no There were many diverse formats that intuitively felt adequate but which were proved to be\\n\\ninsufficient when tested under a learning launch\\n\\no The entire process of Design Thinking with emphasis on Human Centred Design was leveraged and\\n\\nresulted in the best possible outcome for all stakeholders\\n\\nApproach – Evaluating use of Alternate approaches\\n\\nNo alternate approaches were used in the current instance since we were working on the textbook\\n\\nmodel described in this course. We started with the requirement and then moved on to the various  methods and tools that could be used. Based on secondary research and industry best practices, we worked  on various models and formats. Then by consensus, we adopted the Mind Mapping tool and the Learning  Launch tool to finalize the project.\\n\\nAt the end of the process, we realized that the tools that we had chosen were very appropriate to\\n\\nthe requirement at hand and they were more than sufficient to deliver the required output exceeding the  equivalent quality of output given by non-design thinking tools without compromising on the speed of  execution or stretching the resources available with the team. So even if we were to hypothetically assume  that we would be doing the exercise again, we would go ahead with the same tools that we had utilized this  time.\\n\\nThank You – I appreciate your taking time to evaluate my Assignment\\n\\nI am delighted to get in touch with you through this course on ‘Design Thinking for Innovation’ and I\\n\\nlook forward to a lot of productive interaction with you through both online ( )  peter93@hotmail.com\\n\\nand offline (+ ) channels.   +1-203-997-8660x83432\\n\\nI am a Strategist and Marketeer based in Hyderabad (India). It would be great to connect with you\\n\\non Linkedin ( ). I will be delighted to help you with any relevant  http://www.linkedin.com/in/catherinemoore\\n\\nsupport and inputs you may require with respect to my organization, my sector and my location. I am  looking forward to a mutually beneficial, long-term professional relationship with you. Take care and do  keep in touch.\\n\\nWarm regards,   Sherif Mackie\\n\\n'"
      ]
     },
     "execution_count": 122,
     "metadata": {},
     "output_type": "execute_result"
    }
   ],
   "source": [
    "df.iloc[5257].full_text"
   ]
  }
 ],
 "metadata": {
  "kernelspec": {
   "display_name": "Python 3",
   "language": "python",
   "name": "python3"
  },
  "language_info": {
   "codemirror_mode": {
    "name": "ipython",
    "version": 3
   },
   "file_extension": ".py",
   "mimetype": "text/x-python",
   "name": "python",
   "nbconvert_exporter": "python",
   "pygments_lexer": "ipython3",
   "version": "3.12.4"
  }
 },
 "nbformat": 4,
 "nbformat_minor": 2
}
