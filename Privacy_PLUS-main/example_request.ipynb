{
  "nbformat": 4,
  "nbformat_minor": 0,
  "metadata": {
    "colab": {
      "provenance": []
    },
    "kernelspec": {
      "name": "python3",
      "display_name": "Python 3"
    },
    "language_info": {
      "name": "python"
    }
  },
  "cells": [
    {
      "cell_type": "code",
      "execution_count": 1,
      "metadata": {
        "colab": {
          "base_uri": "https://localhost:8080/"
        },
        "id": "QF2kphsR2TOK",
        "outputId": "c3538f19-f042-44a1-ee29-40623eed67d4"
      },
      "outputs": [
        {
          "output_type": "stream",
          "name": "stdout",
          "text": [
            "File uploaded successfully! File ID: file-VFEjcpZmiiB6zvo8YLhmIUW9\n"
          ]
        }
      ],
      "source": [
        "import requests\n",
        "import os\n",
        "#TODO: define the API key\n",
        "#TODO: upload file pii_detected_train.jsonl to google colab\n",
        "\n",
        "\n",
        "api_key = None\n",
        "\n",
        "# Define headers for the upload request\n",
        "headers = {\n",
        "    \"Authorization\": f\"Bearer {api_key}\"\n",
        "}\n",
        "\n",
        "# File upload request URL\n",
        "upload_url = \"https://api.openai.com/v1/files\"\n",
        "file_path = \"/content/pii_detected_train.jsonl\"  # Change this to the actual file path\n",
        "\n",
        "# Open the file in binary mode\n",
        "with open(file_path, 'rb') as f:\n",
        "    # Make the file upload request\n",
        "    response = requests.post(upload_url, headers=headers, files={\n",
        "        'file': (os.path.basename(file_path), f, 'application/json')\n",
        "    }, data={\n",
        "        \"purpose\": \"fine-tune\"\n",
        "    })\n",
        "\n",
        "# Check if file upload was successful\n",
        "if response.status_code == 200:\n",
        "    upload_response = response.json()\n",
        "    file_id = upload_response['id']  # The uploaded file ID\n",
        "    print(f\"File uploaded successfully! File ID: {file_id}\")\n",
        "else:\n",
        "    print(f\"File upload failed. Status code: {response.status_code}\")\n",
        "    print(\"Response:\", response.text)\n"
      ]
    },
    {
      "cell_type": "code",
      "source": [
        "import requests\n",
        "import json\n",
        "#TODO: update file_id to what is given to you by running the above script\n",
        "#TODO: choose model between gpt-4o-mini-2024-07-18 or gpt-4o-2024-08-06 by changing the model field of fine_tune_data\n",
        "\n",
        "\n",
        "# Define headers for the fine-tuning request\n",
        "headers = {\n",
        "    \"Authorization\": f\"Bearer {api_key}\",\n",
        "    \"Content-Type\": \"application/json\"\n",
        "}\n",
        "\n",
        "# Fine-tuning request URL\n",
        "fine_tune_url = \"https://api.openai.com/v1/fine_tuning/jobs\"\n",
        "\n",
        "# Replace this with the file ID from the previous upload step\n",
        "file_id = \"file-VFEjcpZmiiB6zvo8YLhmIUW9\"\n",
        "\n",
        "# Prepare the payload for fine-tuning\n",
        "fine_tune_data = {\n",
        "    \"training_file\": file_id,  # Use the file_id from the upload response\n",
        "    \"model\": \"gpt-4o-mini-2024-07-18\",  # Replace this with your desired base model\n",
        "    \"hyperparameters\": {\n",
        "        \"n_epochs\": 2  # You can adjust the number of epochs\n",
        "    }\n",
        "}\n",
        "\n",
        "# Send the fine-tuning request\n",
        "response = requests.post(fine_tune_url, headers=headers, data=json.dumps(fine_tune_data))\n",
        "\n",
        "# Check if the fine-tuning request was successful\n",
        "if response.status_code == 200:\n",
        "    print(\"Fine-tuning request submitted successfully!\")\n",
        "    print(\"Response:\", response.json())\n",
        "else:\n",
        "    print(f\"Failed to submit fine-tuning request. Status code: {response.status_code}\")\n",
        "    print(\"Response:\", response.text)\n"
      ],
      "metadata": {
        "colab": {
          "base_uri": "https://localhost:8080/"
        },
        "id": "3GvTYOtP3rfX",
        "outputId": "14fb738d-a1a6-4f54-908b-3f8f1cb96421"
      },
      "execution_count": 3,
      "outputs": [
        {
          "output_type": "stream",
          "name": "stdout",
          "text": [
            "Fine-tuning request submitted successfully!\n",
            "Response: {'object': 'fine_tuning.job', 'id': 'ftjob-ifN8ruXCPJ4GPp28brF2KpCw', 'model': 'gpt-4o-mini-2024-07-18', 'created_at': 1725870419, 'finished_at': None, 'fine_tuned_model': None, 'organization_id': 'org-okg2CRfiQn8iBsrlTRIZdan9', 'result_files': [], 'status': 'validating_files', 'validation_file': None, 'training_file': 'file-VFEjcpZmiiB6zvo8YLhmIUW9', 'hyperparameters': {'n_epochs': 1, 'batch_size': 'auto', 'learning_rate_multiplier': 'auto'}, 'trained_tokens': None, 'error': {}, 'user_provided_suffix': None, 'seed': 1542458111, 'estimated_finish': None, 'integrations': []}\n"
          ]
        }
      ]
    },
    {
      "cell_type": "code",
      "source": [
        "\n",
        "#TODO: change fine_tune_job_id to the actual id provided by above script\n",
        "#TODO: add the api_key when running this script again after a few hours\n",
        "\n",
        "#api_key = None\n",
        "# Define headers for the request\n",
        "headers = {\n",
        "    \"Authorization\": f\"Bearer {api_key}\"\n",
        "}\n",
        "\n",
        "# Replace this with the actual fine-tuning job ID\n",
        "fine_tune_job_id = \"ftjob-ifN8ruXCPJ4GPp28brF2KpCw\"\n",
        "\n",
        "# Define the URL for getting the status of the fine-tuning job\n",
        "url = f\"https://api.openai.com/v1/fine_tuning/jobs/{fine_tune_job_id}\"\n",
        "\n",
        "# Send the GET request\n",
        "response = requests.get(url, headers=headers)\n",
        "\n",
        "# Check if the request was successful\n",
        "if response.status_code == 200:\n",
        "    print(\"Fine-tuning job details retrieved successfully!\")\n",
        "    print(\"Response:\", response.json())\n",
        "else:\n",
        "    print(f\"Failed to retrieve fine-tuning job details. Status code: {response.status_code}\")\n",
        "    print(\"Response:\", response.text)\n"
      ],
      "metadata": {
        "colab": {
          "base_uri": "https://localhost:8080/"
        },
        "id": "RPLtxxLz5OCM",
        "outputId": "529ad24e-39ae-47c4-b351-ce482a0a895c"
      },
      "execution_count": 5,
      "outputs": [
        {
          "output_type": "stream",
          "name": "stdout",
          "text": [
            "Fine-tuning job details retrieved successfully!\n",
            "Response: {'object': 'fine_tuning.job', 'id': 'ftjob-ifN8ruXCPJ4GPp28brF2KpCw', 'model': 'gpt-4o-mini-2024-07-18', 'created_at': 1725870419, 'finished_at': None, 'fine_tuned_model': None, 'organization_id': 'org-okg2CRfiQn8iBsrlTRIZdan9', 'result_files': [], 'status': 'validating_files', 'validation_file': None, 'training_file': 'file-VFEjcpZmiiB6zvo8YLhmIUW9', 'hyperparameters': {'n_epochs': 1, 'batch_size': 2, 'learning_rate_multiplier': 1.8}, 'trained_tokens': None, 'error': {}, 'user_provided_suffix': None, 'seed': 1542458111, 'estimated_finish': None, 'integrations': []}\n"
          ]
        }
      ]
    },
    {
      "cell_type": "code",
      "source": [
        "#keep the id, run the above script after a few hours to check if the job is completed.\n",
        "# If the job is completed, fine_tuned_model field in the response should be a string that gives you the finetuned model name"
      ],
      "metadata": {
        "id": "1-zpJ-6z7Vl8"
      },
      "execution_count": null,
      "outputs": []
    }
  ]
}