{
 "cells": [
  {
   "cell_type": "code",
   "execution_count": 1,
   "metadata": {},
   "outputs": [
    {
     "name": "stdout",
     "output_type": "stream",
     "text": [
      "260\n"
     ]
    }
   ],
   "source": [
    "with open(\"processed_transcripts.txt\", \"r\", encoding=\"utf-8\") as file:\n",
    "    processed_transcripts = eval(file.read())\n",
    "\n",
    "print(len(processed_transcripts))"
   ]
  },
  {
   "cell_type": "code",
   "execution_count": 3,
   "metadata": {},
   "outputs": [
    {
     "name": "stdout",
     "output_type": "stream",
     "text": [
      "260\n",
      "[[12, 21, 'STUDENT'], [1430, 1439, 'STUDENT'], [2253, 2262, 'STUDENT'], [2816, 2825, 'STUDENT'], [3301, 3310, 'STUDENT'], [3933, 3942, 'STUDENT'], [4123, 4132, 'STUDENT'], [5158, 5167, 'STUDENT'], [6419, 6428, 'STUDENT']]\n"
     ]
    }
   ],
   "source": [
    "with open(\"placeholder_locations.txt\", \"r\", encoding=\"utf-8\") as file:\n",
    "    placeholder_locations = eval(file.read())\n",
    "\n",
    "print(len(placeholder_locations))\n",
    "print(placeholder_locations[0])"
   ]
  },
  {
   "cell_type": "code",
   "execution_count": 5,
   "metadata": {},
   "outputs": [
    {
     "data": {
      "text/plain": [
       "'en Emma J'"
      ]
     },
     "execution_count": 5,
     "metadata": {},
     "output_type": "execute_result"
    }
   ],
   "source": [
    "processed_transcripts[0][1430:1439]"
   ]
  },
  {
   "cell_type": "code",
   "execution_count": 9,
   "metadata": {},
   "outputs": [
    {
     "name": "stdout",
     "output_type": "stream",
     "text": [
      "<STUDENT>\n"
     ]
    }
   ],
   "source": [
    "with open('original_transcripts.txt', \"r\", encoding=\"utf-8\") as file:\n",
    "    original_transcripts = eval(file.read())\n",
    "\n",
    "print(original_transcripts[0][1430:1439])"
   ]
  }
 ],
 "metadata": {
  "kernelspec": {
   "display_name": "Python 3",
   "language": "python",
   "name": "python3"
  },
  "language_info": {
   "codemirror_mode": {
    "name": "ipython",
    "version": 3
   },
   "file_extension": ".py",
   "mimetype": "text/x-python",
   "name": "python",
   "nbconvert_exporter": "python",
   "pygments_lexer": "ipython3",
   "version": "3.12.4"
  }
 },
 "nbformat": 4,
 "nbformat_minor": 2
}
