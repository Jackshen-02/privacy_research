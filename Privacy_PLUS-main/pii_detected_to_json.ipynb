{
 "cells": [
  {
   "cell_type": "code",
   "execution_count": 1,
   "metadata": {},
   "outputs": [],
   "source": [
    "import pandas as pd\n",
    "import json\n",
    "\n",
    "# Load the DataFrame from CSV\n",
    "df = pd.read_csv('output/pii_detected_trf_filtered.csv')\n",
    "\n",
    "# Define the category dictionary\n",
    "category_dict = {\n",
    "    'PERSON': \"student's name\",\n",
    "    'EMAIL_ADDRESS': \"personal email address\",\n",
    "    'URL': \"personal URL\",\n",
    "    'PHONE_NUMBER': \"personal phone number\"\n",
    "}\n",
    "\n",
    "# Prepare the JSONL data for fine-tuning\n",
    "jsonl_data = []\n",
    "\n",
    "for index, row in df.iterrows():\n",
    "    entity_text = row['entity_text']\n",
    "    entity_type = row['type']\n",
    "    sentence = row['sentence']\n",
    "    true_label = row['true_label']\n",
    "    \n",
    "    # Generate the structured message\n",
    "    message = {\n",
    "        \"messages\": [\n",
    "            {\"role\": \"system\", \"content\": \"You are a helpful assistant.\"},\n",
    "            {\"role\": \"user\", \"content\": f\"Determine if '{entity_text}' is a {category_dict[entity_type]} in this context: '{sentence}'? Output only 'T' for True or 'F' for False without additional output.\"},\n",
    "            {\"role\": \"assistant\", \"content\": true_label}\n",
    "        ]\n",
    "    }\n",
    "    \n",
    "    # Append to the JSONL data list\n",
    "    jsonl_data.append(message)\n",
    "\n",
    "# Write to a JSONL file\n",
    "output_file = 'output/pii_detected_all.jsonl'\n",
    "with open(output_file, 'w') as f:\n",
    "    for entry in jsonl_data:\n",
    "        f.write(json.dumps(entry) + '\\n')\n"
   ]
  }
 ],
 "metadata": {
  "kernelspec": {
   "display_name": "Python 3",
   "language": "python",
   "name": "python3"
  },
  "language_info": {
   "codemirror_mode": {
    "name": "ipython",
    "version": 3
   },
   "file_extension": ".py",
   "mimetype": "text/x-python",
   "name": "python",
   "nbconvert_exporter": "python",
   "pygments_lexer": "ipython3",
   "version": "3.12.4"
  }
 },
 "nbformat": 4,
 "nbformat_minor": 2
}
