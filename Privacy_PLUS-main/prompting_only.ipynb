{
 "cells": [
  {
   "cell_type": "code",
   "execution_count": 1,
   "metadata": {},
   "outputs": [],
   "source": [
    "import re\n",
    "import pandas as pd\n",
    "import typing\n",
    "from typing import List,Tuple, Optional, NoReturn\n",
    "import tiktoken\n",
    "from openai import OpenAI\n",
    "import json\n",
    "\n",
    "with open('input/secret.json', 'r', encoding='UTF-8') as file:\n",
    "    secret_json = json.load(file)\n",
    "api_key = secret_json['OPENAI_API_KEY']\n",
    "client = OpenAI(api_key=api_key)\n",
    "\n",
    "FULL_TEXT = 0\n",
    "D = {'NAME_STUDENT': ('@@@','###'), \n",
    "      'URL_PERSONAL':('&&&','$$$'),\n",
    "      'EMAIL':('QQQ','^^^'),\n",
    "      'PHONE_NUM':(r'%%%',r'~~~'),\n",
    "    }\n",
    "PATTERN = r'@@@(.*?)###|&&&(.*?)\\$\\$\\$|QQQ(.*?)\\^\\^\\^|%%%(.*?)~~~'\n",
    "\n",
    "IndexTable =[key for key in D.keys()]"
   ]
  },
  {
   "cell_type": "code",
   "execution_count": 2,
   "metadata": {},
   "outputs": [],
   "source": [
    "def read_csv(path = 'data/pii_true_entities.csv'):\n",
    "    df = pd.read_csv(path,encoding='utf-8')\n",
    "    return df\n",
    "\n",
    "def read_json(path = 'data/obfuscated_data_06.json'):\n",
    "    df = pd.read_json(path, orient=\"records\",encoding='utf-8')\n",
    "    return df\n",
    "\n",
    "\n",
    "label = read_csv()\n",
    "\n",
    "df = read_json()"
   ]
  },
  {
   "cell_type": "code",
   "execution_count": 3,
   "metadata": {},
   "outputs": [],
   "source": [
    "#function to create training example and parse return\n",
    "def count_special_token(text:str)->int:\n",
    "    #params: text: string of annotated text\n",
    "    #output: number of special tokens(in num_chars) in the input text, int\n",
    "    acc = 0\n",
    "    for val in D.values():\n",
    " \n",
    "        tok1,tok2 = val\n",
    "        #print(f'{tok1} count:',text.count(tok1))\n",
    "        #print(f'{tok2} count:',text.count(tok2))\n",
    "        acc += text.count(tok1)*3 + text.count(tok2)*3\n",
    "    return acc\n",
    "\n",
    "\n",
    "def mkTrainingExample(text: str, L: List[Tuple[str,str, int, int]]) -> str:\n",
    "    #params: text: string of unlabeled text \n",
    "    #param: L: string *string * int * int list, where the first string is entity name(not used), second string is the type of entity, int * int is the start:end index of the entity in text\n",
    "    #output: labeld_text: string of labeled text\n",
    "    \n",
    "    offset = 0\n",
    "    for entity in L: \n",
    "        _,label, start, end = entity\n",
    "        start = start + offset\n",
    "        end = end + offset\n",
    "\n",
    "        start_mark,end_mark = D[label]\n",
    "        offset += 6\n",
    "        text = text[:start] + start_mark + text[start:end] + end_mark + text[end:]\n",
    "    return text     \n",
    "\n",
    "def parse_return(text:str) -> List[Tuple[str,str,int,int]]: \n",
    "    #param: string of annotated text\n",
    "    #output: string * string * int * int list, string of entity name, string of entity type, int * int of start and end index \n",
    "\n",
    "    matches = re.finditer(PATTERN, text)\n",
    "    extracted_matches = []\n",
    "    #extract all the matched sub-string\n",
    "    \n",
    "    for match in matches:\n",
    "        for i in range(1,len(match.groups())+1):\n",
    "            match_text = match.group(i)\n",
    "\n",
    "            if match_text != None:\n",
    "                label = IndexTable[i-1]\n",
    "                offset = count_special_token(text[:match.start(i)])\n",
    "                start_index = match.start(i) - offset\n",
    "                end_index = match.end(i) - offset\n",
    "\n",
    "                extracted_matches.append([match_text, label,start_index, end_index])\n",
    "    return extracted_matches \n",
    "\n",
    "\n",
    "def cmp(l1): \n",
    "    return int(l1[2])\n",
    "\n",
    "def get_all_labels(file_idx:int,df :pd.DataFrame) -> List[Tuple[str,str,int,int]]: \n",
    "    #params: file_idx as the index of unannotated text \n",
    "    #params: df as the .csv file containing entity information\n",
    "    #output: string * string * int * int list, string of entity name, string of entity type, int * int of start and end index\n",
    "    df = df[df['file_idx'] == file_idx] \n",
    "    L = df.values.tolist()\n",
    "\n",
    "    for i in range(len(L)):\n",
    "        L[i] = L[i][1:]\n",
    "        last = L[i][-1]\n",
    "        last = last[1:-1]\n",
    "        last = last.split(',')\n",
    "        \n",
    "        L[i] = L[i][:-1]\n",
    "        L[i].append(int(last[0]))\n",
    "        L[i].append(int(last[1]))\n",
    "    L.sort(key =cmp)\n",
    "    return L\n",
    "\n",
    "def get_train_example(idx:int)-> str: \n",
    "    return df.iloc[idx,FULL_TEXT]\n",
    "\n",
    "\n",
    "\n",
    "def get_gpt_response(input_text:str) -> str:\n",
    "    #param: string of text to be annotated \n",
    "    #out: string of text annotated \n",
    "\n",
    "    system_prompt = \"You are an expert in labeling Personally Identifiable Information. Start your response rightaway without adding any prefix(such as Response:) and suffix\"\n",
    "\n",
    "    ins_prompt = '''Label the entity of the following text: @@@,### to label student name;\n",
    "&&&,$$$ to label personal URL; QQQ,^^^ to label personal email; %%%,~~~ to label phone number\\n\n",
    "Ensure that the rest of the text remains unchanged, word for word.\n",
    "Maintain the original punctuation, quotation marks, spaces, and line breaks. \n",
    "If the text does not contain any PII, return it as is.\n",
    "For example, if the input is:\n",
    "COURSERA - University of Virginia, Darden School of Business - Design Thinking Assignment    Dharmendra Asiri    Washington,DC / March 8, 2019    email djones@gmail.com  linkedIn https://www.linkedin.com/in/mmartinez\n",
    "The output should be:\n",
    "COURSERA - University of Virginia, Darden School of Business - Design Thinking Assignment    @@@Dharmendra Asiri###    Washington,DC / March 8, 2019    email QQQdjones@gmail.com^^^  linkedIn &&&https://www.linkedin.com/in/mmartinez$$$\n",
    "Another example:\n",
    "I do conclude, my assignment by thanking Lecturers, University of Virginia and other  partners who contributed to this online courses.\\n\\nMay God bless you.\\n\\nEslam Abo Fatma\\n\\nRwanda- Africa\\n\\nEmail: murraythomas@gmail.com\\n\\nTel: (223)392-2765\\n\\n'\n",
    "The output should be:\n",
    "I do conclude, my assignment by thanking Lecturers, University of Virginia and other  partners who contributed to this online courses.\\n\\nMay God bless you.\\n\\n@@@Eslam Abo Fatma###\\n\\nRwanda- Africa\\n\\nEmail: QQQmurraythomas@gmail.com^^^\\n\\nTel: %%%(223)392-2765~~~\\n\\n'\n",
    "Another example:\n",
    "An article was published which  described one of the most successful entrepreneurs in the world, Jeff Bezos. It was mentioned  that Bezos insists that no PPTs are shown during the board meetings but stories are told.\n",
    "The output should be exactly the same as input:\n",
    "An article was published which  described one of the most successful entrepreneurs in the world, Jeff Bezos. It was mentioned  that Bezos insists that no PPTs are shown during the board meetings but stories are told.\n",
    "Please repeat this process with the following file:\\n\n",
    "'''\n",
    "\n",
    "    response = client.chat.completions.create(\n",
    "        model=\"gpt-4o-mini\",\n",
    "        messages=[\n",
    "            {\"role\": \"system\", \"content\": system_prompt},\n",
    "            {\"role\": \"user\", \"content\": ins_prompt + input_text}],\n",
    "        temperature = 0)\n",
    "    return response.choices[0].message.content \n",
    "\n",
    "\n",
    "def get_train_example(idx:int)-> str: \n",
    "    return df.iloc[idx,FULL_TEXT]\n",
    "\n",
    "def get_testing_list(path = 'data/test_indices.txt')-> List[int]:\n",
    "    with open(path,'r') as file:\n",
    "        string = file.read() \n",
    "    string = string [1:-1]\n",
    "    L = [int(each) for each in string.split(',')]\n",
    "    return L \n",
    "\n"
   ]
  },
  {
   "cell_type": "code",
   "execution_count": 18,
   "metadata": {},
   "outputs": [],
   "source": [
    "# import random\n",
    "\n",
    "# testing_index_list = get_testing_list()\n",
    "\n",
    "# test_idx = 21275 #random.sample(testing_index_list,1)[0]\n",
    "\n",
    "# text = get_train_example(test_idx)\n",
    "\n",
    "# response = get_gpt_response(text)"
   ]
  },
  {
   "cell_type": "code",
   "execution_count": 20,
   "metadata": {},
   "outputs": [
    {
     "name": "stdout",
     "output_type": "stream",
     "text": [
      "Ana Kane    Design Thinking Final assignment      2017-06-24\n",
      "\n",
      "@@@Ana Kane###, 2017-06-24 - Desing Thinking Final assignment\n",
      "\n",
      "Reflection – Visualization\n",
      "\n",
      "In this Final assignment I’m presenting my application of Visualization that was a very powerful tool to address the  below challenge.\n",
      "\n",
      "Challenge\n",
      "\n",
      "I work for a big international industrial company as a bid manager, based in London. My job consists of delivering  the high quality competitive bids to the client in response to their Request For Proposals resulting in winning the  contracts. The bid preparation process consists of capturing client’s requirement, addressing them to the relevant  internal experts and external consultants, then challenging and consolidating their final responses in the delivery  pack. These activities require a lot of clear and efficient communication, coordination and flexibility due to a  limited availability of the bid contributors and tight submission schedule.\n",
      "\n",
      "In order to prepare the current bid, I lead a Core team of 7 persons, based in London, and 30 Contributors, located  all across Europe, United States, Canada, South Africa and India. Due to the tight submission schedule, a clear and  efficient communication is a key to advance the deliverables preparation. Therefore it was one of the biggest  challenges from the start to ensure the requirements are understood by everyone and to result in high quality  deliverables on-time.\n",
      "\n",
      "Selection\n",
      "\n",
      "To address this communication challenge, I’ve been extensively using Visualization or Visual thinking to  accompany verbal communication and address the “What.is?” question when agreeing on the deliverables  content with all Contributors. Visualization as a “mother of all design tools” was a core component of my  communication to ensure a complete understanding of Client’s requirements by every bid contributor taking into  account cultural and language differences and therefore to de-risk my growth project (although English was used  in communication, this is a native language only for a few contributors out of 40).\n",
      "\n",
      "Application\n",
      "\n",
      "I’ve applied the Visualization from the project’s start while analyzing and capturing Client’s requirements /  deliverables. I’ve created several Project’s boards in Excel visually summarizing them, identifying relevant  contributors and progress status for each deliverable using the color codes (Red – Deliverable in preparation,  Orange – Deliverable ready for review, Green – Deliverable reviewed and ready for submission).\n",
      "\n",
      "The printed Project’s boards were then used as whiteboards in the London’s office by the Core team, thus the  deliverables progress status was updated daily on them. I’ve also used the Project’s boards electronic versions to  present and follow-up the project in all Skype confcalls (Bid Launch meeting, Weekly meetings).\n",
      "\n",
      "An example of one of the Project’s boards is presented below. We were required to produce 11 Responses  (documents) addressing specific Client’s questions (several questions / Response). Each question had to be  supported by at least one evidence from the previously executed projects (maximum 12), called Case studies. An  additional challenge consisted in a strict limitation of words count in every delivered document (11 Responses + 12  Case studies), meaning the inputs provided by the contributors (evidence) should have been straight to the point,  and at the same time fully covering every question.\n",
      "\n",
      "To address a challenge of communication the requirements and gathering the relevant information from  contributors, I’ve created a Matrix Excel table (Reponses (questions) / Case studies) applying a specific color code  (Red – No Case study identified, urgent to act, White – Case study can’t address the question, Orange – Case study  might address the question, to be checked with an expert, Green – Relevant case study to address the question).  I’ve used this Visual tool to identify the relevant experts and to prioritize the activities using the color code (urgent\n",
      "\n",
      "Ana Kane    Design Thinking Final assignment      2017-06-24\n",
      "\n",
      "if identified as Red for example). This Matrix table was effectively used during Bid’s preparation and received a  positive feedback from the Team.\n",
      "\n",
      "While 1 picture is worth 1000 words, please find below an example of the Matrix Table, demonstrating the applied  structure. For confidentiality reasons the words were changed.\n",
      "\n",
      "Insight\n",
      "\n",
      "The Bid’s preparation schedule coincided with the one of Design thinking course. Therefore this was a great  opportunity to apply the Design thinking tools immediately in my work starting with Visualization presented in the  Module 1 and to witness the results. Using visualization as a major communication tool during the 2 months Bid’s  preparation with the distance based contributors in Skype calls helped to be more efficient and ensure clear  understanding of the requirements by everyone. This tool also helped to save time while presenting the Project to  each of 30 interviewed persons and allowed including their feedback in real time in the comments as shown on  the above presented Printscreen.\n",
      "\n",
      "I’ve experienced Visualization as a “Must use” tool when working with people with various cultural background  using different languages. It helped to ensure that the whole Team shares the same understanding of the Project  and resulted in delivery of high quality inputs, required by the Client.\n",
      "\n",
      "Approach\n",
      "\n",
      "After having experienced the power of Visualization while communicating with people, I’ll continue using it,  testing and developing new approaches such as graphics, pictures, whiteboards etc. Inserting new visualization  tools to the Bid preparation and developing the tested ones could help the team to be more efficient, reinforce  the communication further and ensure the positive ambiance.\n",
      "\n",
      "For example, I think of creating a whiteboard with Key Performance Indicators, updated every Friday morning, to  demonstrate Team’s achievements during Bid preparation. This Visualization of positive results could contribute  to the positive ambiance, very important in Bid activity, often associated with a stress due to the tight delivery  schedule. I’m also looking forward to applying 3 other Design thinking tools such as Storytelling, Mind Mapping  and Learning Launch and test their combined results in my professional and personal lives.\n"
     ]
    }
   ],
   "source": [
    "# print(response)"
   ]
  },
  {
   "cell_type": "code",
   "execution_count": 4,
   "metadata": {},
   "outputs": [],
   "source": [
    "def initialize_csv(csv_path): \n",
    "    L  = ['file_idx','entity_text','type','positions']\n",
    "    df = pd.DataFrame(columns=L)\n",
    "    df.to_csv(csv_path, index=False,encoding = 'utf-8')\n",
    "\n",
    "def load_csv_iteratively(file_idx:int, csv_path:str,entity_list)-> NoReturn: \n",
    "    df = pd.read_csv(csv_path,encoding = 'utf-8')\n",
    "\n",
    "    L = [] \n",
    "    for entity in entity_list: \n",
    "        start,end = entity[-2],entity[-1]\n",
    "        entity = entity[:-2]\n",
    "        entity.append(f'({start}, {end})')\n",
    "        entity = [file_idx] + entity\n",
    "        L.append(entity)\n",
    "    new_df = pd.DataFrame(L, columns=['file_idx', 'entity_text', 'type', 'positions'])\n",
    "    updated_df = pd.concat([df, new_df], ignore_index=True)\n",
    "    updated_df.to_csv(csv_path, index=False, encoding='utf-8')"
   ]
  },
  {
   "cell_type": "code",
   "execution_count": 28,
   "metadata": {},
   "outputs": [
    {
     "name": "stdout",
     "output_type": "stream",
     "text": [
      "Pocessing file 10\n"
     ]
    }
   ],
   "source": [
    "import random\n",
    "testing_index_list = get_testing_list()\n",
    "# initialize_csv('output/foo.csv')\n",
    "text_idx_lst = [10]\n",
    "text_lst = []\n",
    "# for i in range(10):\n",
    "for text_idx in text_idx_lst:\n",
    "    print(f'Pocessing file {text_idx}')\n",
    "    # text_idx = random.sample(testing_index_list,1)[0]\n",
    "    # text_idx_lst.append(text_idx)\n",
    "    text = get_train_example(text_idx)\n",
    "    text = get_gpt_response(text)\n",
    "    text_lst.append(text)\n",
    "    L_p = parse_return(text)\n",
    "    load_csv_iteratively(text_idx,'output/foo.csv', L_p)\n"
   ]
  },
  {
   "cell_type": "code",
   "execution_count": 26,
   "metadata": {},
   "outputs": [
    {
     "name": "stdout",
     "output_type": "stream",
     "text": [
      "@@@Diego Estrada### \n",
      "\n",
      "Design Thinking Assignment \n",
      "\n",
      "Visualization Tool \n",
      "\n",
      "Challenge & Selection \n",
      "\n",
      "The elderly were having a hard time adapting to the changes we brought in our bank. As a result of a poorly implemented linear solution, a more customer centric approach was needed. \n",
      "\n",
      "After learning about design thinking in this course, we decided to apply it to solve this problem. The visualization tool allowed the team to create a dynamic presentation using diagrams, figures and drawings on the go that really resonated among the stakeholders. Previous to this change, none of our solutions seemed to be adequate for them, but the new implementation created a different type of connection with them that helped them understand the problem in the way the team and I did. \n",
      "\n",
      "Application \n",
      "\n",
      "The process starts in the prep time. The team uses a series of tools and software to develop a presentation using the surveys gathered during research and the solutions we created during the process. The use of graphs to quickly show statistics in a fully visual way, rather than verbally was a game changer. \n",
      "\n",
      "After having a presentation prepared, the team hands an activity to the stakeholders, where the solutions discussed previously appear. Nonetheless, the solutions need more work to them. After this. The stakeholders are asked to help complete the solutions while the team and I create diagrams on a blackboard to represent how their suggestions would impact on this specific problem. \n",
      "\n",
      "The use of a group activity strengthens the bond between the company and their investors. It makes them feel like they take part and help solve the problems as well as show how customer centric the solutions are. Every complaint and suggestion from customers are read and evaluated using the graph shown in the course (Involving: can we do it? Can we afford it? …). The finalization of this activity leaves the team and the stakeholders on the same page. It allows them to completely understand and feel part of the solution and also gives them the chance to ask better questions, which eases the work of the team. \n",
      "\n",
      "Insight & Approach \n",
      "\n",
      "The use of this method created a new workflow in the Design Team. It increased the productivity and the success rate as well as the customer/stakeholders satisfaction. The use of the visualization tool created an engaged group of people who work together to \n",
      "\n",
      "@@@Diego Estrada### \n",
      "\n",
      "find a solution based on their customer satisfaction. This solution is later revised and tweaked with the help of the stakeholders who are deeply involved in the process. \n",
      "\n",
      "Presentations, graphics, and activities have added a huge increase in satisfaction. As a company we also learnt that engaging different areas can be difficult because of the varying levels of understanding, but when paired with the adequate process things just flow. \n",
      "\n",
      "(This story is fictional and was created for solving the assignment)\n"
     ]
    }
   ],
   "source": [
    "print(text_lst[3])"
   ]
  },
  {
   "cell_type": "code",
   "execution_count": 24,
   "metadata": {},
   "outputs": [
    {
     "name": "stdout",
     "output_type": "stream",
     "text": [
      "gether to\n",
      "\n",
      "Di\n",
      "----------------------\n",
      "Diego Estrada\n"
     ]
    }
   ],
   "source": [
    "# 10,Diego Estrada,NAME_STUDENT,\"(2375, 2388)\"\n",
    "print(df.iloc[10].full_text[2375:2388]) # True\n",
    "print(\"----------------------\")\n",
    "print(df.iloc[10].full_text[2386:2399]) # Detected"
   ]
  },
  {
   "cell_type": "code",
   "execution_count": 10,
   "metadata": {},
   "outputs": [
    {
     "name": "stdout",
     "output_type": "stream",
     "text": [
      "MY BRILLIANT TEAM\n",
      "\n",
      "Challenge: My name is @@@Khaled### and I am working as an IT Director for a big food retailer in Austria.  I am responsible for software, software development and hardware in our food stores.  One of my most interesting section at work is working as a business expert in several  IT projects with my whole team (my team = 7 IT- & business managers). In these  projects, we are part of the big project team and our main task is to represent the customer (in our case the customers/end-users are our store managers). For this part  on the one hand it is very important to empatize with the store managers and their  real problems. On the other hand an open mindset and an honest feedback culture in  our team is essential for success. Without good teamwork, it is not possible to  represent the store managers in an open and honest way.\n",
      "\n",
      "Based on this facts I set up a \"one day creative workshop\" with my team. We worked  on the following challenge: \"What are the most important values for brilliant teams  and what is good teamwork for us?” The main goal was to collect the opinion of all my  teammates. Consequently, now it is possible for me to know our personal team values  and needs regarding good teamwork and we now have an excellent basis for a perfect  team collaboration.\n",
      "\n",
      "Selection: It was very important for me to know what is in the head of my teammates. Therefore,  it was clear for me that I want to use \"Visualization\". Visualization is everything for  me. It means that you \"grap\" something from the brain and put it on the wall, on a  flipchart or somewhere else. It doesn´t matter in which form, which structure, which  color and which style. The thoughts of the brain have to be visible for everybody that  you can work on a common basic or topic. A picture says more than thousand words  and pictures help to activate the right brain half. That is a wonderful side effect of  visualization.\n",
      "\n",
      "Summarizing, I have the same opinion as Sabine Ja. In her video \"Visualization  Tool\" (module 1, video 7) she says that visualization isn´t drawing. Visualization is  more visual thinking for a visual and better understanding. Everything from what we  drop on a whiteboard, the images in a PowerPoint presentation, photos or videos...  everything is visualization. If you use visualization, people will understand you much better and you automatically optimize your communication skills.\n",
      "\n",
      "That was one important reason for me why I used different visualization tools in my  workshop. Furthermore, it is easy and you have a lot of fun.\n",
      "\n",
      "Application: In my case I just needed a flipchart. I presented the challenge and to start the  brainstorming I wrote my most important value for teams on the flipchart:  \"Ehrlichkeit\", in English: Honesty. The rest came by itself and the first image shows  the final picture (image 01) of this little exploration phase.\n",
      "\n",
      "As a next step, we tried a kind of \"pattern finding\". We had an open discussion about  the words and values we wrote down. Simultaneously I tried to summarize the most  important points, starting from the heart in the middle (the heart = the heart of us  and of our team culture). As a result, we (to say it in pictures) defined our heart, our  main veins and our arteries (image 02). This picture shows a summary of the most  important values for our brilliant team. Furthermore, we created our new team motto:  \"WIR GEWINNEN\", in English: We win.\n",
      "\n",
      "Finally, we just flipped our ideas on the wall, how we can transform our values and  our motto in the real work world. This was something like a small \"ideation\" (image  03).\n",
      "\n",
      "Image01 Image02 Image03\n",
      "\n",
      "Insight: I want to structure my insights in four different parts: 1. Atmosphere 2. Structure & process 3. Visualization as a multiplicator 4. My final thoughts/insights\n",
      "\n",
      "Atmosphere If you want to work with the visualization-tool and to exploit the full capability of your  team, a good atmosphere is necessary. Every team member has to be open and feel  free to step in front of the group to write, to sketch and to work active. On the other  hand, I realized that visualization is a very good \"starter\" for a workshop because it is  funny and relaxing. Finally, it is very important that you have no time pressure and  that you follow one main rule: Firstly, everything is good and everybody can write  everything down (no limits).\n",
      "\n",
      "Structure & process Visualization is a creative tool, but it gives you a kind of structure and process. Does  it give you a structure? Yes. You will never have the feeling that your thoughts get lost  in space, because you simply write it down and you visualize it. Moreover you don´t  have the feeling, that nobody hears you, because your thoughts are (visible) placed.\n",
      "\n",
      "I didn´t have to be very active as the workshop leader, because the process worked  autonomous. My main parts were observation and active listening.\n",
      "\n",
      "Multiplicator Visualization is a multiplicator. Before we can really believe in something, we want to  see it. Once we see it, it starts new processes in the head of the other team members  and leads to often better thoughts and better ideas.\n",
      "\n",
      "My final thoughts/insights Visualization doesn´t guarantee success, but for my team and me it was very  successful. In all different phases of design thinking it is very helpful. Principally it is  perfect if you want to generate a wide range of ideas or thoughts, but also if you want  to focus and you want to structure or cluster all the pictures in your head. IT REALLY  HELPS YOU TO DESIGN SOMETHING!\n",
      "\n",
      "Approach: Due to the facts and my implementations, I am (100%) sure that I selected the right  tool. Story telling for example is a very nice and efficient tool, but just for the right  topic. Story telling for my challenge would not be good, because my challenge was a  team challenge where everybody was part of it. My goal was not to inform or to  convince somebody of a new product or an idea. It was not a presentation in front of  investors or a jury. It was a challenge for my whole team.\n",
      "\n",
      "For the next time I will include POST-ITs to intensify the visualization. Consequently, it is possible for everybody to prepare in a good way, because you can write your most  important values or needs regarding to a perfect team culture on POST-ITs. In  addition, when we start to define our challenge, we don´t have to start at zero.  Moreover colors could stand for different priorities (for example red = very important  for me, yellow = important, etc.) or different groups of topics. As a next step, you  would have big advantages if you want to cluster and summarize the findings.\n",
      "\n",
      "I am a real fan of visualization. It was the perfect tool and I  will use it again and again and again...\n",
      "\n",
      "Even for evaluation of the workshop day, we used  visualization as you can see on the last picture.\n"
     ]
    }
   ],
   "source": [
    "print(text)"
   ]
  },
  {
   "cell_type": "code",
   "execution_count": 6,
   "metadata": {},
   "outputs": [
    {
     "data": {
      "text/plain": [
       "[1793, 5584, 10896, 17781, 2192, 10952, 7652, 15093, 12961, 13212]"
      ]
     },
     "execution_count": 6,
     "metadata": {},
     "output_type": "execute_result"
    }
   ],
   "source": [
    "text_idx_lst"
   ]
  },
  {
   "cell_type": "code",
   "execution_count": 21,
   "metadata": {},
   "outputs": [
    {
     "name": "stdout",
     "output_type": "stream",
     "text": [
      "Pocessing 0\n",
      "Pocessing 1\n",
      "Pocessing 2\n",
      "Pocessing 3\n",
      "Pocessing 4\n",
      "Pocessing 5\n",
      "Pocessing 6\n",
      "Pocessing 7\n",
      "Pocessing 8\n",
      "Pocessing 9\n"
     ]
    }
   ],
   "source": [
    "# error_log = []\n",
    "# false_positive_log = [] \n",
    "# for i in range(10):\n",
    "#     print(f'Pocessing {i}')\n",
    "#     text_idx = random.sample(testing_index_list,1)[0]\n",
    "#     text = get_train_example(text_idx)\n",
    "#     text = get_gpt_response(text)\n",
    "#     L_p = parse_return(text)\n",
    "#     load_csv_iteratively(text_idx,'foo.csv',L_p)"
   ]
  },
  {
   "cell_type": "code",
   "execution_count": 24,
   "metadata": {},
   "outputs": [
    {
     "name": "stdout",
     "output_type": "stream",
     "text": [
      "893\n"
     ]
    }
   ],
   "source": [
    "# print(text_idx)\n"
   ]
  },
  {
   "cell_type": "code",
   "execution_count": 25,
   "metadata": {},
   "outputs": [],
   "source": [
    "# text = get_train_example(text_idx)\n",
    "# text = get_gpt_response(text)\n",
    "# L_p = parse_return(text)\n"
   ]
  },
  {
   "cell_type": "code",
   "execution_count": 26,
   "metadata": {},
   "outputs": [
    {
     "name": "stdout",
     "output_type": "stream",
     "text": [
      "Example Reflection – Learning Launch\n",
      "\n",
      "Challenge\n",
      "\n",
      "During master's degree, I began to volunteer as part of a student social organization. Having started work  as an activist and helping with organizing and conducting events, I quickly plunged into work and gained  an understanding of the processes. And soon I was invited to join the organization’s leaders as an HR  manager. I agreed, because I loved what I was doing. And we continued our work.\n",
      "\n",
      "The main goal of the organization is the transfer of knowledge about the industry among other students  and senior colleagues, the transfer of accumulated experience between generations. But this is in theory.  In practice, the transfer of experience was not conducted well enough, since there was no clearly  structured system, and the demand among the team members was constantly growing.\n",
      "\n",
      "Selection\n",
      "\n",
      "While still an active member of the team, I faced a similar problem face to face. And after that, I began to  think about what the organization lacks, how best to work with the team, how to build processes so that  they are more efficient and so on. However, working with the team, its formation, strengthening and  development has always remained a priority for me. Having entered the organization’s leadership as the  HR manager, I finally formed an approach that I would like to apply in order to work with the team more  effectively. And then I shared my vision with other leaders of the organization. Awareness comes when  you encounter difficulties and cope with them, rather than looking at the problem from the side.\n",
      "\n",
      "However, understanding is only a small part. We needed to implement the ideas that had arisen and see  what really worked and was beneficial, and what should be recycled or discarded. This is exactly how the  Learning Launch tool works: a series of experiments, trial and error, meeting the team’s needs and  pressing problems, which will ultimately help build the strategy that best solves these problems.\n",
      "\n",
      "Application\n",
      "\n",
      "The first thing we decided to focus on is building the correct work with feedback. Sometimes it was hard,  because in addition to positive feedback about the organization’s work, ongoing projects, we received  negative ones. Most importantly, take critique as a good source for development and growth.\n",
      "\n",
      "We have revised the approach to holding general meetings. We experimented with the format,  presentations, speech, and even the arrangement of tables to build a discussion in small groups, and then  bring ideas to a group discussion. After several meetings with our team using the new methodology, we  were able to build regular feedback and work with it. We finally understood what the organization was  missing.\n",
      "\n",
      "Correct work with feedback pushed us to create a full-fledged mentoring program, in which assistance  and knowledge transfer were a key aspect and were carried out on an ongoing basis, rather than in  separate “portions” for individuals. But we could not convey the true value of the program if we did not  understand the real problems that exist in the interaction.\n",
      "\n",
      "Insights\n",
      "\n",
      "It has been several years since the launch of the first season of the mentoring program. Several  generations took part and shared their impressions, strengths and weaknesses of the project, challenges  that they had to face. Here, we were also helped by our skills in building processes for receiving and  working with feedback. This allowed us to correct and refine the shortcomings in the next program  launches. This has increased efficiency and quality. And this influenced the involvement of an increasing  number of people in the program.\n",
      "\n",
      "Approach\n",
      "\n",
      "The series of experiments and building effective work with the team helped me during my first speech on  the launch of the mentor program, convey the importance and value of the program, its strengths and  opportunities for the team. We were very lucky that we went exactly along this path. I felt that it was  necessary to do just that, and not differently.\n",
      "\n",
      "This course allowed me to look at the instrument from a different perspective. Now I am more consciously  approaching the next project and try to use the tools I have learned. Correct work with the request of  people, with their needs and “pains” in conjunction with the series of experiments, getting feedback and  working effectively with it is, in my opinion, the way to success.\n"
     ]
    }
   ],
   "source": [
    "# print(text)"
   ]
  }
 ],
 "metadata": {
  "kernelspec": {
   "display_name": "Python 3",
   "language": "python",
   "name": "python3"
  },
  "language_info": {
   "codemirror_mode": {
    "name": "ipython",
    "version": 3
   },
   "file_extension": ".py",
   "mimetype": "text/x-python",
   "name": "python",
   "nbconvert_exporter": "python",
   "pygments_lexer": "ipython3",
   "version": "3.12.4"
  }
 },
 "nbformat": 4,
 "nbformat_minor": 2
}
