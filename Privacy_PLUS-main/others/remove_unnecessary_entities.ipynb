{
 "cells": [
  {
   "cell_type": "code",
   "execution_count": 2,
   "metadata": {},
   "outputs": [
    {
     "name": "stdout",
     "output_type": "stream",
     "text": [
      "Entities labeled as 'LOCATION' have been removed. Check the file: pii_entities_detected.txt\n"
     ]
    }
   ],
   "source": [
    "# Path to the input file\n",
    "input_file_path = 'others/pii_entities_detected_all.txt'\n",
    "# Path to the output file\n",
    "output_file_path = 'output/pii_entities_detected.txt'\n",
    "\n",
    "# List to hold the modified lines\n",
    "modified_lines = []\n",
    "\n",
    "# Read the file and process each line\n",
    "with open(input_file_path, 'r') as file:\n",
    "    lines = file.readlines()\n",
    "    for line in lines:\n",
    "        # Evaluate the line as a tuple\n",
    "        entity_tuple = eval(line.strip())\n",
    "        # Check if the third item in the tuple is not 'LOCATION'\n",
    "        if entity_tuple[2] != 'LOCATION':\n",
    "            # If not a LOCATION, keep the line\n",
    "            modified_lines.append(line)\n",
    "\n",
    "# Write the modified lines to the output file\n",
    "with open(output_file_path, 'w') as output_file:\n",
    "    output_file.writelines(modified_lines)\n",
    "\n",
    "print(f\"Entities labeled as 'LOCATION' have been removed. Check the file: {output_file_path}\")\n"
   ]
  },
  {
   "cell_type": "code",
   "execution_count": 4,
   "metadata": {},
   "outputs": [
    {
     "name": "stdout",
     "output_type": "stream",
     "text": [
      "Entities labeled as 'ID_NUM', 'USERNAME' and 'STREET_ADDRESS' have been removed. Check the file: pii_entities.txt\n"
     ]
    }
   ],
   "source": [
    "# Path to the input file\n",
    "input_file_path = 'others/pii_entities_all.txt'\n",
    "# Path to the output file\n",
    "output_file_path = 'data/pii_entities.txt'\n",
    "\n",
    "# List to hold the modified lines\n",
    "modified_lines = []\n",
    "\n",
    "# Read the file and process each line\n",
    "with open(input_file_path, 'r') as file:\n",
    "    lines = file.readlines()\n",
    "    for line in lines:\n",
    "        # Evaluate the line as a tuple\n",
    "        entity_tuple = eval(line.strip())\n",
    "        # Check if the third item in the tuple is not 'ID_NUM', 'USERNAME' or 'STREET_ADDRESS'\n",
    "        if entity_tuple[2] != 'ID_NUM' and entity_tuple[2] != 'USERNAME' and entity_tuple[2] != 'STREET_ADDRESS':\n",
    "            # If not a 'ID_NUM', 'USERNAME' or 'STREET_ADDRESS', keep the line\n",
    "            modified_lines.append(line)\n",
    "\n",
    "# Write the modified lines to the output file\n",
    "with open(output_file_path, 'w') as output_file:\n",
    "    output_file.writelines(modified_lines)\n",
    "\n",
    "print(f\"Entities labeled as 'ID_NUM', 'USERNAME' and 'STREET_ADDRESS' have been removed. Check the file: {output_file_path}\")\n"
   ]
  }
 ],
 "metadata": {
  "kernelspec": {
   "display_name": "Python 3",
   "language": "python",
   "name": "python3"
  },
  "language_info": {
   "codemirror_mode": {
    "name": "ipython",
    "version": 3
   },
   "file_extension": ".py",
   "mimetype": "text/x-python",
   "name": "python",
   "nbconvert_exporter": "python",
   "pygments_lexer": "ipython3",
   "version": "3.12.4"
  }
 },
 "nbformat": 4,
 "nbformat_minor": 2
}
