{
 "cells": [
  {
   "cell_type": "code",
   "execution_count": 12,
   "metadata": {},
   "outputs": [
    {
     "name": "stdout",
     "output_type": "stream",
     "text": [
      "True Entities (Sample): [(205, 0, 12), (274, 0, 14), (471, 2790, 2803), (19, 262, 272), (161, 3758, 3768)]\n",
      "Detected Entities (Sample): [(476, 810, 811), (475, 245, 247), (99, 735, 740), (132, 1254, 1267), (344, 42, 54)]\n",
      "True Positives (Sample): [(4, 36, 48), (7, 2281, 2295), (7, 3648, 3662), (8, 83, 94), (10, 0, 13), (10, 2386, 2399), (11, 46, 56), (16, 22, 37), (19, 262, 272), (19, 420, 430), (20, 32, 44), (22, 934, 940), (56, 53, 64), (80, 2304, 2318), (80, 2322, 2336), (86, 37, 49), (93, 0, 17), (104, 41, 52), (133, 1496, 1502), (133, 1625, 1631), (133, 1712, 1718), (133, 1788, 1794), (136, 121, 123), (166, 0, 12), (218, 0, 14), (269, 3805, 3819), (274, 0, 14), (302, 3, 15), (302, 122, 134), (308, 0, 9), (308, 3031, 3040), (308, 6154, 6163), (308, 7658, 7667), (311, 4800, 4814), (317, 3036, 3084), (328, 39, 53), (330, 88, 103), (333, 87, 98), (334, 3026, 3037), (344, 42, 54), (355, 70, 85), (356, 3477, 3489), (368, 3278, 3293), (375, 28, 40), (379, 93, 109), (379, 152, 168), (379, 179, 216), (379, 4222, 4238), (400, 1586, 1599), (471, 2790, 2803), (472, 27, 37), (472, 4886, 4914), (475, 3178, 3198)]\n",
      "False Positives (Sample): [(476, 810, 811), (475, 245, 247), (99, 735, 740), (132, 1254, 1267), (7, 533, 542)]\n",
      "False Negatives (Sample): [(7, 52, 66), (80, 2, 16), (88, 61, 73), (99, 38, 55), (109, 71, 78), (109, 1300, 1307), (109, 3336, 3343), (112, 30, 48), (113, 0, 4), (123, 156, 170), (161, 3758, 3768), (202, 0, 10), (204, 29, 34), (205, 0, 12), (205, 3225, 3237), (214, 28, 40), (288, 0, 15), (324, 79, 82), (331, 0, 12), (334, 0, 11), (377, 17, 31), (470, 0, 6)]\n",
      "True Positives (TP): 53\n",
      "False Positives (FP): 556\n",
      "False Negatives (FN): 22\n",
      "Precision: 0.0870\n",
      "Recall: 0.7067\n",
      "F1-Score: 0.1550\n"
     ]
    }
   ],
   "source": [
    "# Only consider the first 500 (FP: 1454, Precision: 0.0352)\n",
    "# DATE_TIME already excluded\n",
    "# Reason that DATE_TIME is not necessary:\n",
    "# 1. DATE_TIME cannot associate to people names (don't know who said the date_time)\n",
    "# 2. DATE_TIME can be relevant to math problem descriptions if finally applied to PLUS tutoring team.\n",
    "# 3. ...?\n",
    "# Check Recall\n",
    "import ast\n",
    "from typing import List, Tuple\n",
    "\n",
    "# Define the type alias for PII entity\n",
    "pii_entity = Tuple[int, str, str, Tuple[int, int]]\n",
    "\n",
    "def load_entities(file_path: str) -> List[pii_entity]:\n",
    "    entities = []\n",
    "    with open(file_path, 'r') as file:\n",
    "        for line in file:\n",
    "            entity = ast.literal_eval(line.strip())\n",
    "            entities.append(entity)\n",
    "    return entities\n",
    "\n",
    "def load_and_filter_true_entities(file_path: str, max_index: int) -> List[pii_entity]:\n",
    "    entities = []\n",
    "    with open(file_path, 'r') as file:\n",
    "        for line in file:\n",
    "            entity = ast.literal_eval(line.strip())\n",
    "            if entity[0] < max_index:\n",
    "                entities.append(entity)\n",
    "    return entities\n",
    "\n",
    "def normalize_text(text: str) -> str:\n",
    "    return text.strip().lower()\n",
    "\n",
    "def calculate_metrics(true_entities: List[pii_entity], detected_entities: List[pii_entity]):\n",
    "    # Exclude the entity type from the comparison\n",
    "    true_set = set((i, start, end) for i, _, _, (start, end) in true_entities)\n",
    "    detected_set = set((i, start, end) for i, _, _, (start, end) in detected_entities)\n",
    "\n",
    "    tp = true_set & detected_set\n",
    "    fp = detected_set - true_set\n",
    "    fn = true_set - detected_set\n",
    "\n",
    "    tp_count = len(tp)\n",
    "    fp_count = len(fp)\n",
    "    fn_count = len(fn)\n",
    "\n",
    "    precision = tp_count / (tp_count + fp_count) if (tp_count + fp_count) > 0 else 0\n",
    "    recall = tp_count / (tp_count + fn_count) if (tp_count + fn_count) > 0 else 0\n",
    "    f1_score = (2 * precision * recall) / (precision + recall) if (precision + recall) > 0 else 0\n",
    "\n",
    "    # Debugging output\n",
    "    print(f\"True Entities (Sample): {list(true_set)[:5]}\")\n",
    "    print(f\"Detected Entities (Sample): {list(detected_set)[:5]}\")\n",
    "    print(f\"True Positives (Sample): {sorted(list(tp))}\")\n",
    "    print(f\"False Positives (Sample): {list(fp)[:5]}\")\n",
    "    print(f\"False Negatives (Sample): {sorted(list(fn))}\")\n",
    "\n",
    "    return tp_count, fp_count, fn_count, precision, recall, f1_score\n",
    "\n",
    "# Load true entities with index < 500\n",
    "true_entities = load_and_filter_true_entities('pii_entities.txt', 500)\n",
    "\n",
    "# Load detected entities\n",
    "detected_entities = load_entities('pii_entities_detected.txt')\n",
    "\n",
    "# Calculate metrics\n",
    "tp_count, fp_count, fn_count, precision, recall, f1_score = calculate_metrics(true_entities, detected_entities)\n",
    "\n",
    "print(f\"True Positives (TP): {tp_count}\")\n",
    "print(f\"False Positives (FP): {fp_count}\")\n",
    "print(f\"False Negatives (FN): {fn_count}\")\n",
    "print(f\"Precision: {precision:.4f}\")\n",
    "print(f\"Recall: {recall:.4f}\")\n",
    "print(f\"F1-Score: {f1_score:.4f}\")\n"
   ]
  },
  {
   "cell_type": "code",
   "execution_count": null,
   "metadata": {},
   "outputs": [],
   "source": [
    "# Write Recall and Precision calculation that uses packages."
   ]
  },
  {
   "cell_type": "code",
   "execution_count": null,
   "metadata": {},
   "outputs": [],
   "source": [
    "# Calculate Recall, Precision, F1 score for different categories."
   ]
  },
  {
   "cell_type": "code",
   "execution_count": 17,
   "metadata": {},
   "outputs": [
    {
     "name": "stdout",
     "output_type": "stream",
     "text": [
      "Found 8 overlapping entities:\n",
      "Overlap between: (5, 'https://www.greatplacetowork.com/resources/blog/why-is-diversity-inclusion-in-the-workplace-important', 'PERSON', (4150, 4251)) and (5, 'https://www.greatplacetowork.com/resources/blog/why-is-diversity-inclusion-in-the-workplace-important', 'URL', (4150, 4251))\n",
      "Overlap between: (92, '3.INSIGHT', 'PERSON', (2388, 2397)) and (92, '3.IN', 'URL', (2388, 2392))\n",
      "Overlap between: (123, 'https://cyberleninka.ru/article/n/stremlenie-k-spravedlivomu-sotrudnichestvu-kak- motiv-ekonomicheskogo-povedeniya', 'PERSON', (7742, 7856)) and (123, 'https://cyberleninka.ru/article/n/stremlenie-k-spravedlivomu-sotrudnichestvu-kak-', 'URL', (7742, 7823))\n",
      "Overlap between: (209, 'map.it', 'LOCATION', (862, 868)) and (209, 'map.it', 'URL', (862, 868))\n",
      "Overlap between: (379, 'djones@gmail.com', 'EMAIL_ADDRESS', (152, 168)) and (379, 'gmail.com', 'URL', (159, 168))\n",
      "Overlap between: (407, 'Makeovermonday.co.uk', 'PERSON', (1497, 1517)) and (407, 'Makeovermonday.co.uk', 'URL', (1497, 1517))\n",
      "Overlap between: (466, 'https://www.nngroup.com/articles/design-thinking-team-building/\\n\\nhttp://thisisdesignthinking.net/2014/12/changing-experiences-through-empathy-ge-healthcares-advent', 'LOCATION', (1665, 1828)) and (466, 'https://www.nngroup.com/articles/design-thinking-team-building/', 'URL', (1665, 1728))\n",
      "Overlap between: (496, 'G.Christakos', 'PERSON', (3488, 3500)) and (496, 'G.Ch', 'URL', (3488, 3492))\n"
     ]
    }
   ],
   "source": [
    "# TODO: Deal with overlapping entities.\n",
    "def check_overlapping_entities(entities: List[pii_entity]):\n",
    "    # Sort entities by index and start position\n",
    "    entities_sorted = sorted(entities, key=lambda x: (x[0], x[3][0]))\n",
    "    overlaps = []\n",
    "    \n",
    "    for i in range(len(entities_sorted) - 1):\n",
    "        current_entity = entities_sorted[i]\n",
    "        next_entity = entities_sorted[i + 1]\n",
    "        \n",
    "        # Check if the current entity overlaps with the next one\n",
    "        if current_entity[0] == next_entity[0] and current_entity[3][1] > next_entity[3][0]:\n",
    "            overlaps.append((current_entity, next_entity))\n",
    "    \n",
    "    # Print the overlapping entities\n",
    "    if overlaps:\n",
    "        print(f\"Found {len(overlaps)} overlapping entities:\")\n",
    "        for overlap in overlaps:\n",
    "            print(f\"Overlap between: {overlap[0]} and {overlap[1]}\")\n",
    "    else:\n",
    "        print(\"No overlapping entities found.\")\n",
    "\n",
    "check_overlapping_entities(detected_entities)"
   ]
  },
  {
   "cell_type": "code",
   "execution_count": null,
   "metadata": {},
   "outputs": [],
   "source": []
  }
 ],
 "metadata": {
  "kernelspec": {
   "display_name": "Python 3",
   "language": "python",
   "name": "python3"
  },
  "language_info": {
   "codemirror_mode": {
    "name": "ipython",
    "version": 3
   },
   "file_extension": ".py",
   "mimetype": "text/x-python",
   "name": "python",
   "nbconvert_exporter": "python",
   "pygments_lexer": "ipython3",
   "version": "3.12.4"
  }
 },
 "nbformat": 4,
 "nbformat_minor": 2
}
