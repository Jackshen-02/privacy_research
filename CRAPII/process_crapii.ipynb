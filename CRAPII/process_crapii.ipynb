{
 "cells": [
  {
   "cell_type": "markdown",
   "metadata": {},
   "source": [
    "### Parse CRAPII dataset"
   ]
  },
  {
   "cell_type": "markdown",
   "metadata": {},
   "source": [
    "##### Load json file as dataframe"
   ]
  },
  {
   "cell_type": "code",
   "execution_count": 25,
   "metadata": {},
   "outputs": [
    {
     "name": "stdout",
     "output_type": "stream",
     "text": [
      "\u001b[1;31merror\u001b[0m: \u001b[1mexternally-managed-environment\u001b[0m\n",
      "\n",
      "\u001b[31m×\u001b[0m This environment is externally managed\n",
      "\u001b[31m╰─>\u001b[0m To install Python packages system-wide, try brew install\n",
      "\u001b[31m   \u001b[0m xyz, where xyz is the package you are trying to\n",
      "\u001b[31m   \u001b[0m install.\n",
      "\u001b[31m   \u001b[0m \n",
      "\u001b[31m   \u001b[0m If you wish to install a Python library that isn't in Homebrew,\n",
      "\u001b[31m   \u001b[0m use a virtual environment:\n",
      "\u001b[31m   \u001b[0m \n",
      "\u001b[31m   \u001b[0m python3 -m venv path/to/venv\n",
      "\u001b[31m   \u001b[0m source path/to/venv/bin/activate\n",
      "\u001b[31m   \u001b[0m python3 -m pip install xyz\n",
      "\u001b[31m   \u001b[0m \n",
      "\u001b[31m   \u001b[0m If you wish to install a Python application that isn't in Homebrew,\n",
      "\u001b[31m   \u001b[0m it may be easiest to use 'pipx install xyz', which will manage a\n",
      "\u001b[31m   \u001b[0m virtual environment for you. You can install pipx with\n",
      "\u001b[31m   \u001b[0m \n",
      "\u001b[31m   \u001b[0m brew install pipx\n",
      "\u001b[31m   \u001b[0m \n",
      "\u001b[31m   \u001b[0m You may restore the old behavior of pip by passing\n",
      "\u001b[31m   \u001b[0m the '--break-system-packages' flag to pip, or by adding\n",
      "\u001b[31m   \u001b[0m 'break-system-packages = true' to your pip.conf file. The latter\n",
      "\u001b[31m   \u001b[0m will permanently disable this error.\n",
      "\u001b[31m   \u001b[0m \n",
      "\u001b[31m   \u001b[0m If you disable this error, we STRONGLY recommend that you additionally\n",
      "\u001b[31m   \u001b[0m pass the '--user' flag to pip, or set 'user = true' in your pip.conf\n",
      "\u001b[31m   \u001b[0m file. Failure to do this can result in a broken Homebrew installation.\n",
      "\u001b[31m   \u001b[0m \n",
      "\u001b[31m   \u001b[0m Read more about this behavior here: <https://peps.python.org/pep-0668/>\n",
      "\n",
      "\u001b[1;35mnote\u001b[0m: If you believe this is a mistake, please contact your Python installation or OS distribution provider. You can override this, at the risk of breaking your Python installation or OS, by passing --break-system-packages.\n",
      "\u001b[1;36mhint\u001b[0m: See PEP 668 for the detailed specification.\n",
      "\n",
      "\u001b[1m[\u001b[0m\u001b[34;49mnotice\u001b[0m\u001b[1;39;49m]\u001b[0m\u001b[39;49m A new release of pip is available: \u001b[0m\u001b[31;49m24.0\u001b[0m\u001b[39;49m -> \u001b[0m\u001b[32;49m24.2\u001b[0m\n",
      "\u001b[1m[\u001b[0m\u001b[34;49mnotice\u001b[0m\u001b[1;39;49m]\u001b[0m\u001b[39;49m To update, run: \u001b[0m\u001b[32;49mpython3.12 -m pip install --upgrade pip\u001b[0m\n"
     ]
    }
   ],
   "source": [
    "!pip3 install pandas\n",
    "# if using homebrew might need to use the commented command below.\n",
    "# !pip3 install pandas --break-system-packages\n",
    "\n",
    "from typing import *\n",
    "import pandas as pd\n",
    "\n",
    "def read_file(filepath: str):\n",
    "    return pd.read_json(filepath, orient=\"records\")"
   ]
  },
  {
   "cell_type": "code",
   "execution_count": 26,
   "metadata": {},
   "outputs": [],
   "source": [
    "df = read_file(\"obfuscated_data_06.json\")"
   ]
  },
  {
   "cell_type": "markdown",
   "metadata": {},
   "source": [
    "##### Return all PII entities from a dataframe"
   ]
  },
  {
   "cell_type": "code",
   "execution_count": 27,
   "metadata": {},
   "outputs": [],
   "source": [
    "# Function to return all PII entities in the given dataframe\n",
    "\n",
    "# each entity is a tuple (essay_index, entity_text, label, (start, end))\n",
    "# e.g. (3, \"Michael\", \"NAME\", (10, 16))\n",
    "# note both start and end indices are inclusive\n",
    "\n",
    "# type keyword might raise an error in python 3.11 or older\n",
    "# just remove the type hints if this happens\n",
    "type pii_entity = Tuple[int, str, str, Tuple[int, int]]\n",
    "\n",
    "def parse_essays(df: pd.DataFrame) -> List[pii_entity]:\n",
    "    # list to store all pii entities\n",
    "    pii_entities: List[pii_entity] = []\n",
    "    \n",
    "    for i, row in df.iterrows():\n",
    "        cur_index = 0\n",
    "        entity_found = False\n",
    "        cur_entity = None\n",
    "        cur_entity_start = 0\n",
    "        cur_label = None\n",
    "        \n",
    "        # iterate through the tokens in the essay\n",
    "        for token, ws, label in zip(\n",
    "            row.tokens, row.trailing_whitespace, row.labels):\n",
    "            \n",
    "            if entity_found:\n",
    "                if label == \"O\":\n",
    "                    if cur_entity[-1] == \" \":\n",
    "                        cur_entity = cur_entity[:-1]\n",
    "                        end = cur_index - 2\n",
    "                    else:\n",
    "                        end = cur_index - 1\n",
    "                    \n",
    "                    pii_entities.append(\n",
    "                        (i, cur_entity, cur_label, (cur_entity_start, end))\n",
    "                    )\n",
    "\n",
    "                    entity_found = False\n",
    "                    cur_entity = None\n",
    "                    cur_label = None\n",
    "                \n",
    "                else:\n",
    "                    cur_entity += token\n",
    "                    if ws:\n",
    "                        cur_entity += \" \"\n",
    "            \n",
    "            else:\n",
    "                if label != \"O\":\n",
    "                    entity_found = True\n",
    "                    cur_entity_start = cur_index\n",
    "                    cur_entity = token\n",
    "                    if ws:\n",
    "                        cur_entity += \" \"\n",
    "                    cur_label = label[2:]\n",
    "\n",
    "            cur_index += len(token)\n",
    "            if ws:\n",
    "                cur_index += 1\n",
    "    \n",
    "    return sorted(pii_entities)"
   ]
  },
  {
   "cell_type": "markdown",
   "metadata": {},
   "source": [
    "##### Confirm the function is working as intended"
   ]
  },
  {
   "cell_type": "code",
   "execution_count": 46,
   "metadata": {},
   "outputs": [
    {
     "name": "stdout",
     "output_type": "stream",
     "text": [
      "(4, 'Henry Acosta', 'NAME_STUDENT', (36, 47))\n",
      "(7, 'Nathalie Sylla', 'NAME_STUDENT', (52, 65))\n",
      "(7, 'Nathalie Sylla', 'NAME_STUDENT', (2281, 2294))\n",
      "(7, 'Nathalie Sylla', 'NAME_STUDENT', (3648, 3661))\n",
      "(8, 'Vanesa Chan', 'NAME_STUDENT', (83, 93))\n",
      "(10, 'Diego Estrada', 'NAME_STUDENT', (0, 12))\n",
      "(10, 'Diego Estrada', 'NAME_STUDENT', (2386, 2398))\n",
      "(11, 'James Cook', 'NAME_STUDENT', (46, 55))\n",
      "(16, 'Gilberto Gamboa', 'NAME_STUDENT', (22, 36))\n",
      "(19, 'Alessandro', 'NAME_STUDENT', (262, 271))\n",
      "(19, 'Alessandro', 'NAME_STUDENT', (420, 429))\n",
      "(20, 'Sindy Samaca', 'NAME_STUDENT', (32, 43))\n",
      "(22, 'Gianni', 'NAME_STUDENT', (934, 939))\n",
      "(56, 'Nadine Born', 'NAME_STUDENT', (53, 63))\n",
      "(80, 'Karol Ferreira', 'NAME_STUDENT', (2, 15))\n",
      "(80, 'Karol Ferreira', 'NAME_STUDENT', (2304, 2317))\n",
      "(80, 'Karol Ferreira', 'NAME_STUDENT', (2322, 2335))\n",
      "(86, 'Eladio Amaya', 'NAME_STUDENT', (37, 48))\n",
      "(88, 'Rakesh Singh', 'NAME_STUDENT', (61, 72))\n",
      "(93, 'Silvia Villalobos', 'NAME_STUDENT', (0, 16))\n",
      "(99, 'Francesco Boscolo', 'NAME_STUDENT', (38, 54))\n"
     ]
    }
   ],
   "source": [
    "entities = parse_essays(df[:100])\n",
    "for item in entities:\n",
    "    print(item)"
   ]
  },
  {
   "cell_type": "code",
   "execution_count": 49,
   "metadata": {},
   "outputs": [
    {
     "name": "stdout",
     "output_type": "stream",
     "text": [
      "First few examples:\n",
      "Characters 36-47 in essay 4: Henry Acosta\n",
      "First and last characters are: H a\n",
      "\n",
      "Characters 52-65 in essay 7: Nathalie Sylla\n",
      "First and last characters are: N a\n",
      "\n",
      "Characters 2281-2294 in essay 7: Nathalie Sylla\n",
      "First and last characters are: N a\n",
      "\n",
      "All good\n"
     ]
    }
   ],
   "source": [
    "print(\"First few examples:\")\n",
    "print(\"Characters 36-47 in essay 4:\", df.loc[4].full_text[36:48])\n",
    "# confirm no starting or trailing whitespace\n",
    "first = df.loc[4].full_text[36]\n",
    "last = df.loc[4].full_text[47]\n",
    "print(\"First and last characters are:\", first, last)\n",
    "print()\n",
    "\n",
    "print(\"Characters 52-65 in essay 7:\", df.loc[7].full_text[52:66])\n",
    "first = df.loc[7].full_text[52]\n",
    "last = df.loc[7].full_text[65]\n",
    "print(\"First and last characters are:\", first, last)\n",
    "print()\n",
    "\n",
    "print(\"Characters 2281-2294 in essay 7:\", df.loc[7].full_text[2281:2295])\n",
    "first = df.loc[7].full_text[2281]\n",
    "last = df.loc[7].full_text[2294]\n",
    "print(\"First and last characters are:\", first, last)\n",
    "print()\n",
    "\n",
    "# Test if indices are working properly\n",
    "for i, entity_text, label, (start, end) in entities:\n",
    "    full_text = df.loc[i].full_text\n",
    "    assert(entity_text == full_text[start:end+1])\n",
    "print(\"All good\")"
   ]
  },
  {
   "cell_type": "code",
   "execution_count": 47,
   "metadata": {},
   "outputs": [
    {
     "name": "stdout",
     "output_type": "stream",
     "text": [
      "(3391, 'Diana Vazquez', 'NAME_STUDENT', (27, 39))\n",
      "(3661, 'Julio Emad', 'NAME_STUDENT', (3943, 3952))\n",
      "(6187, 'Gino Schiavo', 'NAME_STUDENT', (0, 11))\n",
      "(7137, 'Jamal Wahab', 'NAME_STUDENT', (126, 136))\n",
      "(7222, 'Dharmendra Shakya', 'NAME_STUDENT', (6, 22))\n",
      "(7729, 'Oliver Falkenberg', 'NAME_STUDENT', (4539, 4555))\n",
      "(11083, 'https://www.youtube.com/watch?v=Mo-fuWQb8oK', 'URL_PERSONAL', (6211, 6253))\n",
      "(11451, 'Margarita Bonilla', 'NAME_STUDENT', (111, 127))\n",
      "(11644, 'Nicole Horvath', 'NAME_STUDENT', (41, 54))\n",
      "(13971, 'Vino Jan', 'NAME_STUDENT', (80, 87))\n",
      "(14108, 'Fortuna', 'NAME_STUDENT', (106, 112))\n",
      "(14108, 'Fortuna', 'NAME_STUDENT', (2111, 2117))\n",
      "(14108, 'david00@yahoo.com', 'EMAIL', (2156, 2172))\n",
      "(14108, 'jenniferwright@yahoo.com', 'EMAIL', (205, 228))\n",
      "(14265, 'Mohan Ullah', 'NAME_STUDENT', (14, 24))\n",
      "(14265, 'Mohan Ullah', 'NAME_STUDENT', (2247, 2257))\n",
      "(14265, 'davislori@yahoo.com', 'EMAIL', (73, 91))\n",
      "(14682, 'Liam Singh', 'NAME_STUDENT', (13, 22))\n",
      "(14956, 'Carlos Valencia', 'NAME_STUDENT', (94, 108))\n",
      "(16492, 'Marco De Martino', 'NAME_STUDENT', (53, 68))\n",
      "(22336, 'Meh Singh', 'NAME_STUDENT', (28, 36))\n",
      "(22336, 'Meh Singh', 'NAME_STUDENT', (2007, 2015))\n",
      "(22422, 'Mahesh Sah', 'NAME_STUDENT', (0, 9))\n",
      "All good\n"
     ]
    }
   ],
   "source": [
    "entities = parse_essays(df.sample(100))\n",
    "for item in entities:\n",
    "    print(item)\n",
    "\n",
    "# Test if indices are working properly\n",
    "for i, entity_text, label, (start, end) in entities:\n",
    "    full_text = df.loc[i].full_text\n",
    "    assert(entity_text == full_text[start:end+1])\n",
    "print(\"All good\")"
   ]
  },
  {
   "cell_type": "code",
   "execution_count": null,
   "metadata": {},
   "outputs": [],
   "source": []
  }
 ],
 "metadata": {
  "kernelspec": {
   "display_name": "Python 3",
   "language": "python",
   "name": "python3"
  },
  "language_info": {
   "codemirror_mode": {
    "name": "ipython",
    "version": 3
   },
   "file_extension": ".py",
   "mimetype": "text/x-python",
   "name": "python",
   "nbconvert_exporter": "python",
   "pygments_lexer": "ipython3",
   "version": "3.12.4"
  },
  "orig_nbformat": 4
 },
 "nbformat": 4,
 "nbformat_minor": 2
}
